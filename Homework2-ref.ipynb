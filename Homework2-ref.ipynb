{
 "cells": [
  {
   "cell_type": "code",
   "execution_count": 78,
   "metadata": {},
   "outputs": [],
   "source": [
    "import numpy as np\n",
    "import operator\n",
    "import math\n",
    "import TreePlot"
   ]
  },
  {
   "cell_type": "code",
   "execution_count": 2,
   "metadata": {},
   "outputs": [
    {
     "data": {
      "text/plain": [
       "array([[0.264185, 0.178456, 0.      ],\n",
       "       [0.409499, 0.213456, 1.      ],\n",
       "       [0.926224, 0.540329, 1.      ],\n",
       "       ...,\n",
       "       [0.285166, 0.956678, 1.      ],\n",
       "       [0.751571, 0.514041, 1.      ],\n",
       "       [0.142654, 0.226182, 1.      ]])"
      ]
     },
     "execution_count": 2,
     "metadata": {},
     "output_type": "execute_result"
    }
   ],
   "source": [
    "tmp = []\n",
    "with open('D1.txt', 'r') as file:\n",
    "    for row in file:\n",
    "        row = row.replace('\\n', '')\n",
    "        tmp.append(row.split(' '))\n",
    "D1 = np.array(tmp).astype('float')\n",
    "D1"
   ]
  },
  {
   "cell_type": "code",
   "execution_count": null,
   "metadata": {},
   "outputs": [],
   "source": [
    "# https://zhuanlan.zhihu.com/p/107788754"
   ]
  },
  {
   "cell_type": "code",
   "execution_count": 3,
   "metadata": {},
   "outputs": [],
   "source": [
    "D1l =  D1.tolist()"
   ]
  },
  {
   "cell_type": "code",
   "execution_count": 4,
   "metadata": {},
   "outputs": [],
   "source": [
    "'''\n",
    "递归创建树\n",
    "'''\n",
    "def createTree(dataSet, labels):\n",
    "    classList = [example[-1] for example in dataSet]    # 获取类别列表\n",
    "\n",
    "    # 假如都是同一类别\n",
    "    if classList.count(classList[0]) == len(classList):\n",
    "        return classList[0]\n",
    "    # 所有属性都已经遍历完或者样本在属性上相同\n",
    "    if (len(dataSet[0]) == 1) or propertyIsSame(dataSet):\n",
    "        return majorityCnt(classList)\n",
    "\n",
    "    bestFeat = chooseBestFeature(dataSet)\n",
    "    bestFeatLable = labels[bestFeat]\n",
    "    decisionTree = {bestFeatLable:{}}\n",
    "    featValues = [example[bestFeat] for example in dataSet]\n",
    "    uniqueVals = set(featValues)\n",
    "    del (labels[bestFeat])\n",
    "    for value in uniqueVals:\n",
    "        subLabels = labels[:]\n",
    "        decisionTree[bestFeatLable][value]  = createTree(splitDataSet(dataSet, bestFeat, value),\n",
    "                                                         subLabels)\n",
    "    return decisionTree"
   ]
  },
  {
   "cell_type": "code",
   "execution_count": 5,
   "metadata": {},
   "outputs": [],
   "source": [
    "'''\n",
    "判断样本在属性集合上取值是否相同\n",
    "'''\n",
    "def propertyIsSame(dataSet):\n",
    "    numFeatures = len(dataSet[0])-1\n",
    "    for i in range(numFeatures):\n",
    "        temp = dataSet[0][i]\n",
    "        for data in dataSet:\n",
    "            if data[i] != temp:\n",
    "                return 0\n",
    "    return 1"
   ]
  },
  {
   "cell_type": "code",
   "execution_count": 6,
   "metadata": {},
   "outputs": [],
   "source": [
    "'''\n",
    "获取数量最多的类别\n",
    "'''\n",
    "def majorityCnt(classList):\n",
    "    classCount = {}\n",
    "    for vote in classList:\n",
    "        if vote not in classCount.keys():\n",
    "            classCount[vote] = 0\n",
    "        classCount[vote] += 1\n",
    "    sortedClassCount = sorted(classCount.items(), key=operator.itemgetter(1), reverse=True)\n",
    "\n",
    "    return sortedClassCount[0][0]"
   ]
  },
  {
   "cell_type": "code",
   "execution_count": 7,
   "metadata": {},
   "outputs": [],
   "source": [
    "'''\n",
    "选择最好的特征，ID3算法\n",
    "'''\n",
    "def chooseBestFeature(dataSet):\n",
    "    numEntries = len(dataSet)\n",
    "    numFeatures = len(dataSet[0])-1 # 特征数\n",
    "    baseEnt = calcShannonEnt(dataSet)   # 总的信息嫡\n",
    "    baseInfoGain = 0.0          # 信息增益\n",
    "    bestFeature = -1            # 最好的特征的Index\n",
    "    for i in range(numFeatures):\n",
    "        featList = [example[i] for example in dataSet]  # 获取该特征的所有特征值\n",
    "        uniqueVals = set(featList)     # 获取特征的不同特征值集合\n",
    "        newEnt = 0.0 # 按照此特征进行分类的信息嫡之和\n",
    "        for val in uniqueVals:\n",
    "            subDataSet = splitDataSet(dataSet, i, val)\n",
    "            prob = len(subDataSet)/float(numEntries)\n",
    "            newEnt += prob * calcShannonEnt(subDataSet)\n",
    "        infoGain = baseEnt - newEnt\n",
    "        if infoGain > baseInfoGain :\n",
    "            baseInfoGain = infoGain\n",
    "            bestFeature = i\n",
    "\n",
    "    return bestFeature"
   ]
  },
  {
   "cell_type": "code",
   "execution_count": 8,
   "metadata": {},
   "outputs": [],
   "source": [
    "'''\n",
    "信息嫡的计算\n",
    "'''\n",
    "def calcShannonEnt(dataSet):\n",
    "    numEntries = len(dataSet)   # 数据集的数量\n",
    "    labelCounts = {}            # label及其数量\n",
    "    # 统计label及对应的数量\n",
    "    for featVec in dataSet:\n",
    "        currentLabel = featVec[-1]\n",
    "        if currentLabel not in labelCounts.keys():\n",
    "            labelCounts[currentLabel] = 0\n",
    "        labelCounts[currentLabel] += 1\n",
    "\n",
    "    # 计算香农嫡\n",
    "    shannonEnt = 0.0    # 香农嫡\n",
    "    for key in labelCounts.keys():\n",
    "        prob = float(labelCounts[key]) / numEntries\n",
    "        shannonEnt -= prob * math.log(prob, 2)\n",
    "    return shannonEnt"
   ]
  },
  {
   "cell_type": "code",
   "execution_count": 9,
   "metadata": {},
   "outputs": [],
   "source": [
    "'''\n",
    "划分出分类后的数据集\n",
    "'''\n",
    "def splitDataSet(dataSet, axis, value):\n",
    "    retDataSet = []\n",
    "    for featVec in dataSet:\n",
    "        if featVec[axis] == value:\n",
    "            reduceFeatVec = featVec[:axis]\n",
    "            reduceFeatVec.extend(featVec[axis+1:])\n",
    "            retDataSet.append(reduceFeatVec)\n",
    "    return retDataSet"
   ]
  },
  {
   "cell_type": "code",
   "execution_count": 66,
   "metadata": {},
   "outputs": [],
   "source": [
    "'''\n",
    "创建数据集\n",
    "'''\n",
    "def createDataSet():\n",
    "    dataSet = [[1, 1, 'yes'],\n",
    "               [1, 1, 'yes'],\n",
    "               [1, 0, 'no'],\n",
    "               [0, 1, 'no'],\n",
    "               [0, 1, 'no']]\n",
    "    labels = ['生存', '脚蹼']\n",
    "    return dataSet, labels"
   ]
  },
  {
   "cell_type": "code",
   "execution_count": 65,
   "metadata": {},
   "outputs": [
    {
     "name": "stdout",
     "output_type": "stream",
     "text": [
      "{'生存': {0: 'no', 1: {'脚蹼': {0: 'no', 1: 'yes'}}}}\n"
     ]
    },
    {
     "data": {
      "image/png": "[encoded data removed]",
      "text/plain": [
       "<Figure size 432x288 with 1 Axes>"
      ]
     },
     "metadata": {},
     "output_type": "display_data"
    }
   ],
   "source": [
    "# 创建示例数据集\n",
    "dataSet, labels = createDataSet()\n",
    "\n",
    "# 学习构建决策树\n",
    "tree = createTree(dataSet, labels)\n",
    "print(tree)\n",
    "\n",
    "# 画决策树\n",
    "TreePlot.createPlot(tree)"
   ]
  },
  {
   "cell_type": "code",
   "execution_count": 52,
   "metadata": {},
   "outputs": [
    {
     "data": {
      "text/plain": [
       "[1, 1, 'yes']"
      ]
     },
     "execution_count": 52,
     "metadata": {},
     "output_type": "execute_result"
    }
   ],
   "source": [
    "dataSet[0]"
   ]
  },
  {
   "cell_type": "code",
   "execution_count": 39,
   "metadata": {},
   "outputs": [
    {
     "data": {
      "text/plain": [
       "2"
      ]
     },
     "execution_count": 39,
     "metadata": {},
     "output_type": "execute_result"
    }
   ],
   "source": [
    "len(dataSet[0])-1"
   ]
  },
  {
   "cell_type": "code",
   "execution_count": 54,
   "metadata": {},
   "outputs": [
    {
     "data": {
      "text/plain": [
       "3"
      ]
     },
     "execution_count": 54,
     "metadata": {},
     "output_type": "execute_result"
    }
   ],
   "source": [
    "len(dataSet[0])"
   ]
  },
  {
   "cell_type": "code",
   "execution_count": 40,
   "metadata": {},
   "outputs": [
    {
     "data": {
      "text/plain": [
       "[1, 1, 1, 0, 0]"
      ]
     },
     "execution_count": 40,
     "metadata": {},
     "output_type": "execute_result"
    }
   ],
   "source": [
    "FeatList = [example[0] for example in dataSet]\n",
    "FeatList"
   ]
  },
  {
   "cell_type": "code",
   "execution_count": 41,
   "metadata": {},
   "outputs": [
    {
     "data": {
      "text/plain": [
       "{0, 1}"
      ]
     },
     "execution_count": 41,
     "metadata": {},
     "output_type": "execute_result"
    }
   ],
   "source": [
    "set(FeatList)"
   ]
  },
  {
   "cell_type": "code",
   "execution_count": 43,
   "metadata": {},
   "outputs": [
    {
     "data": {
      "text/plain": [
       "[[1, 'yes'], [1, 'yes'], [0, 'no']]"
      ]
     },
     "execution_count": 43,
     "metadata": {},
     "output_type": "execute_result"
    }
   ],
   "source": [
    "splitDataSet(dataSet, 0, 1)"
   ]
  },
  {
   "cell_type": "code",
   "execution_count": 45,
   "metadata": {},
   "outputs": [
    {
     "data": {
      "text/plain": [
       "3"
      ]
     },
     "execution_count": 45,
     "metadata": {},
     "output_type": "execute_result"
    }
   ],
   "source": [
    "len(splitDataSet(dataSet, 0, 1))"
   ]
  },
  {
   "cell_type": "code",
   "execution_count": 47,
   "metadata": {},
   "outputs": [
    {
     "data": {
      "text/plain": [
       "['yes', 'yes', 'no', 'no', 'no']"
      ]
     },
     "execution_count": 47,
     "metadata": {},
     "output_type": "execute_result"
    }
   ],
   "source": [
    "classList = [example[-1] for example in dataSet]    # 获取类别列表\n",
    "classList"
   ]
  },
  {
   "cell_type": "code",
   "execution_count": 74,
   "metadata": {},
   "outputs": [
    {
     "data": {
      "text/plain": [
       "dict"
      ]
     },
     "execution_count": 74,
     "metadata": {},
     "output_type": "execute_result"
    }
   ],
   "source": [
    "classCount = {}\n",
    "type(classCount)"
   ]
  },
  {
   "cell_type": "code",
   "execution_count": 49,
   "metadata": {},
   "outputs": [
    {
     "data": {
      "text/plain": [
       "'yes'"
      ]
     },
     "execution_count": 49,
     "metadata": {},
     "output_type": "execute_result"
    }
   ],
   "source": [
    "classList[0]"
   ]
  },
  {
   "cell_type": "code",
   "execution_count": 75,
   "metadata": {},
   "outputs": [
    {
     "data": {
      "text/plain": [
       "{'yes': 2, 'no': 3}"
      ]
     },
     "execution_count": 75,
     "metadata": {},
     "output_type": "execute_result"
    }
   ],
   "source": [
    "for vote in classList:\n",
    "    if vote not in classCount.keys():\n",
    "        classCount[vote] = 0\n",
    "    classCount[vote] += 1\n",
    "classCount"
   ]
  },
  {
   "cell_type": "code",
   "execution_count": 76,
   "metadata": {},
   "outputs": [
    {
     "data": {
      "text/plain": [
       "[('no', 3), ('yes', 2)]"
      ]
     },
     "execution_count": 76,
     "metadata": {},
     "output_type": "execute_result"
    }
   ],
   "source": [
    "sortedClassCount = sorted(classCount.items(), key=operator.itemgetter(1), reverse=True)\n",
    "sortedClassCount"
   ]
  },
  {
   "cell_type": "code",
   "execution_count": 77,
   "metadata": {},
   "outputs": [
    {
     "data": {
      "text/plain": [
       "'no'"
      ]
     },
     "execution_count": 77,
     "metadata": {},
     "output_type": "execute_result"
    }
   ],
   "source": [
    "sortedClassCount[0][0]"
   ]
  },
  {
   "cell_type": "code",
   "execution_count": 48,
   "metadata": {},
   "outputs": [
    {
     "data": {
      "text/plain": [
       "2"
      ]
     },
     "execution_count": 48,
     "metadata": {},
     "output_type": "execute_result"
    }
   ],
   "source": [
    "classList.count(classList[0])"
   ]
  },
  {
   "cell_type": "code",
   "execution_count": 50,
   "metadata": {},
   "outputs": [
    {
     "ename": "SyntaxError",
     "evalue": "'return' outside function (<ipython-input-50-28c123e9d1c2>, line 3)",
     "output_type": "error",
     "traceback": [
      "\u001b[0;36m  File \u001b[0;32m\"<ipython-input-50-28c123e9d1c2>\"\u001b[0;36m, line \u001b[0;32m3\u001b[0m\n\u001b[0;31m    return classList[0]\u001b[0m\n\u001b[0m    ^\u001b[0m\n\u001b[0;31mSyntaxError\u001b[0m\u001b[0;31m:\u001b[0m 'return' outside function\n"
     ]
    }
   ],
   "source": [
    "# 假如都是同一类别\n",
    "if classList.count(classList[0]) == len(classList):\n",
    "    return classList[0]"
   ]
  },
  {
   "cell_type": "code",
   "execution_count": 62,
   "metadata": {},
   "outputs": [
    {
     "name": "stdout",
     "output_type": "stream",
     "text": [
      "0\n",
      "1\n"
     ]
    },
    {
     "data": {
      "text/plain": [
       "1"
      ]
     },
     "execution_count": 62,
     "metadata": {},
     "output_type": "execute_result"
    }
   ],
   "source": [
    "for i in range(len(dataSet[0])-1):\n",
    "    temp = dataSet[0][i]\n",
    "temp"
   ]
  },
  {
   "cell_type": "code",
   "execution_count": 60,
   "metadata": {},
   "outputs": [
    {
     "data": {
      "text/plain": [
       "range(0, 2)"
      ]
     },
     "execution_count": 60,
     "metadata": {},
     "output_type": "execute_result"
    }
   ],
   "source": [
    "range(len(dataSet[0])-1)"
   ]
  },
  {
   "cell_type": "code",
   "execution_count": 72,
   "metadata": {},
   "outputs": [
    {
     "data": {
      "text/plain": [
       "0"
      ]
     },
     "execution_count": 72,
     "metadata": {},
     "output_type": "execute_result"
    }
   ],
   "source": [
    "a = 1\n",
    "for i in range(len(dataSet[0])-1):\n",
    "        temp = dataSet[0][i]\n",
    "        for data in dataSet:\n",
    "            if data[i] != temp:\n",
    "                a = 0\n",
    "a"
   ]
  },
  {
   "cell_type": "code",
   "execution_count": 69,
   "metadata": {},
   "outputs": [
    {
     "data": {
      "text/plain": [
       "1"
      ]
     },
     "execution_count": 69,
     "metadata": {},
     "output_type": "execute_result"
    }
   ],
   "source": [
    "dataSet[0][1]"
   ]
  },
  {
   "cell_type": "code",
   "execution_count": 14,
   "metadata": {},
   "outputs": [],
   "source": [
    "def createDataSet():\n",
    "    dataSet = D1l\n",
    "    labels = ['x1', 'x2']\n",
    "    return dataSet, labels"
   ]
  },
  {
   "cell_type": "code",
   "execution_count": 15,
   "metadata": {},
   "outputs": [],
   "source": [
    "# 创建示例数据集\n",
    "dataSet, labels = createDataSet()"
   ]
  },
  {
   "cell_type": "code",
   "execution_count": 16,
   "metadata": {},
   "outputs": [
    {
     "data": {
      "text/plain": [
       "[[0.264185, 0.178456, 0.0],\n",
       " [0.409499, 0.213456, 1.0],\n",
       " [0.926224, 0.540329, 1.0],\n",
       " [0.573685, 0.282145, 1.0],\n",
       " [0.953159, 0.608121, 1.0],\n",
       " [0.422326, 0.844277, 1.0],\n",
       " [0.733995, 0.578508, 1.0],\n",
       " [0.528926, 0.395999, 1.0],\n",
       " [0.844507, 0.888243, 1.0],\n",
       " [0.516632, 0.621279, 1.0],\n",
       " [0.613356, 0.913753, 1.0],\n",
       " [0.05193, 0.224059, 1.0],\n",
       " [0.693076, 0.771207, 1.0],\n",
       " [0.218459, 0.0948, 0.0],\n",
       " [0.462623, 0.91613, 1.0],\n",
       " [0.565444, 0.906358, 1.0],\n",
       " [0.709766, 0.990023, 1.0],\n",
       " [0.476188, 0.507265, 1.0],\n",
       " [0.428589, 0.098529, 0.0],\n",
       " [0.916433, 0.603193, 1.0],\n",
       " [0.846905, 0.132193, 0.0],\n",
       " [0.586053, 0.68922, 1.0],\n",
       " [0.483662, 0.495088, 1.0],\n",
       " [0.318465, 0.037164, 0.0],\n",
       " [0.679985, 0.385115, 1.0],\n",
       " [0.546181, 0.817448, 1.0],\n",
       " [0.698597, 0.553553, 1.0],\n",
       " [0.948181, 0.672108, 1.0],\n",
       " [0.291281, 0.623738, 1.0],\n",
       " [0.532965, 0.748927, 1.0],\n",
       " [0.87998, 0.237742, 1.0],\n",
       " [0.759743, 0.195766, 0.0],\n",
       " [0.333399, 0.565892, 1.0],\n",
       " [0.734303, 0.084971, 0.0],\n",
       " [0.11712, 0.040817, 0.0],\n",
       " [0.652226, 0.429767, 1.0],\n",
       " [0.988055, 0.393918, 1.0],\n",
       " [0.397657, 0.647492, 1.0],\n",
       " [0.312022, 0.453745, 1.0],\n",
       " [0.282226, 0.755971, 1.0],\n",
       " [0.495478, 0.587146, 1.0],\n",
       " [0.813524, 0.002516, 0.0],\n",
       " [0.589599, 0.669406, 1.0],\n",
       " [0.672417, 0.972595, 1.0],\n",
       " [0.10117, 0.421915, 1.0],\n",
       " [0.144057, 0.382653, 1.0],\n",
       " [0.265848, 0.211769, 1.0],\n",
       " [0.442704, 0.53247, 1.0],\n",
       " [0.342149, 0.828888, 1.0],\n",
       " [0.964468, 0.482005, 1.0],\n",
       " [0.758639, 0.589456, 1.0],\n",
       " [0.596321, 0.023495, 0.0],\n",
       " [0.271604, 0.263571, 1.0],\n",
       " [0.003089, 0.244161, 1.0],\n",
       " [0.659558, 0.752336, 1.0],\n",
       " [0.641692, 0.294135, 1.0],\n",
       " [0.751421, 0.906103, 1.0],\n",
       " [0.557531, 0.077195, 0.0],\n",
       " [0.473011, 0.085159, 0.0],\n",
       " [0.537144, 0.845261, 1.0],\n",
       " [0.510641, 0.463497, 1.0],\n",
       " [0.399516, 0.386569, 1.0],\n",
       " [0.763216, 0.022219, 0.0],\n",
       " [0.363346, 0.996123, 1.0],\n",
       " [0.239361, 0.547801, 1.0],\n",
       " [0.853358, 0.310025, 1.0],\n",
       " [0.639359, 0.730921, 1.0],\n",
       " [0.780527, 0.32518, 1.0],\n",
       " [0.726116, 0.787976, 1.0],\n",
       " [0.595654, 0.849308, 1.0],\n",
       " [0.895635, 0.316888, 1.0],\n",
       " [0.573858, 0.914265, 1.0],\n",
       " [0.36903, 0.439608, 1.0],\n",
       " [0.524025, 0.25004, 1.0],\n",
       " [0.672655, 0.048617, 0.0],\n",
       " [0.291722, 0.11178, 0.0],\n",
       " [0.64496, 0.058067, 0.0],\n",
       " [0.302418, 0.773956, 1.0],\n",
       " [0.403112, 0.769138, 1.0],\n",
       " [0.349449, 0.643354, 1.0],\n",
       " [0.737764, 0.557693, 1.0],\n",
       " [0.12808, 0.857247, 1.0],\n",
       " [0.996047, 0.907805, 1.0],\n",
       " [0.108973, 0.633621, 1.0],\n",
       " [0.459723, 0.035284, 0.0],\n",
       " [0.810731, 0.406464, 1.0],\n",
       " [0.980625, 0.861303, 1.0],\n",
       " [0.386965, 0.541398, 1.0],\n",
       " [0.276441, 0.529803, 1.0],\n",
       " [0.444465, 0.827395, 1.0],\n",
       " [0.145838, 0.641347, 1.0],\n",
       " [0.78936, 0.170162, 0.0],\n",
       " [0.080888, 0.54764, 1.0],\n",
       " [0.870165, 0.492789, 1.0],\n",
       " [0.555811, 0.686625, 1.0],\n",
       " [0.24446, 0.690596, 1.0],\n",
       " [0.807592, 0.824086, 1.0],\n",
       " [0.70484, 0.480021, 1.0],\n",
       " [0.442641, 0.827116, 1.0],\n",
       " [0.529928, 0.622556, 1.0],\n",
       " [0.315034, 0.855625, 1.0],\n",
       " [0.781415, 0.381832, 1.0],\n",
       " [0.01079, 0.734763, 1.0],\n",
       " [0.609716, 0.415488, 1.0],\n",
       " [0.927818, 0.709132, 1.0],\n",
       " [0.647439, 0.639772, 1.0],\n",
       " [0.186937, 0.40465, 1.0],\n",
       " [0.012141, 0.343379, 1.0],\n",
       " [0.245057, 0.384417, 1.0],\n",
       " [0.589982, 0.287759, 1.0],\n",
       " [0.155174, 0.774611, 1.0],\n",
       " [0.888856, 0.903887, 1.0],\n",
       " [0.343762, 0.242485, 1.0],\n",
       " [0.631875, 0.301156, 1.0],\n",
       " [0.712486, 0.547355, 1.0],\n",
       " [0.802289, 0.25227, 1.0],\n",
       " [0.179475, 0.308695, 1.0],\n",
       " [0.820755, 0.926336, 1.0],\n",
       " [0.761879, 0.35978, 1.0],\n",
       " [0.766598, 0.840708, 1.0],\n",
       " [0.734726, 0.592865, 1.0],\n",
       " [0.756568, 0.327687, 1.0],\n",
       " [0.936298, 0.702006, 1.0],\n",
       " [0.25013, 0.930222, 1.0],\n",
       " [0.154121, 0.979414, 1.0],\n",
       " [0.021497, 0.566464, 1.0],\n",
       " [0.129304, 0.02992, 0.0],\n",
       " [0.603307, 0.908639, 1.0],\n",
       " [0.234224, 0.630806, 1.0],\n",
       " [0.693426, 0.376342, 1.0],\n",
       " [0.90365, 0.791327, 1.0],\n",
       " [0.191197, 0.924324, 1.0],\n",
       " [0.331852, 0.474902, 1.0],\n",
       " [0.447732, 0.904069, 1.0],\n",
       " [0.802159, 0.036245, 0.0],\n",
       " [0.542097, 0.351486, 1.0],\n",
       " [0.011844, 0.715132, 1.0],\n",
       " [0.575232, 0.625298, 1.0],\n",
       " [0.195822, 0.215779, 1.0],\n",
       " [0.569552, 0.666608, 1.0],\n",
       " [0.468389, 0.586399, 1.0],\n",
       " [0.423564, 0.364728, 1.0],\n",
       " [0.854391, 0.110697, 0.0],\n",
       " [0.72305, 0.473712, 1.0],\n",
       " [0.59346, 0.348805, 1.0],\n",
       " [0.257836, 0.559509, 1.0],\n",
       " [0.518197, 0.271455, 1.0],\n",
       " [0.566695, 0.519473, 1.0],\n",
       " [0.213849, 0.428457, 1.0],\n",
       " [0.644387, 0.914609, 1.0],\n",
       " [0.008663, 0.271065, 1.0],\n",
       " [0.001191, 0.62215, 1.0],\n",
       " [0.692777, 0.130103, 0.0],\n",
       " [0.138377, 0.651725, 1.0],\n",
       " [0.078019, 0.021327, 0.0],\n",
       " [0.425026, 0.861474, 1.0],\n",
       " [0.977859, 0.837101, 1.0],\n",
       " [0.427387, 0.677054, 1.0],\n",
       " [0.119508, 0.198552, 0.0],\n",
       " [0.733716, 0.313584, 1.0],\n",
       " [0.099617, 0.621421, 1.0],\n",
       " [0.630027, 0.152316, 0.0],\n",
       " [0.713472, 0.597602, 1.0],\n",
       " [0.537928, 0.818435, 1.0],\n",
       " [0.075502, 0.827159, 1.0],\n",
       " [0.219856, 0.222097, 1.0],\n",
       " [0.995937, 0.97424, 1.0],\n",
       " [0.038661, 0.423691, 1.0],\n",
       " [0.476289, 0.686449, 1.0],\n",
       " [0.331297, 0.4268, 1.0],\n",
       " [0.642607, 0.878823, 1.0],\n",
       " [0.351652, 0.226526, 1.0],\n",
       " [0.776426, 0.804322, 1.0],\n",
       " [0.920029, 0.194628, 0.0],\n",
       " [0.514807, 0.407705, 1.0],\n",
       " [0.400031, 0.183439, 0.0],\n",
       " [0.526695, 0.8102, 1.0],\n",
       " [0.663901, 0.049201, 0.0],\n",
       " [0.35146, 0.706899, 1.0],\n",
       " [0.666741, 0.754347, 1.0],\n",
       " [0.453114, 0.835046, 1.0],\n",
       " [0.92497, 0.435775, 1.0],\n",
       " [0.504098, 0.356947, 1.0],\n",
       " [0.577104, 0.420342, 1.0],\n",
       " [0.184859, 0.195942, 0.0],\n",
       " [0.754701, 0.740561, 1.0],\n",
       " [0.020689, 0.179859, 0.0],\n",
       " [0.907255, 0.488769, 1.0],\n",
       " [0.579935, 0.845011, 1.0],\n",
       " [0.601384, 0.297832, 1.0],\n",
       " [0.973825, 0.258945, 1.0],\n",
       " [0.171441, 0.613409, 1.0],\n",
       " [0.475767, 0.501561, 1.0],\n",
       " [0.751953, 0.065234, 0.0],\n",
       " [0.056893, 0.409902, 1.0],\n",
       " [0.446132, 0.203343, 1.0],\n",
       " [0.206525, 0.328637, 1.0],\n",
       " [0.812497, 0.762191, 1.0],\n",
       " [0.303009, 0.493819, 1.0],\n",
       " [0.839057, 0.768224, 1.0],\n",
       " [0.094909, 0.084355, 0.0],\n",
       " [0.598574, 0.713421, 1.0],\n",
       " [0.334906, 0.956757, 1.0],\n",
       " [0.842076, 0.29515, 1.0],\n",
       " [0.742128, 0.524901, 1.0],\n",
       " [0.737599, 0.87139, 1.0],\n",
       " [0.482814, 0.767475, 1.0],\n",
       " [0.567174, 0.254606, 1.0],\n",
       " [0.07568, 0.842828, 1.0],\n",
       " [0.31204, 0.80315, 1.0],\n",
       " [0.541807, 0.140443, 0.0],\n",
       " [0.652944, 0.758354, 1.0],\n",
       " [0.594398, 0.023504, 0.0],\n",
       " [0.492192, 0.284927, 1.0],\n",
       " [0.379396, 0.935681, 1.0],\n",
       " [0.871884, 0.211397, 1.0],\n",
       " [0.430739, 0.651613, 1.0],\n",
       " [0.216488, 0.907241, 1.0],\n",
       " [0.985759, 0.404344, 1.0],\n",
       " [0.354277, 0.393186, 1.0],\n",
       " [0.531084, 0.353516, 1.0],\n",
       " [0.129899, 0.070116, 0.0],\n",
       " [0.74173, 0.011115, 0.0],\n",
       " [0.133989, 0.297344, 1.0],\n",
       " [0.18238, 0.674332, 1.0],\n",
       " [0.242781, 0.545176, 1.0],\n",
       " [0.553717, 0.691233, 1.0],\n",
       " [0.824704, 0.180211, 0.0],\n",
       " [0.132739, 0.620942, 1.0],\n",
       " [0.869639, 0.520759, 1.0],\n",
       " [0.509506, 0.659512, 1.0],\n",
       " [0.403238, 0.814802, 1.0],\n",
       " [0.490578, 0.323163, 1.0],\n",
       " [0.115787, 0.511496, 1.0],\n",
       " [0.554227, 0.122787, 0.0],\n",
       " [0.526984, 0.794079, 1.0],\n",
       " [0.998453, 0.648719, 1.0],\n",
       " [0.326031, 0.979265, 1.0],\n",
       " [0.228897, 0.809234, 1.0],\n",
       " [0.6273, 0.937581, 1.0],\n",
       " [0.263197, 0.256407, 1.0],\n",
       " [0.074342, 0.55268, 1.0],\n",
       " [0.661972, 0.788727, 1.0],\n",
       " [0.341296, 0.546865, 1.0],\n",
       " [0.506886, 0.610124, 1.0],\n",
       " [0.215711, 0.141008, 0.0],\n",
       " [0.434672, 0.023708, 0.0],\n",
       " [0.604046, 0.568315, 1.0],\n",
       " [0.935954, 0.94788, 1.0],\n",
       " [0.748955, 0.161371, 0.0],\n",
       " [0.885649, 0.487392, 1.0],\n",
       " [0.344197, 0.101957, 0.0],\n",
       " [0.690667, 0.497931, 1.0],\n",
       " [0.922622, 0.038121, 0.0],\n",
       " [0.765794, 0.73102, 1.0],\n",
       " [0.614103, 0.575643, 1.0],\n",
       " [0.203363, 0.384077, 1.0],\n",
       " [0.198487, 0.052191, 0.0],\n",
       " [0.793291, 0.355821, 1.0],\n",
       " [0.851074, 0.828384, 1.0],\n",
       " [0.580294, 0.56356, 1.0],\n",
       " [0.171856, 0.862418, 1.0],\n",
       " [0.743085, 0.489874, 1.0],\n",
       " [0.15657, 0.508024, 1.0],\n",
       " [0.974266, 0.393078, 1.0],\n",
       " [0.216918, 0.093125, 0.0],\n",
       " [0.331258, 0.547074, 1.0],\n",
       " [0.802181, 0.048433, 0.0],\n",
       " [0.9807, 0.020112, 0.0],\n",
       " [0.417008, 0.791671, 1.0],\n",
       " [0.970721, 0.093815, 0.0],\n",
       " [0.493018, 0.447809, 1.0],\n",
       " [0.368879, 0.807259, 1.0],\n",
       " [0.466447, 0.6704, 1.0],\n",
       " [0.025204, 0.396321, 1.0],\n",
       " [0.862299, 0.768871, 1.0],\n",
       " [0.600106, 0.506142, 1.0],\n",
       " [0.532246, 0.76442, 1.0],\n",
       " [0.455319, 0.846459, 1.0],\n",
       " [0.075897, 0.604686, 1.0],\n",
       " [0.699823, 0.724222, 1.0],\n",
       " [0.799519, 0.355737, 1.0],\n",
       " [0.107572, 0.050549, 0.0],\n",
       " [0.038951, 0.158715, 0.0],\n",
       " [0.688398, 0.458074, 1.0],\n",
       " [0.006173, 0.852493, 1.0],\n",
       " [0.44858, 0.99924, 1.0],\n",
       " [0.682047, 0.217, 1.0],\n",
       " [0.858187, 0.827503, 1.0],\n",
       " [0.181807, 0.3302, 1.0],\n",
       " [0.721252, 0.629397, 1.0],\n",
       " [0.491125, 0.539125, 1.0],\n",
       " [0.496003, 0.681555, 1.0],\n",
       " [0.058757, 0.349832, 1.0],\n",
       " [0.247358, 0.101737, 0.0],\n",
       " [0.009175, 0.379093, 1.0],\n",
       " [0.211628, 0.475133, 1.0],\n",
       " [0.33712, 0.974586, 1.0],\n",
       " [0.149392, 0.586671, 1.0],\n",
       " [0.097217, 0.801922, 1.0],\n",
       " [0.13155, 0.503147, 1.0],\n",
       " [0.321959, 0.079064, 0.0],\n",
       " [0.602281, 0.858333, 1.0],\n",
       " [0.410879, 0.322197, 1.0],\n",
       " [0.551875, 0.825389, 1.0],\n",
       " [0.012936, 0.067581, 0.0],\n",
       " [0.941396, 0.247726, 1.0],\n",
       " [0.599059, 0.865203, 1.0],\n",
       " [0.936073, 0.107728, 0.0],\n",
       " [0.693621, 0.8842, 1.0],\n",
       " [0.627161, 0.336761, 1.0],\n",
       " [0.282926, 0.852469, 1.0],\n",
       " [0.007471, 0.771588, 1.0],\n",
       " [0.865326, 0.843722, 1.0],\n",
       " [0.383775, 0.945889, 1.0],\n",
       " [0.78909, 0.892881, 1.0],\n",
       " [0.475487, 0.48715, 1.0],\n",
       " [0.148767, 0.960185, 1.0],\n",
       " [0.716866, 0.927423, 1.0],\n",
       " [0.702565, 0.785422, 1.0],\n",
       " [0.938734, 0.715709, 1.0],\n",
       " [0.297294, 0.725998, 1.0],\n",
       " [0.051254, 0.681304, 1.0],\n",
       " [0.78037, 0.585135, 1.0],\n",
       " [0.884221, 0.442841, 1.0],\n",
       " [0.869596, 0.644772, 1.0],\n",
       " [0.807976, 0.870614, 1.0],\n",
       " [0.555553, 0.90373, 1.0],\n",
       " [0.911796, 0.034653, 0.0],\n",
       " [0.449917, 0.380614, 1.0],\n",
       " [0.739106, 0.573848, 1.0],\n",
       " [0.140208, 0.187523, 0.0],\n",
       " [0.353566, 0.275043, 1.0],\n",
       " [0.382987, 0.062027, 0.0],\n",
       " [0.521814, 0.342661, 1.0],\n",
       " [0.842863, 0.646301, 1.0],\n",
       " [0.667834, 0.837043, 1.0],\n",
       " [0.575621, 0.517165, 1.0],\n",
       " [0.742144, 0.920589, 1.0],\n",
       " [0.683078, 0.639504, 1.0],\n",
       " [0.438657, 0.147579, 0.0],\n",
       " [0.297147, 0.520602, 1.0],\n",
       " [0.628528, 0.439171, 1.0],\n",
       " [0.544564, 0.736779, 1.0],\n",
       " [0.582407, 0.670936, 1.0],\n",
       " [0.08797, 0.231523, 1.0],\n",
       " [0.710957, 0.432976, 1.0],\n",
       " [0.581004, 0.158323, 0.0],\n",
       " [0.373285, 0.924682, 1.0],\n",
       " [0.435577, 0.166045, 0.0],\n",
       " [0.750645, 0.314332, 1.0],\n",
       " [0.333162, 0.580521, 1.0],\n",
       " [0.764593, 0.724371, 1.0],\n",
       " [0.985153, 0.335308, 1.0],\n",
       " [0.719413, 0.823319, 1.0],\n",
       " [0.115962, 0.088526, 0.0],\n",
       " [0.648103, 0.737081, 1.0],\n",
       " [0.364292, 0.353163, 1.0],\n",
       " [0.645018, 0.049751, 0.0],\n",
       " [0.199882, 0.033965, 0.0],\n",
       " [0.599896, 0.346899, 1.0],\n",
       " [0.103442, 0.369061, 1.0],\n",
       " [0.010938, 0.64068, 1.0],\n",
       " [0.279469, 0.852773, 1.0],\n",
       " [0.933011, 0.430229, 1.0],\n",
       " [0.591896, 0.581784, 1.0],\n",
       " [0.255882, 0.376664, 1.0],\n",
       " [0.484726, 0.287189, 1.0],\n",
       " [0.904939, 0.677826, 1.0],\n",
       " [0.728289, 0.97101, 1.0],\n",
       " [0.383973, 0.886582, 1.0],\n",
       " [0.514327, 0.989751, 1.0],\n",
       " [0.390606, 0.673526, 1.0],\n",
       " [0.719045, 0.239825, 1.0],\n",
       " [0.104087, 0.043324, 0.0],\n",
       " [0.159997, 0.05881, 0.0],\n",
       " [0.682358, 0.226231, 1.0],\n",
       " [0.740583, 0.684469, 1.0],\n",
       " [0.462273, 0.042931, 0.0],\n",
       " [0.772841, 0.845462, 1.0],\n",
       " [0.372415, 0.854332, 1.0],\n",
       " [0.03981, 0.89472, 1.0],\n",
       " [0.882415, 0.571132, 1.0],\n",
       " [0.977624, 0.986606, 1.0],\n",
       " [0.473574, 0.886446, 1.0],\n",
       " [0.467388, 0.701029, 1.0],\n",
       " [0.354274, 0.591196, 1.0],\n",
       " [0.475006, 0.450859, 1.0],\n",
       " [0.992297, 0.191953, 0.0],\n",
       " [0.153019, 0.842352, 1.0],\n",
       " [0.751985, 0.814777, 1.0],\n",
       " [0.991854, 0.208726, 1.0],\n",
       " [0.147719, 0.454541, 1.0],\n",
       " [0.913671, 0.929223, 1.0],\n",
       " [0.123349, 0.103402, 0.0],\n",
       " [0.235499, 0.146825, 0.0],\n",
       " [0.413143, 0.017809, 0.0],\n",
       " [0.13663, 0.866327, 1.0],\n",
       " [0.478498, 0.943582, 1.0],\n",
       " [0.950867, 0.269373, 1.0],\n",
       " [0.786376, 0.230114, 1.0],\n",
       " [0.953163, 0.890749, 1.0],\n",
       " [0.901493, 0.115011, 0.0],\n",
       " [0.326845, 0.020181, 0.0],\n",
       " [0.266519, 0.666372, 1.0],\n",
       " [0.626347, 0.436126, 1.0],\n",
       " [0.939118, 0.183404, 0.0],\n",
       " [0.323503, 0.52208, 1.0],\n",
       " [0.967501, 0.826038, 1.0],\n",
       " [0.4144, 0.719073, 1.0],\n",
       " [0.103375, 0.663059, 1.0],\n",
       " [0.414526, 0.466321, 1.0],\n",
       " [0.518172, 0.544145, 1.0],\n",
       " [0.928973, 0.599766, 1.0],\n",
       " [0.038794, 0.289096, 1.0],\n",
       " [0.183613, 0.940178, 1.0],\n",
       " [0.418473, 0.852059, 1.0],\n",
       " [0.303008, 0.319017, 1.0],\n",
       " [0.330237, 0.692097, 1.0],\n",
       " [0.999645, 0.9056, 1.0],\n",
       " [0.312818, 0.329943, 1.0],\n",
       " [0.187835, 0.922898, 1.0],\n",
       " [0.668721, 0.687542, 1.0],\n",
       " [0.192853, 0.242718, 1.0],\n",
       " [0.098073, 0.257142, 1.0],\n",
       " [0.552321, 0.787387, 1.0],\n",
       " [0.596653, 0.020224, 0.0],\n",
       " [0.067189, 0.97648, 1.0],\n",
       " [0.774999, 0.216784, 1.0],\n",
       " [0.768694, 0.822044, 1.0],\n",
       " [0.645317, 0.892693, 1.0],\n",
       " [0.905322, 0.824429, 1.0],\n",
       " [0.422263, 0.272863, 1.0],\n",
       " [0.856131, 0.733753, 1.0],\n",
       " [0.021117, 0.537975, 1.0],\n",
       " [0.776161, 0.678525, 1.0],\n",
       " [0.718686, 0.266454, 1.0],\n",
       " [0.681013, 0.920152, 1.0],\n",
       " [0.362395, 0.227954, 1.0],\n",
       " [0.631186, 0.080984, 0.0],\n",
       " [0.719893, 0.358076, 1.0],\n",
       " [0.376938, 0.014241, 0.0],\n",
       " [0.398189, 0.362757, 1.0],\n",
       " [0.695484, 0.149466, 0.0],\n",
       " [0.68258, 0.906733, 1.0],\n",
       " [0.745996, 0.682511, 1.0],\n",
       " [0.619303, 0.839215, 1.0],\n",
       " [0.122316, 0.286357, 1.0],\n",
       " [0.56673, 0.013259, 0.0],\n",
       " [0.087137, 0.691639, 1.0],\n",
       " [0.514388, 0.004651, 0.0],\n",
       " [0.151844, 0.870267, 1.0],\n",
       " [0.988166, 0.932189, 1.0],\n",
       " [0.856742, 0.700401, 1.0],\n",
       " [0.165379, 0.524227, 1.0],\n",
       " [0.207694, 0.869056, 1.0],\n",
       " [0.819282, 0.532699, 1.0],\n",
       " [0.675281, 0.01533, 0.0],\n",
       " [0.391055, 0.652656, 1.0],\n",
       " [0.134907, 0.565425, 1.0],\n",
       " [0.337514, 0.496417, 1.0],\n",
       " [0.224141, 0.067419, 0.0],\n",
       " [0.872212, 0.583189, 1.0],\n",
       " [0.359956, 0.713038, 1.0],\n",
       " [0.516619, 0.488786, 1.0],\n",
       " [0.015223, 0.628603, 1.0],\n",
       " [0.43274, 0.509791, 1.0],\n",
       " [0.387877, 0.265586, 1.0],\n",
       " [0.072324, 0.565673, 1.0],\n",
       " [0.433407, 0.017279, 0.0],\n",
       " [0.823891, 0.064042, 0.0],\n",
       " [0.001943, 0.660931, 1.0],\n",
       " [0.207862, 0.899837, 1.0],\n",
       " [0.527255, 0.94156, 1.0],\n",
       " [0.806941, 0.594965, 1.0],\n",
       " [0.754788, 0.719535, 1.0],\n",
       " [0.355109, 0.669933, 1.0],\n",
       " [0.409632, 0.292407, 1.0],\n",
       " [0.379663, 0.811356, 1.0],\n",
       " [0.574533, 0.308869, 1.0],\n",
       " [0.827145, 0.877906, 1.0],\n",
       " [0.784928, 0.642025, 1.0],\n",
       " [0.33669, 0.455982, 1.0],\n",
       " [0.462739, 0.259927, 1.0],\n",
       " [0.858249, 0.989349, 1.0],\n",
       " [0.930621, 0.5149, 1.0],\n",
       " [0.889918, 0.142814, 0.0],\n",
       " [0.154389, 0.597138, 1.0],\n",
       " [0.573929, 0.363539, 1.0],\n",
       " [0.0291, 0.641355, 1.0],\n",
       " [0.774708, 0.746868, 1.0],\n",
       " [0.663326, 0.510655, 1.0],\n",
       " [0.271896, 0.997067, 1.0],\n",
       " [0.523914, 0.305597, 1.0],\n",
       " [0.238791, 0.994026, 1.0],\n",
       " [0.948248, 0.725534, 1.0],\n",
       " [0.661398, 0.221612, 1.0],\n",
       " [0.712493, 0.81159, 1.0],\n",
       " [0.043506, 0.939042, 1.0],\n",
       " [0.38866, 0.469402, 1.0],\n",
       " [0.317377, 0.484425, 1.0],\n",
       " [0.230276, 0.122932, 0.0],\n",
       " [0.831402, 0.929783, 1.0],\n",
       " [0.208086, 0.795463, 1.0],\n",
       " [0.959119, 0.692273, 1.0],\n",
       " [0.770059, 0.07857, 0.0],\n",
       " [0.2761, 0.732549, 1.0],\n",
       " [0.691637, 0.28847, 1.0],\n",
       " [0.802215, 0.199014, 0.0],\n",
       " [0.59704, 0.071286, 0.0],\n",
       " [0.701317, 0.076435, 0.0],\n",
       " [0.567378, 0.115444, 0.0],\n",
       " [0.210573, 0.959929, 1.0],\n",
       " [0.254088, 0.209059, 1.0],\n",
       " [0.991322, 0.76431, 1.0],\n",
       " [0.092508, 0.724814, 1.0],\n",
       " [0.721172, 0.408558, 1.0],\n",
       " [0.01228, 0.602084, 1.0],\n",
       " [0.804468, 0.933303, 1.0],\n",
       " [0.504611, 0.684022, 1.0],\n",
       " [0.708463, 0.350062, 1.0],\n",
       " [0.891131, 0.650656, 1.0],\n",
       " [0.444162, 0.211203, 1.0],\n",
       " [0.262488, 0.236254, 1.0],\n",
       " [0.13547, 0.707584, 1.0],\n",
       " [0.031172, 0.93649, 1.0],\n",
       " [0.425377, 0.888389, 1.0],\n",
       " [0.174139, 0.429422, 1.0],\n",
       " [0.324806, 0.766604, 1.0],\n",
       " [0.710245, 0.120226, 0.0],\n",
       " [0.078791, 0.453956, 1.0],\n",
       " [0.872565, 0.242425, 1.0],\n",
       " [0.845998, 0.670466, 1.0],\n",
       " [0.085653, 0.57773, 1.0],\n",
       " [0.874148, 0.02316, 0.0],\n",
       " [0.219192, 0.112657, 0.0],\n",
       " [0.467125, 0.389828, 1.0],\n",
       " [0.855833, 0.210054, 1.0],\n",
       " [0.388819, 0.394907, 1.0],\n",
       " [0.3221, 0.254199, 1.0],\n",
       " [0.845595, 0.206311, 1.0],\n",
       " [0.706152, 0.284698, 1.0],\n",
       " [0.37021, 0.619987, 1.0],\n",
       " [0.877732, 0.963419, 1.0],\n",
       " [0.408486, 0.632865, 1.0],\n",
       " [0.48325, 0.396857, 1.0],\n",
       " [0.3262, 0.849855, 1.0],\n",
       " [0.397342, 0.844912, 1.0],\n",
       " [0.4069, 0.477121, 1.0],\n",
       " [0.200601, 0.688392, 1.0],\n",
       " [0.261142, 0.247008, 1.0],\n",
       " [0.701588, 0.571634, 1.0],\n",
       " [0.314277, 0.045529, 0.0],\n",
       " [0.131942, 0.393193, 1.0],\n",
       " [0.019313, 0.182927, 0.0],\n",
       " [0.568455, 0.858095, 1.0],\n",
       " [0.701387, 0.770631, 1.0],\n",
       " [0.27903, 0.724968, 1.0],\n",
       " [0.094496, 0.580072, 1.0],\n",
       " [0.051403, 0.486125, 1.0],\n",
       " [0.670664, 0.659943, 1.0],\n",
       " [0.324967, 0.632912, 1.0],\n",
       " [0.133002, 0.469397, 1.0],\n",
       " [0.578462, 0.545239, 1.0],\n",
       " [0.459561, 0.367457, 1.0],\n",
       " [0.328165, 0.644431, 1.0],\n",
       " [0.997093, 0.914724, 1.0],\n",
       " [0.109307, 0.164467, 0.0],\n",
       " [0.805307, 0.125487, 0.0],\n",
       " [0.798204, 0.330834, 1.0],\n",
       " [0.316087, 0.382838, 1.0],\n",
       " [0.717351, 0.080798, 0.0],\n",
       " [0.658593, 0.561473, 1.0],\n",
       " [0.995037, 0.872603, 1.0],\n",
       " [0.782597, 0.762436, 1.0],\n",
       " [0.23804, 0.501499, 1.0],\n",
       " [0.586857, 0.524117, 1.0],\n",
       " [0.208779, 0.046161, 0.0],\n",
       " [0.506939, 0.189092, 0.0],\n",
       " [0.352784, 0.847863, 1.0],\n",
       " [0.615669, 0.723167, 1.0],\n",
       " [0.156809, 0.987924, 1.0],\n",
       " [0.178046, 0.24973, 1.0],\n",
       " [0.598362, 0.920422, 1.0],\n",
       " [0.616452, 0.62482, 1.0],\n",
       " [0.848309, 0.863743, 1.0],\n",
       " [0.234979, 0.242658, 1.0],\n",
       " [0.746587, 0.28798, 1.0],\n",
       " [0.026902, 0.441918, 1.0],\n",
       " [0.13628, 0.876161, 1.0],\n",
       " [0.058416, 0.752836, 1.0],\n",
       " [0.342102, 0.011726, 0.0],\n",
       " [0.747166, 0.309727, 1.0],\n",
       " [0.242247, 0.032009, 0.0],\n",
       " [0.001824, 0.861739, 1.0],\n",
       " [0.346327, 0.1899, 0.0],\n",
       " [0.742171, 0.752664, 1.0],\n",
       " [0.767803, 0.589257, 1.0],\n",
       " [0.634706, 0.823061, 1.0],\n",
       " [0.372495, 0.678007, 1.0],\n",
       " [0.586698, 0.67272, 1.0],\n",
       " [0.351679, 0.386441, 1.0],\n",
       " [0.539874, 0.657858, 1.0],\n",
       " [0.88966, 0.995248, 1.0],\n",
       " [0.11519, 0.911324, 1.0],\n",
       " [0.325404, 0.735983, 1.0],\n",
       " [0.904151, 0.466207, 1.0],\n",
       " [0.076322, 0.084976, 0.0],\n",
       " [0.584054, 0.560468, 1.0],\n",
       " [0.612939, 0.64419, 1.0],\n",
       " [0.261335, 0.867831, 1.0],\n",
       " [0.9117, 0.164995, 0.0],\n",
       " [0.650881, 0.266672, 1.0],\n",
       " [0.036853, 0.441914, 1.0],\n",
       " [0.699269, 0.549969, 1.0],\n",
       " [0.411772, 0.572871, 1.0],\n",
       " [0.363453, 0.862496, 1.0],\n",
       " [0.413894, 0.0974, 0.0],\n",
       " [0.423578, 0.46084, 1.0],\n",
       " [0.605538, 0.842437, 1.0],\n",
       " [0.804104, 0.037664, 0.0],\n",
       " [0.718326, 0.501133, 1.0],\n",
       " [0.672235, 0.359306, 1.0],\n",
       " [0.767432, 0.301488, 1.0],\n",
       " [0.799624, 0.328131, 1.0],\n",
       " [0.183275, 0.621477, 1.0],\n",
       " [0.739568, 0.601146, 1.0],\n",
       " [0.795893, 0.681274, 1.0],\n",
       " [0.894892, 0.666984, 1.0],\n",
       " [0.589771, 0.215887, 1.0],\n",
       " [0.955602, 0.538191, 1.0],\n",
       " [0.253787, 0.923064, 1.0],\n",
       " [0.525837, 0.939309, 1.0],\n",
       " [0.67023, 0.047027, 0.0],\n",
       " [0.011643, 0.104085, 0.0],\n",
       " [0.909874, 0.689925, 1.0],\n",
       " [0.577038, 0.740674, 1.0],\n",
       " [0.56061, 0.045985, 0.0],\n",
       " [0.689664, 0.149693, 0.0],\n",
       " [0.302476, 0.232402, 1.0],\n",
       " [0.396833, 0.327933, 1.0],\n",
       " [0.601972, 0.037113, 0.0],\n",
       " [0.208502, 0.425061, 1.0],\n",
       " [0.638158, 0.286044, 1.0],\n",
       " [0.997057, 0.257634, 1.0],\n",
       " [0.039633, 0.94426, 1.0],\n",
       " [0.691872, 0.475754, 1.0],\n",
       " [0.626543, 0.261246, 1.0],\n",
       " [0.484483, 0.810784, 1.0],\n",
       " [0.762571, 0.117627, 0.0],\n",
       " [0.713503, 0.485253, 1.0],\n",
       " [0.577797, 0.521861, 1.0],\n",
       " [0.354691, 0.279095, 1.0],\n",
       " [0.545552, 0.754215, 1.0],\n",
       " [0.980489, 0.473638, 1.0],\n",
       " [0.606303, 0.568612, 1.0],\n",
       " [0.60359, 0.829438, 1.0],\n",
       " [0.815366, 0.051142, 0.0],\n",
       " [0.983444, 0.456039, 1.0],\n",
       " [0.92936, 0.246516, 1.0],\n",
       " [0.841897, 0.069616, 0.0],\n",
       " [0.357304, 0.540154, 1.0],\n",
       " [0.872585, 0.023955, 0.0],\n",
       " [0.536129, 0.497163, 1.0],\n",
       " [0.554569, 0.317303, 1.0],\n",
       " [0.599814, 0.622114, 1.0],\n",
       " [0.479881, 0.105906, 0.0],\n",
       " [0.457307, 0.0448, 0.0],\n",
       " [0.908673, 0.047408, 0.0],\n",
       " [0.52172, 0.15978, 0.0],\n",
       " [0.656826, 0.284653, 1.0],\n",
       " [0.850072, 0.566991, 1.0],\n",
       " [0.074015, 0.498266, 1.0],\n",
       " [0.323091, 0.213746, 1.0],\n",
       " [0.164923, 0.342725, 1.0],\n",
       " [0.027636, 0.738733, 1.0],\n",
       " [0.477451, 0.222374, 1.0],\n",
       " [0.005812, 0.926906, 1.0],\n",
       " [0.407683, 0.914067, 1.0],\n",
       " [0.358269, 0.282692, 1.0],\n",
       " [0.375661, 0.971135, 1.0],\n",
       " [0.374048, 0.384216, 1.0],\n",
       " [0.764397, 0.123445, 0.0],\n",
       " [0.255695, 0.323977, 1.0],\n",
       " [0.914175, 0.655705, 1.0],\n",
       " [0.030544, 0.843211, 1.0],\n",
       " [0.804494, 0.443057, 1.0],\n",
       " [0.257721, 0.04862, 0.0],\n",
       " [0.899216, 0.067004, 0.0],\n",
       " [0.660069, 0.544096, 1.0],\n",
       " [0.204387, 0.832601, 1.0],\n",
       " [0.798375, 0.229114, 1.0],\n",
       " [0.210968, 0.046869, 0.0],\n",
       " [0.958698, 0.118613, 0.0],\n",
       " [0.564599, 0.405818, 1.0],\n",
       " [0.526906, 0.128873, 0.0],\n",
       " [0.308573, 0.537886, 1.0],\n",
       " [0.540735, 0.177232, 0.0],\n",
       " [0.734896, 0.210148, 1.0],\n",
       " [0.943588, 0.562759, 1.0],\n",
       " [0.424892, 0.952215, 1.0],\n",
       " [0.857619, 0.817252, 1.0],\n",
       " [0.737954, 0.734399, 1.0],\n",
       " [0.651382, 0.282746, 1.0],\n",
       " [0.788782, 0.184544, 0.0],\n",
       " [0.484858, 0.384751, 1.0],\n",
       " [0.762084, 0.686544, 1.0],\n",
       " [0.608304, 0.041165, 0.0],\n",
       " [0.539951, 0.370878, 1.0],\n",
       " [0.550773, 0.481971, 1.0],\n",
       " [0.805911, 0.851069, 1.0],\n",
       " [0.207592, 0.328606, 1.0],\n",
       " [0.715754, 0.523818, 1.0],\n",
       " [0.420814, 0.428444, 1.0],\n",
       " [0.585039, 0.843154, 1.0],\n",
       " [0.706089, 0.248417, 1.0],\n",
       " [0.2291, 0.096705, 0.0],\n",
       " [0.595808, 0.512541, 1.0],\n",
       " [0.874878, 0.690554, 1.0],\n",
       " [0.218212, 0.612581, 1.0],\n",
       " [0.162415, 0.878376, 1.0],\n",
       " [0.314034, 0.941512, 1.0],\n",
       " [0.443102, 0.812004, 1.0],\n",
       " [0.69991, 0.617057, 1.0],\n",
       " [0.920815, 0.586085, 1.0],\n",
       " [0.610887, 0.879803, 1.0],\n",
       " [0.755136, 0.900946, 1.0],\n",
       " [0.587429, 0.353405, 1.0],\n",
       " [0.489469, 0.014611, 0.0],\n",
       " [0.792768, 0.658944, 1.0],\n",
       " [0.876105, 0.985066, 1.0],\n",
       " [0.534215, 0.889256, 1.0],\n",
       " [0.742628, 0.067156, 0.0],\n",
       " [0.700521, 0.225167, 1.0],\n",
       " [0.193721, 0.053362, 0.0],\n",
       " [0.656564, 0.281624, 1.0],\n",
       " [0.766923, 0.968591, 1.0],\n",
       " [0.784794, 0.871802, 1.0],\n",
       " [0.913668, 0.705831, 1.0],\n",
       " [0.073551, 0.301498, 1.0],\n",
       " [0.769265, 0.505696, 1.0],\n",
       " [0.061663, 0.637328, 1.0],\n",
       " [0.716352, 0.927873, 1.0],\n",
       " [0.993661, 0.201829, 1.0],\n",
       " [0.357809, 0.301315, 1.0],\n",
       " [0.898746, 0.829256, 1.0],\n",
       " [0.056051, 0.939282, 1.0],\n",
       " [0.764698, 0.922378, 1.0],\n",
       " [0.250655, 0.06864, 0.0],\n",
       " [0.414037, 0.521311, 1.0],\n",
       " [0.584393, 0.427277, 1.0],\n",
       " [0.904238, 0.809602, 1.0],\n",
       " [0.607239, 0.226263, 1.0],\n",
       " [0.348554, 0.430489, 1.0],\n",
       " [0.360075, 0.999283, 1.0],\n",
       " [0.21587, 0.974288, 1.0],\n",
       " [0.549173, 0.583068, 1.0],\n",
       " [0.473575, 0.634201, 1.0],\n",
       " [0.16178, 0.433597, 1.0],\n",
       " [0.01477, 0.393131, 1.0],\n",
       " [0.510281, 0.436269, 1.0],\n",
       " [0.817611, 0.112393, 0.0],\n",
       " [0.53087, 0.231682, 1.0],\n",
       " [0.156995, 0.347624, 1.0],\n",
       " [0.292126, 0.286922, 1.0],\n",
       " [0.927076, 0.223259, 1.0],\n",
       " [0.008861, 0.610651, 1.0],\n",
       " [0.715334, 0.264989, 1.0],\n",
       " [0.570862, 0.733912, 1.0],\n",
       " [0.984574, 0.182889, 0.0],\n",
       " [0.020004, 0.258965, 1.0],\n",
       " [0.344951, 0.508716, 1.0],\n",
       " [0.4491, 0.83155, 1.0],\n",
       " [0.706667, 0.998496, 1.0],\n",
       " [0.365878, 0.453455, 1.0],\n",
       " [0.765328, 0.403821, 1.0],\n",
       " [0.80988, 0.277944, 1.0],\n",
       " [0.26305, 0.525894, 1.0],\n",
       " [0.107739, 0.311561, 1.0],\n",
       " [0.518152, 0.915117, 1.0],\n",
       " [0.737455, 0.59011, 1.0],\n",
       " [0.308173, 0.341607, 1.0],\n",
       " [0.860566, 0.518834, 1.0],\n",
       " [0.148597, 0.505562, 1.0],\n",
       " [0.257235, 0.383147, 1.0],\n",
       " [0.543, 0.910253, 1.0],\n",
       " [0.635115, 0.126042, 0.0],\n",
       " [0.774527, 0.414895, 1.0],\n",
       " [0.064064, 0.690733, 1.0],\n",
       " [0.707992, 0.235638, 1.0],\n",
       " [0.845782, 0.856028, 1.0],\n",
       " [0.168096, 0.144832, 0.0],\n",
       " [0.785964, 0.165293, 0.0],\n",
       " [0.991029, 0.352816, 1.0],\n",
       " [0.533555, 0.790281, 1.0],\n",
       " [0.677921, 0.376304, 1.0],\n",
       " [0.734932, 0.038349, 0.0],\n",
       " [0.02208, 0.295455, 1.0],\n",
       " [0.833004, 0.307138, 1.0],\n",
       " [0.036572, 0.071447, 0.0],\n",
       " [0.446173, 0.03344, 0.0],\n",
       " [0.091038, 0.295094, 1.0],\n",
       " [0.41615, 0.091029, 0.0],\n",
       " [0.760454, 0.158597, 0.0],\n",
       " [0.667307, 0.736346, 1.0],\n",
       " [0.377151, 0.598047, 1.0],\n",
       " [0.889175, 0.510284, 1.0],\n",
       " [0.416586, 0.42165, 1.0],\n",
       " [0.44706, 0.028007, 0.0],\n",
       " [0.972613, 0.778483, 1.0],\n",
       " [0.926174, 0.71258, 1.0],\n",
       " [0.785857, 0.843449, 1.0],\n",
       " [0.270437, 0.578282, 1.0],\n",
       " [0.99489, 0.679168, 1.0],\n",
       " [0.334149, 0.651862, 1.0],\n",
       " [0.031119, 0.243997, 1.0],\n",
       " [0.686432, 0.528554, 1.0],\n",
       " [0.378505, 0.515219, 1.0],\n",
       " [0.723491, 0.523792, 1.0],\n",
       " [0.480855, 0.334276, 1.0],\n",
       " [0.709395, 0.518126, 1.0],\n",
       " [0.182346, 0.599675, 1.0],\n",
       " [0.332423, 0.623702, 1.0],\n",
       " [0.424086, 0.979284, 1.0],\n",
       " [0.554133, 0.026002, 0.0],\n",
       " [0.185138, 0.32097, 1.0],\n",
       " [0.972022, 0.346618, 1.0],\n",
       " [0.235634, 0.674803, 1.0],\n",
       " [0.022057, 0.570904, 1.0],\n",
       " [0.881795, 0.811045, 1.0],\n",
       " [0.913048, 0.752341, 1.0],\n",
       " [0.543874, 0.403742, 1.0],\n",
       " [0.578368, 0.586775, 1.0],\n",
       " [0.625326, 0.398629, 1.0],\n",
       " [0.776206, 0.577197, 1.0],\n",
       " [0.06449, 0.446346, 1.0],\n",
       " [0.335594, 0.495428, 1.0],\n",
       " [0.479226, 0.762785, 1.0],\n",
       " [0.949547, 0.032314, 0.0],\n",
       " [0.955995, 0.991385, 1.0],\n",
       " [0.98868, 0.355547, 1.0],\n",
       " [0.190783, 0.923756, 1.0],\n",
       " [0.171898, 0.845299, 1.0],\n",
       " [0.058648, 0.86596, 1.0],\n",
       " [0.659241, 0.463309, 1.0],\n",
       " [0.780887, 0.446714, 1.0],\n",
       " [0.668236, 0.38578, 1.0],\n",
       " [0.612927, 0.300069, 1.0],\n",
       " [0.010672, 0.653526, 1.0],\n",
       " [0.545334, 0.720375, 1.0],\n",
       " [0.13761, 0.50843, 1.0],\n",
       " [0.519526, 0.982336, 1.0],\n",
       " [0.056754, 0.965381, 1.0],\n",
       " [0.82397, 0.647516, 1.0],\n",
       " [0.941868, 0.817231, 1.0],\n",
       " [0.123956, 0.754522, 1.0],\n",
       " [0.564376, 0.419827, 1.0],\n",
       " [0.363694, 0.527166, 1.0],\n",
       " [0.844778, 0.176784, 0.0],\n",
       " [0.502625, 0.872056, 1.0],\n",
       " [0.710637, 0.214397, 1.0],\n",
       " [0.224487, 0.868784, 1.0],\n",
       " [0.496842, 0.694087, 1.0],\n",
       " [0.462857, 0.038435, 0.0],\n",
       " [0.281469, 0.953603, 1.0],\n",
       " [0.684093, 0.011202, 0.0],\n",
       " [0.496308, 0.467779, 1.0],\n",
       " [0.529071, 0.219306, 1.0],\n",
       " [0.731029, 0.243556, 1.0],\n",
       " [0.390423, 0.840455, 1.0],\n",
       " [0.662287, 0.852799, 1.0],\n",
       " [0.193268, 0.010919, 0.0],\n",
       " [0.373469, 0.21201, 1.0],\n",
       " [0.983369, 0.779883, 1.0],\n",
       " [0.353387, 0.621361, 1.0],\n",
       " [0.583509, 0.544427, 1.0],\n",
       " [0.255876, 0.973887, 1.0],\n",
       " [0.747386, 0.968062, 1.0],\n",
       " [0.876695, 0.498216, 1.0],\n",
       " [0.333583, 0.56953, 1.0],\n",
       " [0.257995, 0.260606, 1.0],\n",
       " [0.122733, 0.363282, 1.0],\n",
       " [0.670888, 0.283726, 1.0],\n",
       " [0.021294, 0.590227, 1.0],\n",
       " [0.176575, 0.836069, 1.0],\n",
       " [0.646199, 0.091861, 0.0],\n",
       " [0.12764, 0.045317, 0.0],\n",
       " [0.535847, 0.835024, 1.0],\n",
       " [0.132591, 0.42293, 1.0],\n",
       " [0.135077, 0.417415, 1.0],\n",
       " [0.154932, 0.848246, 1.0],\n",
       " [0.766052, 0.012205, 0.0],\n",
       " [0.767756, 0.319666, 1.0],\n",
       " [0.522358, 0.509489, 1.0],\n",
       " [0.191498, 0.639422, 1.0],\n",
       " [0.847487, 0.025151, 0.0],\n",
       " [0.312845, 0.180153, 0.0],\n",
       " [0.223782, 0.877836, 1.0],\n",
       " [0.579664, 0.147496, 0.0],\n",
       " [0.65649, 0.199558, 0.0],\n",
       " [0.463268, 0.009214, 0.0],\n",
       " [0.063858, 0.851087, 1.0],\n",
       " [0.947073, 0.424198, 1.0],\n",
       " [0.170469, 0.677585, 1.0],\n",
       " [0.205412, 0.345852, 1.0],\n",
       " [0.627632, 0.202572, 1.0],\n",
       " [0.158085, 0.314395, 1.0],\n",
       " [0.293537, 0.036704, 0.0],\n",
       " [0.930405, 0.910185, 1.0],\n",
       " [0.70289, 0.910808, 1.0],\n",
       " [0.715058, 0.481899, 1.0],\n",
       " [0.113868, 0.958429, 1.0],\n",
       " [0.547309, 0.452557, 1.0],\n",
       " [0.990375, 0.242747, 1.0],\n",
       " [0.185012, 0.466447, 1.0],\n",
       " [0.136427, 0.187915, 0.0],\n",
       " [0.686512, 0.211201, 1.0],\n",
       " [0.368028, 0.450331, 1.0],\n",
       " [0.209373, 0.040869, 0.0],\n",
       " [0.887062, 0.316846, 1.0],\n",
       " [0.864688, 0.294016, 1.0],\n",
       " [0.324071, 0.864637, 1.0],\n",
       " [0.307422, 0.976591, 1.0],\n",
       " [0.607634, 0.389237, 1.0],\n",
       " [0.32256, 0.695047, 1.0],\n",
       " [0.949542, 0.34045, 1.0],\n",
       " [0.824009, 0.445126, 1.0],\n",
       " [0.017516, 0.695513, 1.0],\n",
       " [0.342642, 0.351081, 1.0],\n",
       " [0.749795, 0.927994, 1.0],\n",
       " [0.66058, 0.299045, 1.0],\n",
       " [0.481303, 0.899952, 1.0],\n",
       " [0.154067, 0.233188, 1.0],\n",
       " [0.116004, 0.391584, 1.0],\n",
       " [0.359769, 0.524226, 1.0],\n",
       " [0.496926, 0.425568, 1.0],\n",
       " [0.346942, 0.782831, 1.0],\n",
       " [0.130692, 0.78283, 1.0],\n",
       " [0.143579, 0.270056, 1.0],\n",
       " [0.277065, 0.323829, 1.0],\n",
       " [0.271314, 0.727379, 1.0],\n",
       " [0.570266, 0.8293, 1.0],\n",
       " [0.791203, 0.388233, 1.0],\n",
       " [0.840447, 0.761791, 1.0],\n",
       " [0.520302, 0.803602, 1.0],\n",
       " [0.875014, 0.268859, 1.0],\n",
       " [0.137186, 0.505921, 1.0],\n",
       " [0.289251, 0.865532, 1.0],\n",
       " [0.738249, 0.410392, 1.0],\n",
       " [0.127965, 0.608743, 1.0],\n",
       " [0.4301, 0.541124, 1.0],\n",
       " [0.393053, 0.042287, 0.0],\n",
       " [0.823295, 0.248472, 1.0],\n",
       " [0.149131, 0.592384, 1.0],\n",
       " [0.97171, 0.872263, 1.0],\n",
       " [0.415189, 0.486035, 1.0],\n",
       " [0.176483, 0.396496, 1.0],\n",
       " [0.539354, 0.43617, 1.0],\n",
       " [0.427903, 0.718931, 1.0],\n",
       " [0.499545, 0.526285, 1.0],\n",
       " [0.722766, 0.679218, 1.0],\n",
       " [0.402842, 0.088949, 0.0],\n",
       " [0.857079, 0.02376, 0.0],\n",
       " [0.80366, 0.331123, 1.0],\n",
       " [0.743313, 0.258615, 1.0],\n",
       " [0.611149, 0.19649, 0.0],\n",
       " [0.084845, 0.757389, 1.0],\n",
       " [0.520225, 0.199725, 0.0],\n",
       " [0.421394, 0.303269, 1.0],\n",
       " [0.96027, 0.364218, 1.0],\n",
       " [0.107954, 0.087376, 0.0],\n",
       " [0.738737, 0.013804, 0.0],\n",
       " [0.371416, 0.01022, 0.0],\n",
       " [0.051089, 0.300402, 1.0],\n",
       " [0.755479, 0.062776, 0.0],\n",
       " [0.852791, 0.649452, 1.0],\n",
       " [0.717213, 0.99033, 1.0],\n",
       " [0.710049, 0.987872, 1.0],\n",
       " [0.624729, 0.907298, 1.0],\n",
       " [0.552803, 0.015756, 0.0],\n",
       " [0.260968, 0.60251, 1.0],\n",
       " [0.379976, 0.341817, 1.0],\n",
       " [0.981069, 0.707372, 1.0],\n",
       " [0.161072, 0.768245, 1.0],\n",
       " [0.333232, 0.58971, 1.0],\n",
       " [0.001405, 0.654991, 1.0],\n",
       " [0.195872, 0.122877, 0.0],\n",
       " [0.134694, 0.733772, 1.0],\n",
       " [0.606346, 0.712651, 1.0],\n",
       " [0.139224, 0.547154, 1.0],\n",
       " [0.924543, 0.076672, 0.0],\n",
       " [0.197509, 0.086896, 0.0],\n",
       " [0.352546, 0.855375, 1.0],\n",
       " [0.91411, 0.89197, 1.0],\n",
       " [0.286559, 0.773024, 1.0],\n",
       " [0.21132, 0.737143, 1.0],\n",
       " [0.625005, 0.233578, 1.0],\n",
       " [0.285166, 0.956678, 1.0],\n",
       " [0.751571, 0.514041, 1.0],\n",
       " [0.142654, 0.226182, 1.0]]"
      ]
     },
     "execution_count": 16,
     "metadata": {},
     "output_type": "execute_result"
    }
   ],
   "source": [
    "dataSet"
   ]
  },
  {
   "cell_type": "code",
   "execution_count": 17,
   "metadata": {},
   "outputs": [
    {
     "data": {
      "text/plain": [
       "['x1', 'x2']"
      ]
     },
     "execution_count": 17,
     "metadata": {},
     "output_type": "execute_result"
    }
   ],
   "source": [
    "labels"
   ]
  },
  {
   "cell_type": "code",
   "execution_count": 18,
   "metadata": {},
   "outputs": [
    {
     "name": "stdout",
     "output_type": "stream",
     "text": [
      "{'x1': {0.422326: 1.0, 0.524025: 1.0, 0.333399: 1.0, 0.442704: 1.0, 0.589982: 1.0, 0.216488: 1.0, 0.529928: 1.0, 0.542097: 1.0, 0.807976: 1.0, 0.667834: 1.0, 0.582407: 1.0, 0.415189: 1.0, 0.56673: 0.0, 0.533555: 1.0, 0.333162: 1.0, 0.549173: 1.0, 0.292126: 1.0, 0.738249: 1.0, 0.631186: 0.0, 0.2761: 1.0, 0.719413: 1.0, 0.675281: 0.0, 0.845595: 1.0, 0.706152: 1.0, 0.656564: 1.0, 0.993661: 1.0, 0.539354: 1.0, 0.362395: 1.0, 0.805911: 1.0, 0.583509: 1.0, 0.518152: 1.0, 0.373285: 1.0, 0.764698: 1.0, 0.238791: 1.0, 0.462739: 1.0, 0.805307: 0.0, 0.156809: 1.0, 0.413894: 0.0, 0.715058: 1.0, 0.433407: 0.0, 0.536129: 1.0, 0.833004: 1.0, 0.143579: 1.0, 0.011844: 1.0, 0.553717: 1.0, 0.479881: 0.0, 0.063858: 1.0, 0.749795: 1.0, 0.293537: 0.0, 0.427903: 1.0, 0.804104: 0.0, 0.656826: 1.0, 0.792768: 1.0, 0.416586: 1.0, 0.020689: 0.0, 0.038951: 0.0, 0.398189: 1.0, 0.619303: 1.0, 0.930621: 1.0, 0.909874: 1.0, 0.539951: 1.0, 0.473575: 1.0, 0.624729: 1.0, 0.058757: 1.0, 0.591896: 1.0, 0.739568: 1.0, 0.766923: 1.0, 0.710637: 1.0, 0.154389: 1.0, 0.397342: 1.0, 0.584054: 1.0, 0.393053: 0.0, 0.496003: 1.0, 0.132739: 1.0, 0.297294: 1.0, 0.271604: 1.0, 0.363346: 1.0, 0.154121: 1.0, 0.382987: 0.0, 0.434672: 0.0, 0.067189: 1.0, 0.33669: 1.0, 0.650881: 1.0, 0.577038: 1.0, 0.358269: 1.0, 0.323091: 1.0, 0.784794: 1.0, 0.255882: 1.0, 0.489469: 0.0, 0.567174: 1.0, 0.871884: 1.0, 0.799624: 1.0, 0.009175: 1.0, 0.357809: 1.0, 0.916433: 1.0, 0.998453: 1.0, 0.314034: 1.0, 0.140208: 0.0, 0.913668: 1.0, 0.312845: 0.0, 0.726116: 1.0, 0.514807: 1.0, 0.872212: 1.0, 0.718326: 1.0, 0.13628: 1.0, 0.949542: 1.0, 0.242781: 1.0, 0.554227: 0.0, 0.228897: 1.0, 0.230276: 0.0, 0.223782: 1.0, 0.205412: 1.0, 0.872585: 0.0, 0.554569: 1.0, 0.297147: 1.0, 0.078791: 1.0, 0.70289: 1.0, 0.638158: 1.0, 0.751421: 1.0, 0.346327: 0.0, 0.030544: 1.0, 0.599059: 1.0, 0.701387: 1.0, 0.286559: 1.0, 0.728289: 1.0, 0.824009: 1.0, 0.352546: 1.0, 0.390423: 1.0, 0.862299: 1.0, 0.581004: 0.0, 0.681013: 1.0, 0.980625: 1.0, 0.425026: 1.0, 0.551875: 1.0, 0.569552: 1.0, 0.78909: 1.0, 0.936298: 1.0, 0.776426: 1.0, 0.885649: 1.0, 0.948181: 1.0, 0.11712: 0.0, 0.995037: 1.0, 0.282926: 1.0, 0.555553: 1.0, 0.770059: 0.0, 0.747166: 1.0, 0.02208: 1.0, 0.586053: 1.0, 0.510641: 1.0, 0.854391: 0.0, 0.321959: 0.0, 0.573929: 1.0, 0.80988: 1.0, 0.084845: 1.0, 0.865326: 1.0, 0.716866: 1.0, 0.316087: 1.0, 0.66058: 1.0, 0.953159: 1.0, 0.817611: 0.0, 0.941868: 1.0, 0.210968: 0.0, 0.628528: 1.0, 0.552321: 1.0, 0.543: 1.0, 0.422263: 1.0, 0.2291: 0.0, 0.376938: 0.0, 0.899216: 0.0, 0.308573: 1.0, 0.972613: 1.0, 0.333583: 1.0, 0.719893: 1.0, 0.742171: 1.0, 0.635115: 0.0, 0.519526: 1.0, 0.574533: 1.0, 0.764397: 0.0, 0.479226: 1.0, 0.609716: 1.0, 0.134694: 1.0, 0.080888: 1.0, 0.131942: 1.0, 0.41615: 0.0, 0.737764: 1.0, 0.967501: 1.0, 0.4069: 1.0, 0.793291: 1.0, 0.409632: 1.0, 0.52172: 0.0, 0.197509: 0.0, 0.012936: 0.0, 0.265848: 1.0, 0.943588: 1.0, 0.13155: 1.0, 0.191197: 1.0, 0.644387: 1.0, 0.353566: 1.0, 0.129899: 0.0, 0.483662: 1.0, 0.315034: 1.0, 0.379396: 1.0, 0.341296: 1.0, 0.575621: 1.0, 0.997057: 1.0, 0.651382: 1.0, 0.208779: 0.0, 0.985759: 1.0, 0.68258: 1.0, 0.827145: 1.0, 0.462273: 0.0, 0.764593: 1.0, 0.567378: 0.0, 0.670888: 1.0, 0.104087: 0.0, 0.043506: 1.0, 0.96027: 1.0, 0.804468: 1.0, 0.264185: 0.0, 0.788782: 0.0, 0.058648: 1.0, 0.733716: 1.0, 0.475487: 1.0, 0.959119: 1.0, 0.191498: 1.0, 0.920815: 1.0, 0.235634: 1.0, 0.001943: 1.0, 0.200601: 1.0, 0.537928: 1.0, 0.23804: 1.0, 0.036853: 1.0, 0.158085: 1.0, 0.480855: 1.0, 0.130692: 1.0, 0.137186: 1.0, 0.91411: 1.0, 0.754701: 1.0, 0.682047: 1.0, 0.612939: 1.0, 0.850072: 1.0, 0.552803: 0.0, 0.72305: 1.0, 0.858249: 1.0, 0.709395: 1.0, 0.255876: 1.0, 0.363694: 1.0, 0.855833: 1.0, 0.378505: 1.0, 0.812497: 1.0, 0.414037: 1.0, 0.459723: 0.0, 0.839057: 1.0, 0.514388: 0.0, 0.526906: 0.0, 0.587429: 1.0, 0.887062: 1.0, 0.007471: 1.0, 0.360075: 1.0, 0.24446: 1.0, 0.144057: 1.0, 0.67023: 0.0, 0.257721: 0.0, 0.570266: 1.0, 0.318465: 0.0, 0.87998: 1.0, 0.589599: 1.0, 0.575232: 1.0, 0.44858: 1.0, 0.721252: 1.0, 0.652226: 1.0, 0.312022: 1.0, 0.639359: 1.0, 0.672655: 0.0, 0.408486: 1.0, 0.578462: 1.0, 0.224487: 1.0, 0.413143: 0.0, 0.520225: 0.0, 0.103375: 1.0, 0.534215: 1.0, 0.127965: 1.0, 0.10117: 1.0, 0.108973: 1.0, 0.015223: 1.0, 0.948248: 1.0, 0.261142: 1.0, 0.997093: 1.0, 0.795893: 1.0, 0.281469: 1.0, 0.026902: 1.0, 0.254088: 1.0, 0.791203: 1.0, 0.133002: 1.0, 0.031172: 1.0, 0.82397: 1.0, 0.12808: 1.0, 0.215711: 0.0, 0.149392: 1.0, 0.187835: 1.0, 0.13547: 1.0, 0.085653: 1.0, 0.423578: 1.0, 0.734896: 1.0, 0.510281: 1.0, 0.972022: 1.0, 0.351679: 1.0, 0.950867: 1.0, 0.323503: 1.0, 0.481303: 1.0, 0.123956: 1.0, 0.207862: 1.0, 0.012141: 1.0, 0.335594: 1.0, 0.435577: 0.0, 0.285166: 1.0, 0.400031: 0.0, 0.547309: 1.0, 0.751571: 1.0, 0.478498: 1.0, 0.776161: 1.0, 0.308173: 1.0, 0.171441: 1.0, 0.397657: 1.0, 0.239361: 1.0, 0.195822: 1.0, 0.216918: 0.0, 0.368879: 1.0, 0.171856: 1.0, 0.213849: 1.0, 0.119508: 0.0, 0.354277: 1.0, 0.6273: 1.0, 0.598362: 1.0, 0.99489: 1.0, 0.78037: 1.0, 0.856131: 1.0, 0.005812: 1.0, 0.842863: 1.0, 0.719045: 1.0, 0.234224: 1.0, 0.578368: 1.0, 0.627161: 1.0, 0.207592: 1.0, 0.847487: 0.0, 0.864688: 1.0, 0.234979: 1.0, 0.155174: 1.0, 0.133989: 1.0, 0.802181: 0.0, 0.707992: 1.0, 0.190783: 1.0, 0.496308: 1.0, 0.176575: 1.0, 0.132591: 1.0, 0.607634: 1.0, 0.784928: 1.0, 0.459561: 1.0, 0.717351: 0.0, 0.359769: 1.0, 0.831402: 1.0, 0.279469: 1.0, 0.734932: 0.0, 0.074342: 1.0, 0.115962: 0.0, 0.0291: 1.0, 0.774708: 1.0, 0.608304: 0.0, 0.302476: 1.0, 0.715754: 1.0, 0.59346: 1.0, 0.936073: 0.0, 0.645018: 0.0, 0.908673: 0.0, 0.477451: 1.0, 0.277065: 1.0, 0.600106: 1.0, 0.938734: 1.0, 0.765328: 1.0, 0.614103: 1.0, 0.974266: 1.0, 0.568455: 1.0, 0.072324: 1.0, 0.324071: 1.0, 0.596321: 0.0, 0.595654: 1.0, 0.802159: 0.0, 0.31204: 1.0, 0.742144: 1.0, 0.428589: 0.0, 0.758639: 1.0, 0.693426: 1.0, 0.282226: 1.0, 0.756568: 1.0, 0.991854: 1.0, 0.48325: 1.0, 0.785964: 0.0, 0.780887: 1.0, 0.658593: 1.0, 0.9117: 0.0, 0.122316: 1.0, 0.387877: 1.0, 0.926174: 1.0, 0.904238: 1.0, 0.051403: 1.0, 0.566695: 1.0, 0.467125: 1.0, 0.344951: 1.0, 0.760454: 0.0, 0.564376: 1.0, 0.176483: 1.0, 0.017516: 1.0, 0.449917: 1.0, 0.379976: 1.0, 0.056893: 1.0, 0.430739: 1.0, 0.151844: 1.0, 0.506939: 0.0, 0.253787: 1.0, 0.204387: 1.0, 0.69991: 1.0, 0.898746: 1.0, 0.148597: 1.0, 0.641692: 1.0, 0.579935: 1.0, 0.874878: 1.0, 0.21587: 1.0, 0.159997: 0.0, 0.314277: 0.0, 0.785857: 1.0, 0.9807: 0.0, 0.904939: 1.0, 0.904151: 1.0, 0.01228: 1.0, 0.359956: 1.0, 0.495478: 1.0, 0.647439: 1.0, 0.577104: 1.0, 0.516619: 1.0, 0.767756: 1.0, 0.586857: 1.0, 0.700521: 1.0, 0.134907: 1.0, 0.798204: 1.0, 0.348554: 1.0, 0.331852: 1.0, 0.509506: 1.0, 0.403238: 1.0, 0.466447: 1.0, 0.351652: 1.0, 0.473011: 0.0, 0.476188: 1.0, 0.475006: 1.0, 0.326845: 0.0, 0.219192: 0.0, 0.746587: 1.0, 0.595808: 1.0, 0.036572: 0.0, 0.889918: 0.0, 0.889175: 1.0, 0.537144: 1.0, 0.663326: 1.0, 0.342642: 1.0, 0.601972: 0.0, 0.573858: 1.0, 0.869596: 1.0, 0.4301: 1.0, 0.926224: 1.0, 0.690667: 1.0, 0.751985: 1.0, 0.05193: 1.0, 0.544564: 1.0, 0.774999: 1.0, 0.579664: 0.0, 0.755479: 0.0, 0.941396: 1.0, 0.383973: 1.0, 0.425377: 1.0, 0.991029: 1.0, 0.438657: 0.0, 0.153019: 1.0, 0.858187: 1.0, 0.740583: 1.0, 0.092508: 1.0, 0.324967: 1.0, 0.396833: 1.0, 0.107739: 1.0, 0.496842: 1.0, 0.520302: 1.0, 0.996047: 1.0, 0.235499: 0.0, 0.682358: 1.0, 0.734303: 0.0, 0.851074: 1.0, 0.504611: 1.0, 0.342102: 0.0, 0.010672: 1.0, 0.149131: 1.0, 0.848309: 1.0, 0.365878: 1.0, 0.802215: 0.0, 0.008861: 1.0, 0.693621: 1.0, 0.554133: 0.0, 0.668236: 1.0, 0.374048: 1.0, 0.025204: 1.0, 0.884221: 1.0, 0.516632: 1.0, 0.613356: 1.0, 0.846905: 0.0, 0.692777: 0.0, 0.920029: 0.0, 0.739106: 1.0, 0.895635: 1.0, 0.446132: 1.0, 0.842076: 1.0, 0.661972: 1.0, 0.383775: 1.0, 0.596653: 0.0, 0.913048: 1.0, 0.59704: 0.0, 0.363453: 1.0, 0.26305: 1.0, 0.170469: 1.0, 0.165379: 1.0, 0.443102: 1.0, 0.983369: 1.0, 0.691872: 1.0, 0.927076: 1.0, 0.006173: 1.0, 0.841897: 0.0, 0.877732: 1.0, 0.721172: 1.0, 0.605538: 1.0, 0.525837: 1.0, 0.570862: 1.0, 0.723491: 1.0, 0.203363: 1.0, 0.928973: 1.0, 0.411772: 1.0, 0.612927: 1.0, 0.12764: 0.0, 0.261335: 1.0, 0.354691: 1.0, 0.307422: 1.0, 0.325404: 1.0, 0.21132: 1.0, 0.894892: 1.0, 0.901493: 0.0, 0.670664: 1.0, 0.174139: 1.0, 0.627632: 1.0, 0.01477: 1.0, 0.37021: 1.0, 0.806941: 1.0, 0.708463: 1.0, 0.585039: 1.0, 0.502625: 1.0, 0.207694: 1.0, 0.476289: 1.0, 0.326031: 1.0, 0.36903: 1.0, 0.25013: 1.0, 0.594398: 0.0, 0.001191: 1.0, 0.427387: 1.0, 0.147719: 1.0, 0.414526: 1.0, 0.192853: 1.0, 0.905322: 1.0, 0.823295: 1.0, 0.97171: 1.0, 0.652944: 1.0, 0.844778: 0.0, 0.65649: 0.0, 0.981069: 1.0, 0.257235: 1.0, 0.677921: 1.0, 0.377151: 1.0, 0.819282: 1.0, 0.564599: 1.0, 0.076322: 0.0, 0.667307: 1.0, 0.145838: 1.0, 0.557531: 0.0, 0.186937: 1.0, 0.094909: 0.0, 0.224141: 0.0, 0.094496: 1.0, 0.484483: 1.0, 0.815366: 0.0, 0.019313: 0.0, 0.546181: 1.0, 0.786376: 1.0, 0.710957: 1.0, 0.939118: 0.0, 0.985153: 1.0, 0.615669: 1.0, 0.56061: 0.0, 0.606303: 1.0, 0.444162: 1.0, 0.545334: 1.0, 0.759743: 0.0, 0.751953: 0.0, 0.209373: 0.0, 0.031119: 1.0, 0.354274: 1.0, 0.116004: 1.0, 0.010938: 1.0, 0.403112: 1.0, 0.844507: 1.0, 0.798375: 1.0, 0.713472: 1.0, 0.35146: 1.0, 0.184859: 0.0, 0.601384: 1.0, 0.303009: 1.0, 0.737599: 1.0, 0.679985: 1.0, 0.78936: 0.0, 0.580294: 1.0, 0.15657: 1.0, 0.763216: 0.0, 0.924543: 0.0, 0.193268: 0.0, 0.988166: 1.0, 0.390606: 1.0, 0.4491: 1.0, 0.075897: 1.0, 0.08797: 1.0, 0.565444: 1.0, 0.767432: 1.0, 0.713503: 1.0, 0.255695: 1.0, 0.008663: 1.0, 0.907255: 1.0, 0.88966: 1.0, 0.662287: 1.0, 0.129304: 0.0, 0.781415: 1.0, 0.148767: 1.0, 0.626347: 1.0, 0.098073: 1.0, 0.210573: 1.0, 0.782597: 1.0, 0.218212: 1.0, 0.136427: 0.0, 0.90365: 1.0, 0.504098: 1.0, 0.955602: 1.0, 0.543874: 1.0, 0.418473: 1.0, 0.27903: 1.0, 0.747386: 1.0, 0.099617: 1.0, 0.977859: 1.0, 0.748955: 0.0, 0.011643: 0.0, 0.13761: 1.0, 0.715334: 1.0, 0.346942: 1.0, 0.142654: 1.0, 0.927818: 1.0, 0.447732: 1.0, 0.737954: 1.0, 0.776206: 1.0, 0.766052: 0.0, 0.420814: 1.0, 0.496926: 1.0, 0.606346: 1.0, 0.820755: 1.0, 0.661398: 1.0, 0.260968: 1.0, 0.3262: 1.0, 0.373469: 1.0, 0.078019: 0.0, 0.038661: 1.0, 0.475767: 1.0, 0.482814: 1.0, 0.491125: 1.0, 0.455319: 1.0, 0.409499: 1.0, 0.302418: 1.0, 0.882415: 1.0, 0.343762: 1.0, 0.642607: 1.0, 0.021117: 1.0, 0.271896: 1.0, 0.626543: 1.0, 0.38866: 1.0, 0.762084: 1.0, 0.625005: 1.0, 0.973825: 1.0, 0.602281: 1.0, 0.668721: 1.0, 0.462857: 0.0, 0.109307: 0.0, 0.410879: 1.0, 0.634706: 1.0, 0.499545: 1.0, 0.421394: 1.0, 0.599896: 1.0, 0.625326: 1.0, 0.32256: 1.0, 0.357304: 1.0, 0.386965: 1.0, 0.103442: 1.0, 0.631875: 1.0, 0.13663: 1.0, 0.183613: 1.0, 0.039633: 1.0, 0.375661: 1.0, 0.16178: 1.0, 0.168096: 0.0, 0.424086: 1.0, 0.185138: 1.0, 0.364292: 1.0, 0.3221: 1.0, 0.058416: 1.0, 0.518197: 1.0, 0.532246: 1.0, 0.767803: 1.0, 0.372495: 1.0, 0.324806: 1.0, 0.545552: 1.0, 0.660069: 1.0, 0.061663: 1.0, 0.659558: 1.0, 0.810731: 1.0, 0.888856: 1.0, 0.953163: 1.0, 0.087137: 1.0, 0.761879: 1.0, 0.933011: 1.0, 0.695484: 0.0, 0.317377: 1.0, 0.689664: 0.0, 0.44706: 0.0, 0.686512: 1.0, 0.604046: 1.0, 0.330237: 1.0, 0.881795: 1.0, 0.914175: 1.0, 0.990375: 1.0, 0.526695: 1.0, 0.573685: 1.0, 0.733995: 1.0, 0.528926: 1.0, 0.780527: 1.0, 0.453114: 1.0, 0.869639: 1.0, 0.107572: 0.0, 0.399516: 1.0, 0.555811: 1.0, 0.712486: 1.0, 0.164923: 1.0, 0.742628: 0.0, 0.446173: 0.0, 0.686432: 1.0, 0.852791: 1.0, 0.038794: 1.0, 0.352784: 1.0, 0.027636: 1.0, 0.845782: 1.0, 0.022057: 1.0, 0.391055: 1.0, 0.823891: 0.0, 0.610887: 1.0, 0.122733: 1.0, 0.550773: 1.0, 0.706667: 1.0, 0.262488: 1.0, 0.768694: 1.0, 0.463268: 0.0, 0.218459: 0.0, 0.138377: 1.0, 0.07568: 1.0, 0.247358: 0.0, 0.521814: 1.0, 0.208502: 1.0, 0.162415: 1.0, 0.774527: 1.0, 0.43274: 1.0, 0.876105: 1.0, 0.182346: 1.0, 0.949547: 0.0, 0.135077: 1.0, 0.589771: 1.0, 0.199882: 0.0, 0.075502: 1.0, 0.750645: 1.0, 0.977624: 1.0, 0.983444: 1.0, 0.407683: 1.0, 0.706089: 1.0, 0.091038: 1.0, 0.185012: 1.0, 0.699823: 1.0, 0.599814: 1.0, 0.984574: 0.0, 0.271314: 1.0, 0.289251: 1.0, 0.529071: 1.0, 0.334149: 1.0, 0.276441: 1.0, 0.331297: 1.0, 0.490578: 1.0, 0.493018: 1.0, 0.257836: 1.0, 0.334906: 1.0, 0.492192: 1.0, 0.468389: 1.0, 0.372415: 1.0, 0.473574: 1.0, 0.804494: 1.0, 0.051089: 1.0, 0.388819: 1.0, 0.540735: 0.0, 0.876695: 1.0, 0.402842: 0.0, 0.891131: 1.0, 0.955995: 1.0, 0.123349: 0.0, 0.693076: 1.0, 0.754788: 1.0, 0.523914: 1.0, 0.06449: 1.0, 0.344197: 0.0, 0.762571: 0.0, 0.021294: 1.0, 0.64496: 0.0, 0.970721: 0.0, 0.539874: 1.0, 0.999645: 1.0, 0.701588: 1.0, 0.699269: 1.0, 0.717213: 1.0, 0.211628: 1.0, 0.178046: 1.0, 0.073551: 1.0, 0.913671: 1.0, 0.379663: 1.0, 0.051254: 1.0, 0.020004: 1.0, 0.737455: 1.0, 0.097217: 1.0, 0.4144: 1.0, 0.672235: 1.0, 0.716352: 1.0, 0.743313: 1.0, 0.03981: 1.0, 0.74173: 0.0, 0.922622: 0.0, 0.11519: 1.0, 0.064064: 1.0, 0.535847: 1.0, 0.930405: 1.0, 0.003089: 1.0, 0.527255: 1.0, 0.991322: 1.0, 0.303008: 1.0, 0.853358: 1.0, 0.870165: 1.0, 0.691637: 1.0, 0.457307: 0.0, 0.250655: 0.0, 0.988055: 1.0, 0.663901: 0.0, 0.709766: 1.0, 0.766598: 1.0, 0.92497: 1.0, 0.683078: 1.0, 0.799519: 1.0, 0.813524: 0.0, 0.444465: 1.0, 0.742128: 1.0, 0.349449: 1.0, 0.531084: 1.0, 0.702565: 1.0, 0.518172: 1.0, 0.607239: 1.0, 0.021497: 1.0, 0.807592: 1.0, 0.765794: 1.0, 0.772841: 1.0, 0.467388: 1.0, 0.857619: 1.0, 0.001405: 1.0, 0.195872: 0.0, 0.139224: 1.0, 0.701317: 0.0, 0.947073: 1.0, 0.154067: 1.0, 0.698597: 1.0, 0.688398: 1.0, 0.731029: 1.0, 0.107954: 0.0, 0.270437: 1.0, 0.672417: 1.0, 0.646199: 0.0, 0.722766: 1.0, 0.598574: 1.0, 0.245057: 1.0, 0.206525: 1.0, 0.115787: 1.0, 0.198487: 0.0, 0.183275: 1.0, 0.92936: 1.0, 0.484858: 1.0, 0.113868: 1.0, 0.648103: 1.0, 0.242247: 0.0, 0.958698: 0.0, 0.01079: 1.0, 0.056051: 1.0, 0.935954: 1.0, 0.911796: 0.0, 0.616452: 1.0, 0.368028: 1.0, 0.333232: 1.0, 0.526984: 1.0, 0.33712: 1.0, 0.337514: 1.0, 0.355109: 1.0, 0.171898: 1.0, 0.857079: 0.0, 0.98868: 1.0, 0.541807: 0.0, 0.645317: 1.0, 0.980489: 1.0, 0.584393: 1.0, 0.860566: 1.0, 0.332423: 1.0, 0.734726: 1.0, 0.18238: 1.0, 0.484726: 1.0, 0.712493: 1.0, 0.156995: 1.0, 0.630027: 0.0, 0.586698: 1.0, 0.312818: 1.0, 0.179475: 1.0, 0.417008: 1.0, 0.666741: 1.0, 0.219856: 1.0, 0.342149: 1.0, 0.291722: 0.0, 0.442641: 1.0, 0.802289: 1.0, 0.181807: 1.0, 0.263197: 1.0, 0.718686: 1.0, 0.745996: 1.0, 0.874148: 0.0, 0.424892: 1.0, 0.371416: 0.0, 0.506886: 1.0, 0.514327: 1.0, 0.208086: 1.0, 0.872565: 1.0, 0.845998: 1.0, 0.001824: 1.0, 0.659241: 1.0, 0.291281: 1.0, 0.995937: 1.0, 0.353387: 1.0, 0.154932: 1.0, 0.710049: 1.0, 0.257995: 1.0, 0.074015: 1.0, 0.840447: 1.0, 0.611149: 0.0, 0.193721: 0.0, 0.603307: 1.0, 0.532965: 1.0, 0.70484: 1.0, 0.769265: 1.0, 0.684093: 0.0, 0.423564: 1.0, 0.161072: 1.0, 0.462623: 1.0, 0.743085: 1.0, 0.992297: 0.0, 0.056754: 1.0, 0.266519: 1.0, 0.80366: 1.0, 0.824704: 0.0, 0.856742: 1.0, 0.60359: 1.0, 0.522358: 1.0, 0.710245: 0.0, 0.738737: 0.0, 0.577797: 1.0, 0.328165: 1.0, 0.755136: 1.0, 0.53087: 1.0, 0.875014: 1.0, 0.964468: 1.0, 0.331258: 1.0}}\n"
     ]
    }
   ],
   "source": [
    "# 学习构建决策树\n",
    "tree = createTree(dataSet, labels)\n",
    "print(tree)"
   ]
  },
  {
   "cell_type": "code",
   "execution_count": 19,
   "metadata": {},
   "outputs": [
    {
     "data": {
      "image/png": "[encoded data removed]",
      "text/plain": [
       "<Figure size 432x288 with 1 Axes>"
      ]
     },
     "metadata": {},
     "output_type": "display_data"
    }
   ],
   "source": [
    "# 画决策树\n",
    "TreePlot.createPlot(tree)"
   ]
  },
  {
   "cell_type": "code",
   "execution_count": 33,
   "metadata": {},
   "outputs": [
    {
     "data": {
      "text/plain": [
       "array([[0.264185, 0.178456, 0.      ],\n",
       "       [0.409499, 0.213456, 1.      ],\n",
       "       [0.926224, 0.540329, 1.      ],\n",
       "       [0.573685, 0.282145, 1.      ],\n",
       "       [0.953159, 0.608121, 1.      ],\n",
       "       [0.422326, 0.844277, 1.      ],\n",
       "       [0.733995, 0.578508, 1.      ],\n",
       "       [0.528926, 0.395999, 1.      ],\n",
       "       [0.844507, 0.888243, 1.      ],\n",
       "       [0.516632, 0.621279, 1.      ],\n",
       "       [0.613356, 0.913753, 1.      ],\n",
       "       [0.05193 , 0.224059, 1.      ],\n",
       "       [0.693076, 0.771207, 1.      ],\n",
       "       [0.218459, 0.0948  , 0.      ],\n",
       "       [0.462623, 0.91613 , 1.      ],\n",
       "       [0.565444, 0.906358, 1.      ],\n",
       "       [0.709766, 0.990023, 1.      ],\n",
       "       [0.476188, 0.507265, 1.      ],\n",
       "       [0.428589, 0.098529, 0.      ],\n",
       "       [0.916433, 0.603193, 1.      ],\n",
       "       [0.846905, 0.132193, 0.      ],\n",
       "       [0.586053, 0.68922 , 1.      ],\n",
       "       [0.483662, 0.495088, 1.      ],\n",
       "       [0.318465, 0.037164, 0.      ],\n",
       "       [0.679985, 0.385115, 1.      ],\n",
       "       [0.546181, 0.817448, 1.      ],\n",
       "       [0.698597, 0.553553, 1.      ],\n",
       "       [0.948181, 0.672108, 1.      ],\n",
       "       [0.291281, 0.623738, 1.      ],\n",
       "       [0.532965, 0.748927, 1.      ],\n",
       "       [0.87998 , 0.237742, 1.      ],\n",
       "       [0.759743, 0.195766, 0.      ],\n",
       "       [0.333399, 0.565892, 1.      ],\n",
       "       [0.734303, 0.084971, 0.      ],\n",
       "       [0.11712 , 0.040817, 0.      ],\n",
       "       [0.652226, 0.429767, 1.      ],\n",
       "       [0.988055, 0.393918, 1.      ],\n",
       "       [0.397657, 0.647492, 1.      ],\n",
       "       [0.312022, 0.453745, 1.      ],\n",
       "       [0.282226, 0.755971, 1.      ],\n",
       "       [0.495478, 0.587146, 1.      ],\n",
       "       [0.813524, 0.002516, 0.      ],\n",
       "       [0.589599, 0.669406, 1.      ],\n",
       "       [0.672417, 0.972595, 1.      ],\n",
       "       [0.10117 , 0.421915, 1.      ],\n",
       "       [0.144057, 0.382653, 1.      ],\n",
       "       [0.265848, 0.211769, 1.      ],\n",
       "       [0.442704, 0.53247 , 1.      ],\n",
       "       [0.342149, 0.828888, 1.      ],\n",
       "       [0.964468, 0.482005, 1.      ]])"
      ]
     },
     "execution_count": 33,
     "metadata": {},
     "output_type": "execute_result"
    }
   ],
   "source": [
    "D1s = D1[0:50,:]\n",
    "D1s"
   ]
  },
  {
   "cell_type": "code",
   "execution_count": 34,
   "metadata": {},
   "outputs": [],
   "source": [
    "def createDataSet():\n",
    "    dataSet = D1s.tolist()\n",
    "    labels = ['x1', 'x2']\n",
    "    return dataSet, labels\n",
    "# 创建示例数据集\n",
    "dataSet, labels = createDataSet()"
   ]
  },
  {
   "cell_type": "code",
   "execution_count": 35,
   "metadata": {},
   "outputs": [
    {
     "data": {
      "text/plain": [
       "[[0.264185, 0.178456, 0.0],\n",
       " [0.409499, 0.213456, 1.0],\n",
       " [0.926224, 0.540329, 1.0],\n",
       " [0.573685, 0.282145, 1.0],\n",
       " [0.953159, 0.608121, 1.0],\n",
       " [0.422326, 0.844277, 1.0],\n",
       " [0.733995, 0.578508, 1.0],\n",
       " [0.528926, 0.395999, 1.0],\n",
       " [0.844507, 0.888243, 1.0],\n",
       " [0.516632, 0.621279, 1.0],\n",
       " [0.613356, 0.913753, 1.0],\n",
       " [0.05193, 0.224059, 1.0],\n",
       " [0.693076, 0.771207, 1.0],\n",
       " [0.218459, 0.0948, 0.0],\n",
       " [0.462623, 0.91613, 1.0],\n",
       " [0.565444, 0.906358, 1.0],\n",
       " [0.709766, 0.990023, 1.0],\n",
       " [0.476188, 0.507265, 1.0],\n",
       " [0.428589, 0.098529, 0.0],\n",
       " [0.916433, 0.603193, 1.0],\n",
       " [0.846905, 0.132193, 0.0],\n",
       " [0.586053, 0.68922, 1.0],\n",
       " [0.483662, 0.495088, 1.0],\n",
       " [0.318465, 0.037164, 0.0],\n",
       " [0.679985, 0.385115, 1.0],\n",
       " [0.546181, 0.817448, 1.0],\n",
       " [0.698597, 0.553553, 1.0],\n",
       " [0.948181, 0.672108, 1.0],\n",
       " [0.291281, 0.623738, 1.0],\n",
       " [0.532965, 0.748927, 1.0],\n",
       " [0.87998, 0.237742, 1.0],\n",
       " [0.759743, 0.195766, 0.0],\n",
       " [0.333399, 0.565892, 1.0],\n",
       " [0.734303, 0.084971, 0.0],\n",
       " [0.11712, 0.040817, 0.0],\n",
       " [0.652226, 0.429767, 1.0],\n",
       " [0.988055, 0.393918, 1.0],\n",
       " [0.397657, 0.647492, 1.0],\n",
       " [0.312022, 0.453745, 1.0],\n",
       " [0.282226, 0.755971, 1.0],\n",
       " [0.495478, 0.587146, 1.0],\n",
       " [0.813524, 0.002516, 0.0],\n",
       " [0.589599, 0.669406, 1.0],\n",
       " [0.672417, 0.972595, 1.0],\n",
       " [0.10117, 0.421915, 1.0],\n",
       " [0.144057, 0.382653, 1.0],\n",
       " [0.265848, 0.211769, 1.0],\n",
       " [0.442704, 0.53247, 1.0],\n",
       " [0.342149, 0.828888, 1.0],\n",
       " [0.964468, 0.482005, 1.0]]"
      ]
     },
     "execution_count": 35,
     "metadata": {},
     "output_type": "execute_result"
    }
   ],
   "source": [
    "dataSet"
   ]
  },
  {
   "cell_type": "code",
   "execution_count": 36,
   "metadata": {},
   "outputs": [
    {
     "name": "stdout",
     "output_type": "stream",
     "text": [
      "{'x1': {0.264185: 0.0, 0.926224: 1.0, 0.573685: 1.0, 0.409499: 1.0, 0.953159: 1.0, 0.422326: 1.0, 0.733995: 1.0, 0.528926: 1.0, 0.844507: 1.0, 0.516632: 1.0, 0.948181: 1.0, 0.11712: 0.0, 0.318465: 0.0, 0.87998: 1.0, 0.589599: 1.0, 0.144057: 1.0, 0.586053: 1.0, 0.291281: 1.0, 0.282226: 1.0, 0.10117: 1.0, 0.613356: 1.0, 0.916433: 1.0, 0.846905: 0.0, 0.693076: 1.0, 0.333399: 1.0, 0.565444: 1.0, 0.698597: 1.0, 0.05193: 1.0, 0.672417: 1.0, 0.988055: 1.0, 0.813524: 0.0, 0.342149: 1.0, 0.218459: 0.0, 0.442704: 1.0, 0.964468: 1.0, 0.532965: 1.0, 0.483662: 1.0, 0.462623: 1.0, 0.546181: 1.0, 0.652226: 1.0, 0.312022: 1.0, 0.397657: 1.0, 0.265848: 1.0, 0.428589: 0.0, 0.734303: 0.0, 0.476188: 1.0, 0.679985: 1.0, 0.759743: 0.0, 0.495478: 1.0, 0.709766: 1.0}}\n"
     ]
    },
    {
     "data": {
      "image/png": "[encoded data removed]",
      "text/plain": [
       "<Figure size 432x288 with 1 Axes>"
      ]
     },
     "metadata": {},
     "output_type": "display_data"
    }
   ],
   "source": [
    "# 学习构建决策树\n",
    "tree = createTree(dataSet, labels)\n",
    "print(tree)\n",
    "# 画决策树\n",
    "TreePlot.createPlot(tree)"
   ]
  },
  {
   "cell_type": "code",
   "execution_count": null,
   "metadata": {},
   "outputs": [],
   "source": []
  }
 ],
 "metadata": {
  "kernelspec": {
   "display_name": "Python 3",
   "language": "python",
   "name": "python3"
  },
  "language_info": {
   "codemirror_mode": {
    "name": "ipython",
    "version": 3
   },
   "file_extension": ".py",
   "mimetype": "text/x-python",
   "name": "python",
   "nbconvert_exporter": "python",
   "pygments_lexer": "ipython3",
   "version": "3.6.9"
  },
  "varInspector": {
   "cols": {
    "lenName": 16,
    "lenType": 16,
    "lenVar": 40
   },
   "kernels_config": {
    "python": {
     "delete_cmd_postfix": "",
     "delete_cmd_prefix": "del ",
     "library": "var_list.py",
     "varRefreshCmd": "print(var_dic_list())"
    },
    "r": {
     "delete_cmd_postfix": ") ",
     "delete_cmd_prefix": "rm(",
     "library": "var_list.r",
     "varRefreshCmd": "cat(var_dic_list()) "
    }
   },
   "types_to_exclude": [
    "module",
    "function",
    "builtin_function_or_method",
    "instance",
    "_Feature"
   ],
   "window_display": false
  }
 },
 "nbformat": 4,
 "nbformat_minor": 4
}
