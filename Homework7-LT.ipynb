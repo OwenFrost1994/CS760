{
 "cells": [
  {
   "cell_type": "code",
   "execution_count": 4,
   "metadata": {},
   "outputs": [],
   "source": [
    "import numpy as np\n",
    "import matplotlib.pyplot as plt\n",
    "import matplotlib"
   ]
  },
  {
   "cell_type": "code",
   "execution_count": 6,
   "metadata": {},
   "outputs": [
    {
     "data": {
      "text/plain": [
       "array([[-0.17580442, -0.75587986, -0.67280195, ..., -0.24711621,\n",
       "         0.42369801, -0.56503783],\n",
       "       [ 0.56443233, -0.30004663,  0.40785313, ..., -0.37691668,\n",
       "         0.67499755,  0.28943596],\n",
       "       [ 0.82208906,  0.8436411 ,  0.76834046, ...,  0.48299739,\n",
       "        -0.21416039,  0.18984261],\n",
       "       ...,\n",
       "       [-0.02270218,  0.08345038, -0.03783927, ..., -0.84846256,\n",
       "        -0.67914002,  0.16458835],\n",
       "       [-0.22099582,  0.85777858, -0.71029568, ..., -0.11546921,\n",
       "        -0.69837581, -0.55280471],\n",
       "       [-0.06373058, -0.53246572,  0.95105442, ..., -0.30021206,\n",
       "        -0.09943444,  0.32996036]])"
      ]
     },
     "execution_count": 6,
     "metadata": {},
     "output_type": "execute_result"
    }
   ],
   "source": [
    "data = np.random.uniform(-1,1,(200,10000))\n",
    "data"
   ]
  },
  {
   "cell_type": "code",
   "execution_count": 9,
   "metadata": {},
   "outputs": [
    {
     "data": {
      "image/png": "[encoded data removed]",
      "text/plain": [
       "<Figure size 432x288 with 1 Axes>"
      ]
     },
     "metadata": {
      "needs_background": "light"
     },
     "output_type": "display_data"
    }
   ],
   "source": [
    "plt.hist(data.reshape(200*10000,1), bins=40, facecolor=\"blue\", edgecolor=\"black\", alpha=0.7)\n",
    "plt.xlabel('x')\n",
    "plt.ylabel('Frequency')\n",
    "# 显示图标题\n",
    "plt.title('Histogram')\n",
    "plt.show()"
   ]
  },
  {
   "cell_type": "code",
   "execution_count": 10,
   "metadata": {},
   "outputs": [
    {
     "data": {
      "text/plain": [
       "array([[-1., -1., -1., ..., -1.,  1., -1.],\n",
       "       [ 1., -1.,  1., ..., -1.,  1.,  1.],\n",
       "       [ 1.,  1.,  1., ...,  1., -1.,  1.],\n",
       "       ...,\n",
       "       [-1.,  1., -1., ..., -1., -1.,  1.],\n",
       "       [-1.,  1., -1., ..., -1., -1., -1.],\n",
       "       [-1., -1.,  1., ..., -1., -1.,  1.]])"
      ]
     },
     "execution_count": 10,
     "metadata": {},
     "output_type": "execute_result"
    }
   ],
   "source": [
    "y = np.sign(data)\n",
    "y"
   ]
  },
  {
   "cell_type": "code",
   "execution_count": 23,
   "metadata": {},
   "outputs": [],
   "source": [
    "Rl = []\n",
    "Rsl = []\n",
    "for i in range(10000):\n",
    "    a = min(data[y[:,i]==1,i])\n",
    "    R = abs(0-a)\n",
    "    Rs = R/2\n",
    "    Rl.append(R)\n",
    "    Rsl.append(Rs)"
   ]
  },
  {
   "cell_type": "code",
   "execution_count": 26,
   "metadata": {},
   "outputs": [],
   "source": [
    "RR = np.array(Rl) - np.array(Rsl)"
   ]
  },
  {
   "cell_type": "code",
   "execution_count": 28,
   "metadata": {},
   "outputs": [
    {
     "data": {
      "image/png": "[encoded data removed]",
      "text/plain": [
       "<Figure size 432x288 with 1 Axes>"
      ]
     },
     "metadata": {
      "needs_background": "light"
     },
     "output_type": "display_data"
    }
   ],
   "source": [
    "plt.hist(RR, bins=40, facecolor=\"blue\", edgecolor=\"black\", alpha=0.7)\n",
    "plt.xlabel('x')\n",
    "plt.ylabel('Frequency')\n",
    "# 显示图标题\n",
    "plt.title('Histogram')\n",
    "plt.show()"
   ]
  },
  {
   "cell_type": "code",
   "execution_count": 32,
   "metadata": {},
   "outputs": [
    {
     "data": {
      "text/plain": [
       "0.014733239191645469"
      ]
     },
     "execution_count": 32,
     "metadata": {},
     "output_type": "execute_result"
    }
   ],
   "source": [
    "np.percentile(RR, 95)"
   ]
  },
  {
   "cell_type": "code",
   "execution_count": null,
   "metadata": {},
   "outputs": [],
   "source": []
  }
 ],
 "metadata": {
  "kernelspec": {
   "display_name": "Python 3",
   "language": "python",
   "name": "python3"
  },
  "language_info": {
   "codemirror_mode": {
    "name": "ipython",
    "version": 3
   },
   "file_extension": ".py",
   "mimetype": "text/x-python",
   "name": "python",
   "nbconvert_exporter": "python",
   "pygments_lexer": "ipython3",
   "version": "3.6.9"
  },
  "varInspector": {
   "cols": {
    "lenName": 16,
    "lenType": 16,
    "lenVar": 40
   },
   "kernels_config": {
    "python": {
     "delete_cmd_postfix": "",
     "delete_cmd_prefix": "del ",
     "library": "var_list.py",
     "varRefreshCmd": "print(var_dic_list())"
    },
    "r": {
     "delete_cmd_postfix": ") ",
     "delete_cmd_prefix": "rm(",
     "library": "var_list.r",
     "varRefreshCmd": "cat(var_dic_list()) "
    }
   },
   "types_to_exclude": [
    "module",
    "function",
    "builtin_function_or_method",
    "instance",
    "_Feature"
   ],
   "window_display": false
  }
 },
 "nbformat": 4,
 "nbformat_minor": 4
}
