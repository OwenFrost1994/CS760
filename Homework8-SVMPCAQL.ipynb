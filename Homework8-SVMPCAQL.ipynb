{
 "cells": [
  {
   "cell_type": "code",
   "execution_count": 43,
   "metadata": {},
   "outputs": [],
   "source": [
    "import numpy as np\n",
    "import matplotlib.pyplot as plt"
   ]
  },
  {
   "cell_type": "code",
   "execution_count": 2,
   "metadata": {},
   "outputs": [
    {
     "data": {
      "text/plain": [
       "array([[0., 0., 0., ..., 0., 0., 0.],\n",
       "       [0., 0., 0., ..., 0., 0., 0.],\n",
       "       [0., 0., 0., ..., 0., 0., 0.],\n",
       "       ...,\n",
       "       [0., 0., 0., ..., 0., 0., 0.],\n",
       "       [0., 0., 0., ..., 0., 0., 0.],\n",
       "       [0., 0., 0., ..., 0., 0., 0.]])"
      ]
     },
     "execution_count": 2,
     "metadata": {},
     "output_type": "execute_result"
    }
   ],
   "source": [
    "tmp = []\n",
    "with open('three.txt', 'r') as file:\n",
    "    for row in file:\n",
    "        row = row.replace('\\n', '')\n",
    "        tmp.append(row.split(' '))\n",
    "three = np.array(tmp)[:,0:256].astype('float')\n",
    "three"
   ]
  },
  {
   "cell_type": "code",
   "execution_count": 3,
   "metadata": {},
   "outputs": [
    {
     "data": {
      "text/plain": [
       "array([[0., 0., 8., ..., 0., 0., 0.],\n",
       "       [0., 0., 0., ..., 0., 0., 0.],\n",
       "       [0., 0., 0., ..., 0., 0., 0.],\n",
       "       ...,\n",
       "       [0., 0., 0., ..., 0., 0., 0.],\n",
       "       [0., 0., 0., ..., 0., 0., 0.],\n",
       "       [0., 0., 0., ..., 0., 0., 0.]])"
      ]
     },
     "execution_count": 3,
     "metadata": {},
     "output_type": "execute_result"
    }
   ],
   "source": [
    "tmp = []\n",
    "with open('eight.txt', 'r') as file:\n",
    "    for row in file:\n",
    "        row = row.replace('\\n', '')\n",
    "        tmp.append(row.split(' '))\n",
    "eight = np.array(tmp)[:,0:256].astype('float')\n",
    "eight"
   ]
  },
  {
   "cell_type": "code",
   "execution_count": 4,
   "metadata": {},
   "outputs": [
    {
     "data": {
      "text/plain": [
       "<matplotlib.image.AxesImage at 0x7f18ae86f9b0>"
      ]
     },
     "execution_count": 4,
     "metadata": {},
     "output_type": "execute_result"
    },
    {
     "data": {
      "image/png": "[encoded data removed]",
      "text/plain": [
       "<Figure size 432x288 with 1 Axes>"
      ]
     },
     "metadata": {
      "needs_background": "light"
     },
     "output_type": "display_data"
    }
   ],
   "source": [
    "plt.imshow(three[0,:].reshape(16,16), cmap ='gray')"
   ]
  },
  {
   "cell_type": "code",
   "execution_count": 5,
   "metadata": {},
   "outputs": [
    {
     "data": {
      "text/plain": [
       "<matplotlib.image.AxesImage at 0x7f18ac764cf8>"
      ]
     },
     "execution_count": 5,
     "metadata": {},
     "output_type": "execute_result"
    },
    {
     "data": {
      "image/png": "[encoded data removed]",
      "text/plain": [
       "<Figure size 432x288 with 1 Axes>"
      ]
     },
     "metadata": {
      "needs_background": "light"
     },
     "output_type": "display_data"
    }
   ],
   "source": [
    "plt.imshow(eight[0,:].reshape(16,16), cmap ='gray')"
   ]
  },
  {
   "cell_type": "code",
   "execution_count": 6,
   "metadata": {},
   "outputs": [
    {
     "data": {
      "text/plain": [
       "array([[0., 0., 0., ..., 0., 0., 0.],\n",
       "       [0., 0., 0., ..., 0., 0., 0.],\n",
       "       [0., 0., 0., ..., 0., 0., 0.],\n",
       "       ...,\n",
       "       [0., 0., 0., ..., 0., 0., 0.],\n",
       "       [0., 0., 0., ..., 0., 0., 0.],\n",
       "       [0., 0., 0., ..., 0., 0., 0.]])"
      ]
     },
     "execution_count": 6,
     "metadata": {},
     "output_type": "execute_result"
    }
   ],
   "source": [
    "X = np.append(three, eight, axis = 0)\n",
    "X"
   ]
  },
  {
   "cell_type": "code",
   "execution_count": 7,
   "metadata": {},
   "outputs": [
    {
     "data": {
      "text/plain": [
       "array([[1.125000e+00, 7.407500e+00, 1.073750e+01, 1.240500e+01,\n",
       "        1.300000e+01, 8.740000e+00, 4.425000e+00, 1.982500e+00,\n",
       "        1.210000e+00, 1.772500e+00, 7.930000e+00, 2.152250e+01,\n",
       "        5.016000e+01, 7.359000e+01, 5.625250e+01, 1.088000e+01],\n",
       "       [6.072500e+00, 2.320500e+01, 3.424250e+01, 4.033750e+01,\n",
       "        3.804750e+01, 2.674750e+01, 1.652250e+01, 1.118250e+01,\n",
       "        7.792500e+00, 1.273750e+01, 3.273250e+01, 7.531500e+01,\n",
       "        1.310525e+02, 1.510500e+02, 1.354225e+02, 5.099000e+01],\n",
       "       [1.177000e+01, 4.232500e+01, 4.884000e+01, 4.767000e+01,\n",
       "        4.502500e+01, 3.928500e+01, 2.853750e+01, 2.449500e+01,\n",
       "        2.053250e+01, 2.923500e+01, 5.600750e+01, 8.726000e+01,\n",
       "        9.790000e+01, 1.091350e+02, 1.528475e+02, 8.115250e+01],\n",
       "       [2.128250e+01, 6.212000e+01, 5.795750e+01, 4.396750e+01,\n",
       "        4.019500e+01, 4.418000e+01, 4.457250e+01, 4.449500e+01,\n",
       "        3.987500e+01, 4.953750e+01, 6.778000e+01, 6.733250e+01,\n",
       "        5.388250e+01, 8.416250e+01, 1.689125e+02, 9.492500e+01],\n",
       "       [2.960250e+01, 7.814250e+01, 6.716750e+01, 4.490750e+01,\n",
       "        3.966000e+01, 4.875000e+01, 6.823500e+01, 7.378500e+01,\n",
       "        6.899500e+01, 6.895750e+01, 6.570500e+01, 4.869500e+01,\n",
       "        4.502000e+01, 8.557500e+01, 1.790475e+02, 9.842500e+01],\n",
       "       [3.950500e+01, 1.018225e+02, 7.836750e+01, 5.141250e+01,\n",
       "        4.347500e+01, 5.505750e+01, 8.969500e+01, 1.103475e+02,\n",
       "        1.004125e+02, 7.735750e+01, 5.415500e+01, 4.146750e+01,\n",
       "        4.552500e+01, 8.904000e+01, 1.755100e+02, 9.199000e+01],\n",
       "       [5.179000e+01, 1.266950e+02, 8.744750e+01, 5.037500e+01,\n",
       "        4.132250e+01, 6.049250e+01, 1.090400e+02, 1.438025e+02,\n",
       "        1.224250e+02, 8.170000e+01, 5.211000e+01, 4.080250e+01,\n",
       "        4.822500e+01, 8.709250e+01, 1.648100e+02, 8.321750e+01],\n",
       "       [6.304000e+01, 1.450275e+02, 9.089000e+01, 4.620000e+01,\n",
       "        3.577250e+01, 6.817250e+01, 1.203800e+02, 1.566950e+02,\n",
       "        1.244350e+02, 7.703500e+01, 5.097250e+01, 4.099500e+01,\n",
       "        4.912250e+01, 8.718250e+01, 1.521650e+02, 7.294250e+01],\n",
       "       [7.298500e+01, 1.581050e+02, 9.499250e+01, 4.675750e+01,\n",
       "        4.062500e+01, 7.815750e+01, 1.351225e+02, 1.567175e+02,\n",
       "        1.128100e+02, 6.501250e+01, 4.552250e+01, 4.154250e+01,\n",
       "        5.190750e+01, 8.759000e+01, 1.355325e+02, 5.718750e+01],\n",
       "       [8.122000e+01, 1.652700e+02, 9.325750e+01, 4.575750e+01,\n",
       "        5.227000e+01, 1.000675e+02, 1.484300e+02, 1.395375e+02,\n",
       "        9.243500e+01, 5.422750e+01, 4.376000e+01, 4.884500e+01,\n",
       "        6.035500e+01, 9.260750e+01, 1.178775e+02, 4.040250e+01],\n",
       "       [8.358750e+01, 1.617100e+02, 8.571750e+01, 4.933500e+01,\n",
       "        7.180250e+01, 1.183525e+02, 1.453775e+02, 1.226450e+02,\n",
       "        8.369000e+01, 5.503000e+01, 4.557000e+01, 4.974500e+01,\n",
       "        6.670500e+01, 8.893500e+01, 9.244250e+01, 2.625500e+01],\n",
       "       [8.246500e+01, 1.525575e+02, 8.186750e+01, 6.154500e+01,\n",
       "        9.334250e+01, 1.301500e+02, 1.231700e+02, 9.751750e+01,\n",
       "        7.587000e+01, 6.003500e+01, 5.360250e+01, 5.623250e+01,\n",
       "        6.686250e+01, 7.870250e+01, 6.716500e+01, 1.679750e+01],\n",
       "       [7.437750e+01, 1.454350e+02, 9.112750e+01, 8.783000e+01,\n",
       "        1.170375e+02, 1.247875e+02, 9.417750e+01, 6.846500e+01,\n",
       "        6.467000e+01, 6.283000e+01, 5.724250e+01, 5.750000e+01,\n",
       "        6.224250e+01, 6.607000e+01, 4.495250e+01, 9.577500e+00],\n",
       "       [5.710500e+01, 1.322300e+02, 1.209100e+02, 1.238925e+02,\n",
       "        1.258150e+02, 9.498000e+01, 5.753250e+01, 4.561500e+01,\n",
       "        5.753500e+01, 6.908500e+01, 7.064500e+01, 6.639000e+01,\n",
       "        6.325750e+01, 5.256250e+01, 2.462000e+01, 4.090000e+00],\n",
       "       [3.668500e+01, 1.081100e+02, 1.340975e+02, 1.277400e+02,\n",
       "        9.536000e+01, 5.239500e+01, 2.498750e+01, 2.269250e+01,\n",
       "        3.728250e+01, 5.646250e+01, 6.852250e+01, 6.672750e+01,\n",
       "        5.330500e+01, 3.066250e+01, 9.982500e+00, 7.250000e-01],\n",
       "       [1.343500e+01, 4.127750e+01, 5.830500e+01, 4.980750e+01,\n",
       "        2.941250e+01, 1.293750e+01, 4.612500e+00, 4.622500e+00,\n",
       "        8.177500e+00, 1.421750e+01, 2.055250e+01, 2.426750e+01,\n",
       "        1.702500e+01, 7.322500e+00, 1.397500e+00, 2.500000e-03]])"
      ]
     },
     "execution_count": 7,
     "metadata": {},
     "output_type": "execute_result"
    }
   ],
   "source": [
    "y = X.mean(axis=0)\n",
    "y.reshape(16,16)"
   ]
  },
  {
   "cell_type": "code",
   "execution_count": 8,
   "metadata": {},
   "outputs": [
    {
     "data": {
      "text/plain": [
       "<matplotlib.image.AxesImage at 0x7f18ac6e6f28>"
      ]
     },
     "execution_count": 8,
     "metadata": {},
     "output_type": "execute_result"
    },
    {
     "data": {
      "image/png": "[encoded data removed]",
      "text/plain": [
       "<Figure size 432x288 with 1 Axes>"
      ]
     },
     "metadata": {
      "needs_background": "light"
     },
     "output_type": "display_data"
    }
   ],
   "source": [
    "plt.imshow(y.reshape(16,16), cmap ='gray')"
   ]
  },
  {
   "cell_type": "code",
   "execution_count": 9,
   "metadata": {},
   "outputs": [
    {
     "data": {
      "text/plain": [
       "array([[-1.12500e+00, -7.40750e+00, -1.07375e+01, ..., -7.32250e+00,\n",
       "        -1.39750e+00, -2.50000e-03],\n",
       "       [-1.12500e+00, -7.40750e+00, -1.07375e+01, ..., -7.32250e+00,\n",
       "        -1.39750e+00, -2.50000e-03],\n",
       "       [-1.12500e+00, -7.40750e+00, -1.07375e+01, ..., -7.32250e+00,\n",
       "        -1.39750e+00, -2.50000e-03],\n",
       "       ...,\n",
       "       [-1.12500e+00, -7.40750e+00, -1.07375e+01, ..., -7.32250e+00,\n",
       "        -1.39750e+00, -2.50000e-03],\n",
       "       [-1.12500e+00, -7.40750e+00, -1.07375e+01, ..., -7.32250e+00,\n",
       "        -1.39750e+00, -2.50000e-03],\n",
       "       [-1.12500e+00, -7.40750e+00, -1.07375e+01, ..., -7.32250e+00,\n",
       "        -1.39750e+00, -2.50000e-03]])"
      ]
     },
     "execution_count": 9,
     "metadata": {},
     "output_type": "execute_result"
    }
   ],
   "source": [
    "X_c = X - y\n",
    "X_c"
   ]
  },
  {
   "cell_type": "code",
   "execution_count": 11,
   "metadata": {},
   "outputs": [],
   "source": [
    "n = 400\n",
    "D = 256"
   ]
  },
  {
   "cell_type": "code",
   "execution_count": 21,
   "metadata": {},
   "outputs": [
    {
     "data": {
      "text/plain": [
       "array([[  59.16729323,  142.14943609,   28.68201754,   -7.17857143,\n",
       "         -14.3358396 ],\n",
       "       [ 142.14943609,  878.93879073,  374.13731203,   24.12778195,\n",
       "         -87.12781955],\n",
       "       [  28.68201754,  374.13731203, 1082.9058584 ,  555.2268797 ,\n",
       "          33.72431078],\n",
       "       [  -7.17857143,   24.12778195,  555.2268797 , 1181.24408521,\n",
       "         777.77192982],\n",
       "       [ -14.3358396 ,  -87.12781955,   33.72431078,  777.77192982,\n",
       "        1429.95989975]])"
      ]
     },
     "execution_count": 21,
     "metadata": {},
     "output_type": "execute_result"
    }
   ],
   "source": [
    "S = X_c.T.dot(X_c)/(n-1)\n",
    "S[0:5,0:5]"
   ]
  },
  {
   "cell_type": "code",
   "execution_count": 22,
   "metadata": {},
   "outputs": [],
   "source": [
    "eig,eigv = np.linalg.eig(S)"
   ]
  },
  {
   "cell_type": "code",
   "execution_count": 23,
   "metadata": {},
   "outputs": [
    {
     "data": {
      "text/plain": [
       "<matplotlib.image.AxesImage at 0x7f18ac51fc18>"
      ]
     },
     "execution_count": 23,
     "metadata": {},
     "output_type": "execute_result"
    },
    {
     "data": {
      "image/png": "[encoded data removed]",
      "text/plain": [
       "<Figure size 432x288 with 1 Axes>"
      ]
     },
     "metadata": {
      "needs_background": "light"
     },
     "output_type": "display_data"
    }
   ],
   "source": [
    "plt.imshow(eigv[:,0].reshape(16,16), cmap ='gray')"
   ]
  },
  {
   "cell_type": "code",
   "execution_count": 24,
   "metadata": {},
   "outputs": [
    {
     "data": {
      "text/plain": [
       "<matplotlib.image.AxesImage at 0x7f18ac489a90>"
      ]
     },
     "execution_count": 24,
     "metadata": {},
     "output_type": "execute_result"
    },
    {
     "data": {
      "image/png": "[encoded data removed]",
      "text/plain": [
       "<Figure size 432x288 with 1 Axes>"
      ]
     },
     "metadata": {
      "needs_background": "light"
     },
     "output_type": "display_data"
    }
   ],
   "source": [
    "plt.imshow(eigv[:,1].reshape(16,16), cmap ='gray')"
   ]
  },
  {
   "cell_type": "code",
   "execution_count": 30,
   "metadata": {},
   "outputs": [
    {
     "data": {
      "text/plain": [
       "array([ 136.20872784, -242.62848028])"
      ]
     },
     "execution_count": 30,
     "metadata": {},
     "output_type": "execute_result"
    }
   ],
   "source": [
    "X_c.dot(eigv[:,0:2])[0,:]"
   ]
  },
  {
   "cell_type": "code",
   "execution_count": 31,
   "metadata": {},
   "outputs": [
    {
     "data": {
      "text/plain": [
       "array([-312.68702792,  649.57346086])"
      ]
     },
     "execution_count": 31,
     "metadata": {},
     "output_type": "execute_result"
    }
   ],
   "source": [
    "X_c.dot(eigv[:,0:2])[200,:]"
   ]
  },
  {
   "cell_type": "code",
   "execution_count": 33,
   "metadata": {},
   "outputs": [],
   "source": [
    "XV = X_c.dot(eigv[:,0:2])"
   ]
  },
  {
   "cell_type": "code",
   "execution_count": 42,
   "metadata": {
    "scrolled": false
   },
   "outputs": [
    {
     "data": {
      "text/plain": [
       "<matplotlib.legend.Legend at 0x7f18ac1d5518>"
      ]
     },
     "execution_count": 42,
     "metadata": {},
     "output_type": "execute_result"
    },
    {
     "data": {
      "image/png": "[encoded data removed]",
      "text/plain": [
       "<Figure size 576x576 with 1 Axes>"
      ]
     },
     "metadata": {
      "needs_background": "light"
     },
     "output_type": "display_data"
    }
   ],
   "source": [
    "fig,ax = plt.subplots(1,1,figsize=(8,8))\n",
    "ax.scatter(XV[0:200,0], XV[0:200,1], c = 'r')\n",
    "ax.scatter(XV[200:,0], XV[200:,1], c = 'b')\n",
    "ax.set_xlabel('$coord 1$', fontsize=20)\n",
    "ax.set_ylabel('$coord 2$', fontsize=20)\n",
    "ax.legend(['three','eighr'], fontsize=20)"
   ]
  },
  {
   "cell_type": "code",
   "execution_count": null,
   "metadata": {},
   "outputs": [],
   "source": [
    "s = 'A'\n",
    "a = 0\n",
    "for i in range(200):\n",
    "    None"
   ]
  },
  {
   "cell_type": "code",
   "execution_count": null,
   "metadata": {},
   "outputs": [],
   "source": []
  }
 ],
 "metadata": {
  "kernelspec": {
   "display_name": "Python 3",
   "language": "python",
   "name": "python3"
  },
  "language_info": {
   "codemirror_mode": {
    "name": "ipython",
    "version": 3
   },
   "file_extension": ".py",
   "mimetype": "text/x-python",
   "name": "python",
   "nbconvert_exporter": "python",
   "pygments_lexer": "ipython3",
   "version": "3.6.9"
  },
  "varInspector": {
   "cols": {
    "lenName": 16,
    "lenType": 16,
    "lenVar": 40
   },
   "kernels_config": {
    "python": {
     "delete_cmd_postfix": "",
     "delete_cmd_prefix": "del ",
     "library": "var_list.py",
     "varRefreshCmd": "print(var_dic_list())"
    },
    "r": {
     "delete_cmd_postfix": ") ",
     "delete_cmd_prefix": "rm(",
     "library": "var_list.r",
     "varRefreshCmd": "cat(var_dic_list()) "
    }
   },
   "types_to_exclude": [
    "module",
    "function",
    "builtin_function_or_method",
    "instance",
    "_Feature"
   ],
   "window_display": false
  }
 },
 "nbformat": 4,
 "nbformat_minor": 4
}
