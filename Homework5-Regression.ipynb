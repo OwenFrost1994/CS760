{
 "cells": [
  {
   "cell_type": "code",
   "execution_count": 10,
   "metadata": {},
   "outputs": [],
   "source": [
    "import pandas as pd\n",
    "import numpy as np\n",
    "import matplotlib.pyplot as plt"
   ]
  },
  {
   "cell_type": "code",
   "execution_count": 2,
   "metadata": {},
   "outputs": [],
   "source": [
    "Mendota = pd.read_csv('HW5/MENDOTA.csv')\n",
    "Monona = pd.read_csv('HW5/MONONA.csv')"
   ]
  },
  {
   "cell_type": "code",
   "execution_count": 3,
   "metadata": {},
   "outputs": [
    {
     "data": {
      "text/html": [
       "<div>\n",
       "<style scoped>\n",
       "    .dataframe tbody tr th:only-of-type {\n",
       "        vertical-align: middle;\n",
       "    }\n",
       "\n",
       "    .dataframe tbody tr th {\n",
       "        vertical-align: top;\n",
       "    }\n",
       "\n",
       "    .dataframe thead th {\n",
       "        text-align: right;\n",
       "    }\n",
       "</style>\n",
       "<table border=\"1\" class=\"dataframe\">\n",
       "  <thead>\n",
       "    <tr style=\"text-align: right;\">\n",
       "      <th></th>\n",
       "      <th>WINTER</th>\n",
       "      <th>CLOSED</th>\n",
       "      <th>OPENED</th>\n",
       "      <th>DAYS</th>\n",
       "    </tr>\n",
       "  </thead>\n",
       "  <tbody>\n",
       "    <tr>\n",
       "      <th>0</th>\n",
       "      <td>1855-56</td>\n",
       "      <td>18 Dec</td>\n",
       "      <td>14 Apr</td>\n",
       "      <td>118</td>\n",
       "    </tr>\n",
       "    <tr>\n",
       "      <th>1</th>\n",
       "      <td>1856-57</td>\n",
       "      <td>6 Dec</td>\n",
       "      <td>6 May</td>\n",
       "      <td>151</td>\n",
       "    </tr>\n",
       "    <tr>\n",
       "      <th>2</th>\n",
       "      <td>1857-58</td>\n",
       "      <td>25 Nov</td>\n",
       "      <td>26 Mar</td>\n",
       "      <td>121</td>\n",
       "    </tr>\n",
       "    <tr>\n",
       "      <th>3</th>\n",
       "      <td>1858-59</td>\n",
       "      <td>8 Dec</td>\n",
       "      <td>14 Mar</td>\n",
       "      <td>96</td>\n",
       "    </tr>\n",
       "    <tr>\n",
       "      <th>4</th>\n",
       "      <td>1859-60</td>\n",
       "      <td>7 Dec</td>\n",
       "      <td>26 Mar</td>\n",
       "      <td>110</td>\n",
       "    </tr>\n",
       "    <tr>\n",
       "      <th>...</th>\n",
       "      <td>...</td>\n",
       "      <td>...</td>\n",
       "      <td>...</td>\n",
       "      <td>...</td>\n",
       "    </tr>\n",
       "    <tr>\n",
       "      <th>166</th>\n",
       "      <td>2015-16</td>\n",
       "      <td>11 Jan</td>\n",
       "      <td>13 Mar</td>\n",
       "      <td>62</td>\n",
       "    </tr>\n",
       "    <tr>\n",
       "      <th>167</th>\n",
       "      <td>2016-17</td>\n",
       "      <td>1 Jan</td>\n",
       "      <td>7 Mar</td>\n",
       "      <td>65</td>\n",
       "    </tr>\n",
       "    <tr>\n",
       "      <th>168</th>\n",
       "      <td>2017-18</td>\n",
       "      <td>27 Dec</td>\n",
       "      <td>31 Mar</td>\n",
       "      <td>94</td>\n",
       "    </tr>\n",
       "    <tr>\n",
       "      <th>169</th>\n",
       "      <td>2018-19</td>\n",
       "      <td>15 Dec</td>\n",
       "      <td>21 Dec</td>\n",
       "      <td>---</td>\n",
       "    </tr>\n",
       "    <tr>\n",
       "      <th>170</th>\n",
       "      <td>\"</td>\n",
       "      <td>10 Jan</td>\n",
       "      <td>31 Mar</td>\n",
       "      <td>86</td>\n",
       "    </tr>\n",
       "  </tbody>\n",
       "</table>\n",
       "<p>171 rows × 4 columns</p>\n",
       "</div>"
      ],
      "text/plain": [
       "      WINTER  CLOSED  OPENED  DAYS\n",
       "0    1855-56  18 Dec  14 Apr   118\n",
       "1    1856-57   6 Dec   6 May   151\n",
       "2    1857-58  25 Nov  26 Mar   121\n",
       "3    1858-59   8 Dec  14 Mar    96\n",
       "4    1859-60   7 Dec  26 Mar   110\n",
       "..       ...     ...     ...   ...\n",
       "166  2015-16  11 Jan  13 Mar    62\n",
       "167  2016-17   1 Jan   7 Mar    65\n",
       "168  2017-18  27 Dec  31 Mar    94\n",
       "169  2018-19  15 Dec  21 Dec   ---\n",
       "170        \"  10 Jan  31 Mar    86\n",
       "\n",
       "[171 rows x 4 columns]"
      ]
     },
     "execution_count": 3,
     "metadata": {},
     "output_type": "execute_result"
    }
   ],
   "source": [
    "Mendota = Mendota.dropna(axis=0,how='all')\n",
    "Mendota = Mendota.dropna(axis=1,how='all')\n",
    "Mendota"
   ]
  },
  {
   "cell_type": "code",
   "execution_count": 4,
   "metadata": {},
   "outputs": [
    {
     "data": {
      "text/html": [
       "<div>\n",
       "<style scoped>\n",
       "    .dataframe tbody tr th:only-of-type {\n",
       "        vertical-align: middle;\n",
       "    }\n",
       "\n",
       "    .dataframe tbody tr th {\n",
       "        vertical-align: top;\n",
       "    }\n",
       "\n",
       "    .dataframe thead th {\n",
       "        text-align: right;\n",
       "    }\n",
       "</style>\n",
       "<table border=\"1\" class=\"dataframe\">\n",
       "  <thead>\n",
       "    <tr style=\"text-align: right;\">\n",
       "      <th></th>\n",
       "      <th>WINTER</th>\n",
       "      <th>CLOSED</th>\n",
       "      <th>OPENED</th>\n",
       "      <th>DAYS</th>\n",
       "    </tr>\n",
       "  </thead>\n",
       "  <tbody>\n",
       "    <tr>\n",
       "      <th>0</th>\n",
       "      <td>1855-56</td>\n",
       "      <td>18 Dec</td>\n",
       "      <td>14 Apr</td>\n",
       "      <td>118</td>\n",
       "    </tr>\n",
       "    <tr>\n",
       "      <th>1</th>\n",
       "      <td>1856-57</td>\n",
       "      <td>4 Dec</td>\n",
       "      <td>4 May</td>\n",
       "      <td>151</td>\n",
       "    </tr>\n",
       "    <tr>\n",
       "      <th>2</th>\n",
       "      <td>1857-58</td>\n",
       "      <td>23 Nov</td>\n",
       "      <td>22 Mar</td>\n",
       "      <td>119</td>\n",
       "    </tr>\n",
       "    <tr>\n",
       "      <th>3</th>\n",
       "      <td>1858-59</td>\n",
       "      <td>11 Dec</td>\n",
       "      <td>15 Mar</td>\n",
       "      <td>94</td>\n",
       "    </tr>\n",
       "    <tr>\n",
       "      <th>4</th>\n",
       "      <td>1859-60</td>\n",
       "      <td>6 Dec</td>\n",
       "      <td>26 Mar</td>\n",
       "      <td>111</td>\n",
       "    </tr>\n",
       "    <tr>\n",
       "      <th>...</th>\n",
       "      <td>...</td>\n",
       "      <td>...</td>\n",
       "      <td>...</td>\n",
       "      <td>...</td>\n",
       "    </tr>\n",
       "    <tr>\n",
       "      <th>166</th>\n",
       "      <td>2015-16</td>\n",
       "      <td>11 Jan</td>\n",
       "      <td>13 Mar</td>\n",
       "      <td>62</td>\n",
       "    </tr>\n",
       "    <tr>\n",
       "      <th>167</th>\n",
       "      <td>2016-17</td>\n",
       "      <td>16 Dec</td>\n",
       "      <td>7 Mar</td>\n",
       "      <td>81</td>\n",
       "    </tr>\n",
       "    <tr>\n",
       "      <th>168</th>\n",
       "      <td>2017-18</td>\n",
       "      <td>26 Dec</td>\n",
       "      <td>29 Mar</td>\n",
       "      <td>93</td>\n",
       "    </tr>\n",
       "    <tr>\n",
       "      <th>169</th>\n",
       "      <td>2018-19</td>\n",
       "      <td>11 Dec</td>\n",
       "      <td>28 Dec</td>\n",
       "      <td>---</td>\n",
       "    </tr>\n",
       "    <tr>\n",
       "      <th>170</th>\n",
       "      <td>\"</td>\n",
       "      <td>10 Jan</td>\n",
       "      <td>31 Mar</td>\n",
       "      <td>97</td>\n",
       "    </tr>\n",
       "  </tbody>\n",
       "</table>\n",
       "<p>171 rows × 4 columns</p>\n",
       "</div>"
      ],
      "text/plain": [
       "      WINTER  CLOSED  OPENED DAYS\n",
       "0    1855-56  18 Dec  14 Apr  118\n",
       "1    1856-57   4 Dec   4 May  151\n",
       "2    1857-58  23 Nov  22 Mar  119\n",
       "3    1858-59  11 Dec  15 Mar   94\n",
       "4    1859-60   6 Dec  26 Mar  111\n",
       "..       ...     ...     ...  ...\n",
       "166  2015-16  11 Jan  13 Mar   62\n",
       "167  2016-17  16 Dec   7 Mar   81\n",
       "168  2017-18  26 Dec  29 Mar   93\n",
       "169  2018-19  11 Dec  28 Dec  ---\n",
       "170        \"  10 Jan  31 Mar   97\n",
       "\n",
       "[171 rows x 4 columns]"
      ]
     },
     "execution_count": 4,
     "metadata": {},
     "output_type": "execute_result"
    }
   ],
   "source": [
    "Monona = Monona.dropna(axis=0,how='all')\n",
    "Monona = Monona.dropna(axis=1,how='all')\n",
    "Monona"
   ]
  },
  {
   "cell_type": "code",
   "execution_count": 5,
   "metadata": {},
   "outputs": [
    {
     "data": {
      "text/html": [
       "<div>\n",
       "<style scoped>\n",
       "    .dataframe tbody tr th:only-of-type {\n",
       "        vertical-align: middle;\n",
       "    }\n",
       "\n",
       "    .dataframe tbody tr th {\n",
       "        vertical-align: top;\n",
       "    }\n",
       "\n",
       "    .dataframe thead th {\n",
       "        text-align: right;\n",
       "    }\n",
       "</style>\n",
       "<table border=\"1\" class=\"dataframe\">\n",
       "  <thead>\n",
       "    <tr style=\"text-align: right;\">\n",
       "      <th></th>\n",
       "      <th>WINTER</th>\n",
       "      <th>CLOSED</th>\n",
       "      <th>OPENED</th>\n",
       "      <th>DAYS</th>\n",
       "      <th>YEAR</th>\n",
       "    </tr>\n",
       "  </thead>\n",
       "  <tbody>\n",
       "    <tr>\n",
       "      <th>0</th>\n",
       "      <td>1855-56</td>\n",
       "      <td>18 Dec</td>\n",
       "      <td>14 Apr</td>\n",
       "      <td>118.0</td>\n",
       "      <td>1855.0</td>\n",
       "    </tr>\n",
       "    <tr>\n",
       "      <th>1</th>\n",
       "      <td>1856-57</td>\n",
       "      <td>6 Dec</td>\n",
       "      <td>6 May</td>\n",
       "      <td>151.0</td>\n",
       "      <td>1856.0</td>\n",
       "    </tr>\n",
       "    <tr>\n",
       "      <th>2</th>\n",
       "      <td>1857-58</td>\n",
       "      <td>25 Nov</td>\n",
       "      <td>26 Mar</td>\n",
       "      <td>121.0</td>\n",
       "      <td>1857.0</td>\n",
       "    </tr>\n",
       "    <tr>\n",
       "      <th>3</th>\n",
       "      <td>1858-59</td>\n",
       "      <td>8 Dec</td>\n",
       "      <td>14 Mar</td>\n",
       "      <td>96.0</td>\n",
       "      <td>1858.0</td>\n",
       "    </tr>\n",
       "    <tr>\n",
       "      <th>4</th>\n",
       "      <td>1859-60</td>\n",
       "      <td>7 Dec</td>\n",
       "      <td>26 Mar</td>\n",
       "      <td>110.0</td>\n",
       "      <td>1859.0</td>\n",
       "    </tr>\n",
       "    <tr>\n",
       "      <th>...</th>\n",
       "      <td>...</td>\n",
       "      <td>...</td>\n",
       "      <td>...</td>\n",
       "      <td>...</td>\n",
       "      <td>...</td>\n",
       "    </tr>\n",
       "    <tr>\n",
       "      <th>158</th>\n",
       "      <td>2013-14</td>\n",
       "      <td>16 Dec</td>\n",
       "      <td>12 Apr</td>\n",
       "      <td>117.0</td>\n",
       "      <td>2013.0</td>\n",
       "    </tr>\n",
       "    <tr>\n",
       "      <th>159</th>\n",
       "      <td>2014-15</td>\n",
       "      <td>2 Jan</td>\n",
       "      <td>3 Apr</td>\n",
       "      <td>91.0</td>\n",
       "      <td>2014.0</td>\n",
       "    </tr>\n",
       "    <tr>\n",
       "      <th>160</th>\n",
       "      <td>2015-16</td>\n",
       "      <td>11 Jan</td>\n",
       "      <td>13 Mar</td>\n",
       "      <td>62.0</td>\n",
       "      <td>2015.0</td>\n",
       "    </tr>\n",
       "    <tr>\n",
       "      <th>161</th>\n",
       "      <td>2016-17</td>\n",
       "      <td>1 Jan</td>\n",
       "      <td>7 Mar</td>\n",
       "      <td>65.0</td>\n",
       "      <td>2016.0</td>\n",
       "    </tr>\n",
       "    <tr>\n",
       "      <th>162</th>\n",
       "      <td>2017-18</td>\n",
       "      <td>27 Dec</td>\n",
       "      <td>31 Mar</td>\n",
       "      <td>94.0</td>\n",
       "      <td>2017.0</td>\n",
       "    </tr>\n",
       "  </tbody>\n",
       "</table>\n",
       "<p>163 rows × 5 columns</p>\n",
       "</div>"
      ],
      "text/plain": [
       "      WINTER  CLOSED  OPENED   DAYS    YEAR\n",
       "0    1855-56  18 Dec  14 Apr  118.0  1855.0\n",
       "1    1856-57   6 Dec   6 May  151.0  1856.0\n",
       "2    1857-58  25 Nov  26 Mar  121.0  1857.0\n",
       "3    1858-59   8 Dec  14 Mar   96.0  1858.0\n",
       "4    1859-60   7 Dec  26 Mar  110.0  1859.0\n",
       "..       ...     ...     ...    ...     ...\n",
       "158  2013-14  16 Dec  12 Apr  117.0  2013.0\n",
       "159  2014-15   2 Jan   3 Apr   91.0  2014.0\n",
       "160  2015-16  11 Jan  13 Mar   62.0  2015.0\n",
       "161  2016-17   1 Jan   7 Mar   65.0  2016.0\n",
       "162  2017-18  27 Dec  31 Mar   94.0  2017.0\n",
       "\n",
       "[163 rows x 5 columns]"
      ]
     },
     "execution_count": 5,
     "metadata": {},
     "output_type": "execute_result"
    }
   ],
   "source": [
    "for i in range(Mendota.shape[0]):\n",
    "    if Mendota.iloc[i,0] == '\"':\n",
    "        Mendota.iloc[i-1,3] = Mendota.iloc[i,3]\n",
    "        \n",
    "Mendota = Mendota.drop(index = Mendota.loc[Mendota.iloc[:,0] == '\"',:].index)\n",
    "Mendota = Mendota.drop(index = 169)\n",
    "Mendota['WINTER'] = Mendota['WINTER'].str.lstrip()\n",
    "Mendota['YEAR'] = [float(x[:4]) for x in Mendota['WINTER']]\n",
    "Mendota['DAYS'] = [float(x) for x in Mendota['DAYS']]\n",
    "Mendota = Mendota.reset_index(drop=True)\n",
    "Mendota"
   ]
  },
  {
   "cell_type": "code",
   "execution_count": 6,
   "metadata": {},
   "outputs": [
    {
     "data": {
      "text/html": [
       "<div>\n",
       "<style scoped>\n",
       "    .dataframe tbody tr th:only-of-type {\n",
       "        vertical-align: middle;\n",
       "    }\n",
       "\n",
       "    .dataframe tbody tr th {\n",
       "        vertical-align: top;\n",
       "    }\n",
       "\n",
       "    .dataframe thead th {\n",
       "        text-align: right;\n",
       "    }\n",
       "</style>\n",
       "<table border=\"1\" class=\"dataframe\">\n",
       "  <thead>\n",
       "    <tr style=\"text-align: right;\">\n",
       "      <th></th>\n",
       "      <th>WINTER</th>\n",
       "      <th>CLOSED</th>\n",
       "      <th>OPENED</th>\n",
       "      <th>DAYS</th>\n",
       "      <th>YEAR</th>\n",
       "    </tr>\n",
       "  </thead>\n",
       "  <tbody>\n",
       "    <tr>\n",
       "      <th>0</th>\n",
       "      <td>1855-56</td>\n",
       "      <td>18 Dec</td>\n",
       "      <td>14 Apr</td>\n",
       "      <td>118.0</td>\n",
       "      <td>1855.0</td>\n",
       "    </tr>\n",
       "    <tr>\n",
       "      <th>1</th>\n",
       "      <td>1856-57</td>\n",
       "      <td>4 Dec</td>\n",
       "      <td>4 May</td>\n",
       "      <td>151.0</td>\n",
       "      <td>1856.0</td>\n",
       "    </tr>\n",
       "    <tr>\n",
       "      <th>2</th>\n",
       "      <td>1857-58</td>\n",
       "      <td>23 Nov</td>\n",
       "      <td>22 Mar</td>\n",
       "      <td>119.0</td>\n",
       "      <td>1857.0</td>\n",
       "    </tr>\n",
       "    <tr>\n",
       "      <th>3</th>\n",
       "      <td>1858-59</td>\n",
       "      <td>11 Dec</td>\n",
       "      <td>15 Mar</td>\n",
       "      <td>94.0</td>\n",
       "      <td>1858.0</td>\n",
       "    </tr>\n",
       "    <tr>\n",
       "      <th>4</th>\n",
       "      <td>1859-60</td>\n",
       "      <td>6 Dec</td>\n",
       "      <td>26 Mar</td>\n",
       "      <td>111.0</td>\n",
       "      <td>1859.0</td>\n",
       "    </tr>\n",
       "    <tr>\n",
       "      <th>...</th>\n",
       "      <td>...</td>\n",
       "      <td>...</td>\n",
       "      <td>...</td>\n",
       "      <td>...</td>\n",
       "      <td>...</td>\n",
       "    </tr>\n",
       "    <tr>\n",
       "      <th>158</th>\n",
       "      <td>2013-14</td>\n",
       "      <td>10 Dec</td>\n",
       "      <td>10 Apr</td>\n",
       "      <td>121.0</td>\n",
       "      <td>2013.0</td>\n",
       "    </tr>\n",
       "    <tr>\n",
       "      <th>159</th>\n",
       "      <td>2014-15</td>\n",
       "      <td>2 Dec</td>\n",
       "      <td>16 Dec</td>\n",
       "      <td>105.0</td>\n",
       "      <td>2014.0</td>\n",
       "    </tr>\n",
       "    <tr>\n",
       "      <th>160</th>\n",
       "      <td>2015-16</td>\n",
       "      <td>11 Jan</td>\n",
       "      <td>13 Mar</td>\n",
       "      <td>62.0</td>\n",
       "      <td>2015.0</td>\n",
       "    </tr>\n",
       "    <tr>\n",
       "      <th>161</th>\n",
       "      <td>2016-17</td>\n",
       "      <td>16 Dec</td>\n",
       "      <td>7 Mar</td>\n",
       "      <td>81.0</td>\n",
       "      <td>2016.0</td>\n",
       "    </tr>\n",
       "    <tr>\n",
       "      <th>162</th>\n",
       "      <td>2017-18</td>\n",
       "      <td>26 Dec</td>\n",
       "      <td>29 Mar</td>\n",
       "      <td>93.0</td>\n",
       "      <td>2017.0</td>\n",
       "    </tr>\n",
       "  </tbody>\n",
       "</table>\n",
       "<p>163 rows × 5 columns</p>\n",
       "</div>"
      ],
      "text/plain": [
       "      WINTER   CLOSED  OPENED   DAYS    YEAR\n",
       "0    1855-56   18 Dec  14 Apr  118.0  1855.0\n",
       "1    1856-57    4 Dec   4 May  151.0  1856.0\n",
       "2    1857-58   23 Nov  22 Mar  119.0  1857.0\n",
       "3    1858-59   11 Dec  15 Mar   94.0  1858.0\n",
       "4    1859-60    6 Dec  26 Mar  111.0  1859.0\n",
       "..       ...      ...     ...    ...     ...\n",
       "158  2013-14   10 Dec  10 Apr  121.0  2013.0\n",
       "159  2014-15    2 Dec  16 Dec  105.0  2014.0\n",
       "160  2015-16   11 Jan  13 Mar   62.0  2015.0\n",
       "161  2016-17   16 Dec   7 Mar   81.0  2016.0\n",
       "162  2017-18   26 Dec  29 Mar   93.0  2017.0\n",
       "\n",
       "[163 rows x 5 columns]"
      ]
     },
     "execution_count": 6,
     "metadata": {},
     "output_type": "execute_result"
    }
   ],
   "source": [
    "for i in range(Monona.shape[0]):\n",
    "    if Monona.iloc[i,0] == '\"':\n",
    "        Monona.iloc[i-1,3] = Monona.iloc[i,3]\n",
    "        \n",
    "Monona = Monona.drop(index = Monona.loc[Monona.iloc[:,0] == '\"',:].index)\n",
    "Monona = Monona.drop(index = 169)\n",
    "Monona['WINTER'] = Monona['WINTER'].str.lstrip()\n",
    "Monona['YEAR'] = [float(x[:4]) for x in Monona['WINTER']]\n",
    "Monona['DAYS'] = [float(x) for x in Monona['DAYS']]\n",
    "Monona = Monona.reset_index(drop=True)\n",
    "Monona"
   ]
  },
  {
   "cell_type": "code",
   "execution_count": 16,
   "metadata": {},
   "outputs": [
    {
     "data": {
      "text/plain": [
       "<matplotlib.legend.Legend at 0x7fbd0153bdd8>"
      ]
     },
     "execution_count": 16,
     "metadata": {},
     "output_type": "execute_result"
    },
    {
     "data": {
      "image/png": "[encoded data removed]",
      "text/plain": [
       "<Figure size 576x576 with 1 Axes>"
      ]
     },
     "metadata": {
      "needs_background": "light"
     },
     "output_type": "display_data"
    }
   ],
   "source": [
    "fig,ax = plt.subplots(1,1,figsize=(8,8))\n",
    "ax.plot(Mendota.iloc[:,4], Mendota.iloc[:,3], c = 'b')\n",
    "ax.plot(Monona.iloc[:,4], Monona.iloc[:,3], c = 'r')\n",
    "ax.set_xlabel('$year$', fontsize=20)\n",
    "ax.set_ylabel('$ice days$', fontsize=20)\n",
    "ax.set_xlim([Mendota.iloc[0,4],Mendota.iloc[-1,4]])\n",
    "ax.legend(['Mendota','Monona'], fontsize=20)"
   ]
  },
  {
   "cell_type": "code",
   "execution_count": 17,
   "metadata": {},
   "outputs": [
    {
     "data": {
      "text/plain": [
       "<matplotlib.legend.Legend at 0x7fbd014b6f28>"
      ]
     },
     "execution_count": 17,
     "metadata": {},
     "output_type": "execute_result"
    },
    {
     "data": {
      "image/png": "[encoded data removed]",
      "text/plain": [
       "<Figure size 576x576 with 1 Axes>"
      ]
     },
     "metadata": {
      "needs_background": "light"
     },
     "output_type": "display_data"
    }
   ],
   "source": [
    "fig,ax = plt.subplots(1,1,figsize=(8,8))\n",
    "ax.plot(Mendota.iloc[:,4], Monona.iloc[:,3] - Mendota.iloc[:,3], c = 'b')\n",
    "ax.set_xlabel('$year$', fontsize=20)\n",
    "ax.set_ylabel('$ice days$', fontsize=20)\n",
    "ax.set_xlim([Mendota.iloc[0,4],Mendota.iloc[-1,4]])\n",
    "ax.legend(['yMonona - yMendota'], fontsize=20)"
   ]
  },
  {
   "cell_type": "code",
   "execution_count": 12,
   "metadata": {},
   "outputs": [],
   "source": [
    "Mendota_train = Mendota.loc[Mendota.iloc[:,4] <= 1970,:]\n",
    "Mendota_test = Mendota.loc[Mendota.iloc[:,4] > 1970,:]"
   ]
  },
  {
   "cell_type": "code",
   "execution_count": 15,
   "metadata": {},
   "outputs": [],
   "source": [
    "Monona_train = Monona.loc[Monona.iloc[:,4] <= 1970,:]\n",
    "Monona_test = Monona.loc[Monona.iloc[:,4] > 1970,:]"
   ]
  },
  {
   "cell_type": "code",
   "execution_count": 20,
   "metadata": {},
   "outputs": [
    {
     "data": {
      "text/plain": [
       "107.1896551724138"
      ]
     },
     "execution_count": 20,
     "metadata": {},
     "output_type": "execute_result"
    }
   ],
   "source": [
    "Mendota_train.iloc[:,3].mean()"
   ]
  },
  {
   "cell_type": "code",
   "execution_count": 21,
   "metadata": {},
   "outputs": [
    {
     "data": {
      "text/plain": [
       "16.74666159754441"
      ]
     },
     "execution_count": 21,
     "metadata": {},
     "output_type": "execute_result"
    }
   ],
   "source": [
    "Mendota_train.iloc[:,3].std()"
   ]
  },
  {
   "cell_type": "code",
   "execution_count": 35,
   "metadata": {},
   "outputs": [],
   "source": [
    "X = np.zeros((Mendota_train.shape[0],3))\n",
    "X[:,0] = 1\n",
    "X[:,1] = Mendota_train.iloc[:,-1]\n",
    "X[:,2] = Monona_train.iloc[:,-2]\n",
    "y = Mendota_train.iloc[:,-2]"
   ]
  },
  {
   "cell_type": "code",
   "execution_count": 42,
   "metadata": {},
   "outputs": [
    {
     "data": {
      "text/plain": [
       "array([-6.41827663e+01,  4.12245664e-02,  8.52950638e-01])"
      ]
     },
     "execution_count": 42,
     "metadata": {},
     "output_type": "execute_result"
    }
   ],
   "source": [
    "betas = np.linalg.inv(X.T.dot(X)).dot(X.T.dot(y))\n",
    "betas"
   ]
  },
  {
   "cell_type": "code",
   "execution_count": 40,
   "metadata": {},
   "outputs": [],
   "source": [
    "Xtest = np.zeros((Mendota_test.shape[0],3))\n",
    "Xtest[:,0] = 1\n",
    "Xtest[:,1] = Mendota_test.iloc[:,-1]\n",
    "Xtest[:,2] = Monona_test.iloc[:,-2]\n",
    "ytest = Mendota_test.iloc[:,-2]"
   ]
  },
  {
   "cell_type": "code",
   "execution_count": 46,
   "metadata": {},
   "outputs": [
    {
     "data": {
      "text/plain": [
       "98.10116473376362"
      ]
     },
     "execution_count": 46,
     "metadata": {},
     "output_type": "execute_result"
    }
   ],
   "source": [
    "Xtest[0,:].dot(betas)"
   ]
  },
  {
   "cell_type": "code",
   "execution_count": 48,
   "metadata": {},
   "outputs": [
    {
     "data": {
      "text/plain": [
       "95.4320036656619"
      ]
     },
     "execution_count": 48,
     "metadata": {},
     "output_type": "execute_result"
    }
   ],
   "source": [
    "np.var(Xtest.dot(betas)-ytest)"
   ]
  },
  {
   "cell_type": "code",
   "execution_count": 51,
   "metadata": {},
   "outputs": [
    {
     "data": {
      "text/plain": [
       "0.7222004631364354"
      ]
     },
     "execution_count": 51,
     "metadata": {},
     "output_type": "execute_result"
    }
   ],
   "source": [
    "SStot = (ytest - np.mean(ytest)).dot(ytest - np.mean(ytest))\n",
    "SSres = (Xtest.dot(betas)-ytest).dot(Xtest.dot(betas)-ytest)\n",
    "Rs = 1 - SSres/SStot\n",
    "Rs"
   ]
  },
  {
   "cell_type": "code",
   "execution_count": 90,
   "metadata": {},
   "outputs": [
    {
     "name": "stdout",
     "output_type": "stream",
     "text": [
      "Initial value of f: 11767.655172413793\n",
      "Initial value of f at 0 th iternation is 6180350808297761.000000:\n",
      "Initial value of f at 1 th iternation is 3330626781514359269050286080.000000:\n",
      "Initial value of f at 2 th iternation is 1794894028506586514112381672499294765056.000000:\n",
      "Initial value of f at 3 th iternation is 967278769104172867412984829954616645534385501634560.000000:\n",
      "Initial value of f at 4 th iternation is 521272120972043777614288963608996233579918996138442022182715392.000000:\n",
      "Initial value of f at 5 th iternation is 280916559715608851654352636514580749961818875114591951729043038697177481216.000000:\n",
      "Initial value of f at 6 th iternation is 151387558143907458311038196472985399841885495842934131224130698007609383697573115592704.000000:\n",
      "Initial value of f at 7 th iternation is 81583630327726510843678091578155178631129511901691949062094134179326439213944276265101969967808512.000000:\n",
      "Initial value of f at 8 th iternation is 43965890057650054030769646161060083320927170689881449561343482359565912134952022994386622553617334742433136640.000000:\n",
      "Initial value of f at 9 th iternation is 23693472339933796069929723572937955847566646263910678052124617627188980363916438556189037971163505095142680834773214035968.000000:\n"
     ]
    }
   ],
   "source": [
    "beta = np.zeros(3)\n",
    "n = Mendota_train.shape[0]\n",
    "ita = 0.1\n",
    "\n",
    "print('Initial value of f:', (X.dot(beta)-y).T.dot(X.dot(beta)-y)/n)\n",
    "for i in range(10):\n",
    "    deltaf = 2*X.T.dot(X.dot(beta) - y)/n\n",
    "    beta_n = beta - ita * deltaf\n",
    "    beta = beta_n\n",
    "    print('Initial value of f at %d th iternation is %f:'%(i, (X.dot(beta)-y).T.dot(X.dot(beta)-y)/n))"
   ]
  },
  {
   "cell_type": "code",
   "execution_count": 54,
   "metadata": {},
   "outputs": [
    {
     "name": "stdout",
     "output_type": "stream",
     "text": [
      "[-1.11205870e+58 -2.12745363e+61 -1.20499387e+60]\n"
     ]
    }
   ],
   "source": [
    "print(beta)"
   ]
  },
  {
   "cell_type": "code",
   "execution_count": 83,
   "metadata": {},
   "outputs": [
    {
     "name": "stdout",
     "output_type": "stream",
     "text": [
      "Initial value of f: 11767.655172413793\n",
      "Initial value of f 6163541503.948577 at 0 th iternation:\n",
      "Initial value of f 3312533871817739.500000 at 1 th iternation:\n",
      "Initial value of f 1780288348615921893376.000000 at 2 th iternation:\n",
      "Initial value of f 956798247765122620890021888.000000 at 3 th iternation:\n",
      "Initial value of f 514221692029907592692652354568192.000000 at 4 th iternation:\n",
      "Initial value of f 276363328603223694709658069813168177152.000000 at 5 th iternation:\n",
      "Initial value of f 148528719383956473858290359991788379685519360.000000 at 6 th iternation:\n",
      "Initial value of f 79825281426939467664876590671505086010814688657408.000000 at 7 th iternation:\n",
      "Initial value of f 42901302733364642617609555373683384407155462859378393088.000000 at 8 th iternation:\n",
      "Initial value of f 23056878013068431094169364752487790908835683363322899447414784.000000 at 9 th iternation:\n"
     ]
    }
   ],
   "source": [
    "beta = np.zeros(3)\n",
    "n = Mendota_train.shape[0]\n",
    "ita = 0.0001\n",
    "\n",
    "print('Initial value of f:', (X.dot(beta)-y).T.dot(X.dot(beta)-y)/n)\n",
    "for i in range(10):\n",
    "    deltaf = 2*X.T.dot(X.dot(beta) - y)/n\n",
    "    beta_n = beta - ita * deltaf\n",
    "    beta = beta_n\n",
    "    print('Initial value of f %f at %d th iternation:'%((X.dot(beta)-y).T.dot(X.dot(beta)-y)/n, i))"
   ]
  },
  {
   "cell_type": "code",
   "execution_count": 84,
   "metadata": {},
   "outputs": [
    {
     "name": "stdout",
     "output_type": "stream",
     "text": [
      "[-1.30800311e+24 -2.50231031e+27 -1.41731342e+26]\n"
     ]
    }
   ],
   "source": [
    "print(beta)"
   ]
  },
  {
   "cell_type": "code",
   "execution_count": 92,
   "metadata": {},
   "outputs": [
    {
     "name": "stdout",
     "output_type": "stream",
     "text": [
      "Initial value of f: 11767.655172413793\n",
      "Initial value of f 1110.112916 at 0 th iternation:\n",
      "Initial value of f 356.579867 at 1 th iternation:\n",
      "Initial value of f 303.272176 at 2 th iternation:\n",
      "Initial value of f 299.471265 at 3 th iternation:\n",
      "Initial value of f 299.170547 at 4 th iternation:\n",
      "Initial value of f 299.117301 at 5 th iternation:\n",
      "Initial value of f 299.081557 at 6 th iternation:\n",
      "Initial value of f 299.047054 at 7 th iternation:\n",
      "Initial value of f 299.012644 at 8 th iternation:\n",
      "Initial value of f 298.978245 at 9 th iternation:\n"
     ]
    }
   ],
   "source": [
    "beta = np.zeros(3)\n",
    "n = Mendota_train.shape[0]\n",
    "ita = 1E-7\n",
    "\n",
    "print('Initial value of f:', (X.dot(beta)-y).T.dot(X.dot(beta)-y)/n)\n",
    "for i in range(10):\n",
    "    deltaf = 2*X.T.dot(X.dot(beta) - y)/n\n",
    "    beta_n = beta - ita * deltaf\n",
    "    beta = beta_n\n",
    "    print('Initial value of f %f at %d th iternation:'%((X.dot(beta)-y).T.dot(X.dot(beta)-y)/n, i))"
   ]
  },
  {
   "cell_type": "code",
   "execution_count": 93,
   "metadata": {},
   "outputs": [
    {
     "name": "stdout",
     "output_type": "stream",
     "text": [
      "[2.94018517e-05 5.57740294e-02 3.74669382e-03]\n"
     ]
    }
   ],
   "source": [
    "print(beta)"
   ]
  },
  {
   "cell_type": "code",
   "execution_count": 98,
   "metadata": {},
   "outputs": [
    {
     "data": {
      "text/plain": [
       "array([ 6.41827957e+01,  1.45494630e-02, -8.49203945e-01])"
      ]
     },
     "execution_count": 98,
     "metadata": {},
     "output_type": "execute_result"
    }
   ],
   "source": [
    "beta - np.linalg.inv(X.T.dot(X)).dot(X.T.dot(y))"
   ]
  },
  {
   "cell_type": "code",
   "execution_count": 100,
   "metadata": {},
   "outputs": [
    {
     "data": {
      "text/plain": [
       "64.18841501944135"
      ]
     },
     "execution_count": 100,
     "metadata": {},
     "output_type": "execute_result"
    }
   ],
   "source": [
    "np.linalg.norm(beta - np.linalg.inv(X.T.dot(X)).dot(X.T.dot(y)))"
   ]
  },
  {
   "cell_type": "code",
   "execution_count": 101,
   "metadata": {},
   "outputs": [
    {
     "data": {
      "text/plain": [
       "127203.99135311878"
      ]
     },
     "execution_count": 101,
     "metadata": {},
     "output_type": "execute_result"
    }
   ],
   "source": [
    "np.linalg.cond(X)"
   ]
  },
  {
   "cell_type": "code",
   "execution_count": 102,
   "metadata": {},
   "outputs": [
    {
     "data": {
      "text/plain": [
       "16180855377.180597"
      ]
     },
     "execution_count": 102,
     "metadata": {},
     "output_type": "execute_result"
    }
   ],
   "source": [
    "np.linalg.cond(X.T.dot(X))"
   ]
  },
  {
   "cell_type": "code",
   "execution_count": 113,
   "metadata": {},
   "outputs": [],
   "source": [
    "X = np.zeros((Mendota_train.shape[0],3))\n",
    "X[:,0] = 1\n",
    "X[:,1] = (Mendota_train.iloc[:,-1] - min(Mendota_train.iloc[:,-1]))/(max(Mendota_train.iloc[:,-1]) - min(Mendota_train.iloc[:,-1]))\n",
    "X[:,2] = (Monona_train.iloc[:,-2] - min(Monona_train.iloc[:,-2]))/(max(Monona_train.iloc[:,-2]) - min(Monona_train.iloc[:,-2]))\n",
    "y = (Mendota_train.iloc[:,-2] - min(Mendota_train.iloc[:,-2]))/(max(Mendota_train.iloc[:,-2]) - min(Mendota_train.iloc[:,-2]))"
   ]
  },
  {
   "cell_type": "code",
   "execution_count": 114,
   "metadata": {},
   "outputs": [
    {
     "data": {
      "text/plain": [
       "array([0.01480649, 0.04788712, 0.8615663 ])"
      ]
     },
     "execution_count": 114,
     "metadata": {},
     "output_type": "execute_result"
    }
   ],
   "source": [
    "betas = np.linalg.inv(X.T.dot(X)).dot(X.T.dot(y))\n",
    "betas"
   ]
  },
  {
   "cell_type": "code",
   "execution_count": 115,
   "metadata": {},
   "outputs": [
    {
     "name": "stdout",
     "output_type": "stream",
     "text": [
      "Initial value of f: 0.23672461290016147\n",
      "Initial value of f at 0 th iternation is 0.129417:\n",
      "Initial value of f at 1 th iternation is 0.076513:\n",
      "Initial value of f at 2 th iternation is 0.050311:\n",
      "Initial value of f at 3 th iternation is 0.037221:\n",
      "Initial value of f at 4 th iternation is 0.030572:\n",
      "Initial value of f at 5 th iternation is 0.027090:\n",
      "Initial value of f at 6 th iternation is 0.025170:\n",
      "Initial value of f at 7 th iternation is 0.024023:\n",
      "Initial value of f at 8 th iternation is 0.023261:\n",
      "Initial value of f at 9 th iternation is 0.022695:\n"
     ]
    }
   ],
   "source": [
    "beta = np.zeros(3)\n",
    "n = Mendota_train.shape[0]\n",
    "ita = 0.1\n",
    "\n",
    "print('Initial value of f:', (X.dot(beta)-y).T.dot(X.dot(beta)-y)/n)\n",
    "for i in range(10):\n",
    "    deltaf = 2*X.T.dot(X.dot(beta) - y)/n\n",
    "    beta_n = beta - ita * deltaf\n",
    "    beta = beta_n\n",
    "    print('Initial value of f at %d th iternation is %f:'%(i, (X.dot(beta)-y).T.dot(X.dot(beta)-y)/n))"
   ]
  },
  {
   "cell_type": "code",
   "execution_count": 116,
   "metadata": {},
   "outputs": [
    {
     "data": {
      "text/plain": [
       "array([0.29601785, 0.108217  , 0.19333256])"
      ]
     },
     "execution_count": 116,
     "metadata": {},
     "output_type": "execute_result"
    }
   ],
   "source": [
    "beta"
   ]
  },
  {
   "cell_type": "code",
   "execution_count": 117,
   "metadata": {},
   "outputs": [
    {
     "data": {
      "text/plain": [
       "9.352695233439869"
      ]
     },
     "execution_count": 117,
     "metadata": {},
     "output_type": "execute_result"
    }
   ],
   "source": [
    "np.linalg.cond(X)"
   ]
  },
  {
   "cell_type": "code",
   "execution_count": 118,
   "metadata": {},
   "outputs": [
    {
     "data": {
      "text/plain": [
       "87.4729081296092"
      ]
     },
     "execution_count": 118,
     "metadata": {},
     "output_type": "execute_result"
    }
   ],
   "source": [
    "np.linalg.cond(X.T.dot(X))"
   ]
  },
  {
   "cell_type": "code",
   "execution_count": 122,
   "metadata": {},
   "outputs": [
    {
     "data": {
      "text/plain": [
       "0.7274997318554942"
      ]
     },
     "execution_count": 122,
     "metadata": {},
     "output_type": "execute_result"
    }
   ],
   "source": [
    "np.linalg.norm(beta - betas)"
   ]
  },
  {
   "cell_type": "code",
   "execution_count": 123,
   "metadata": {},
   "outputs": [],
   "source": [
    "X = np.zeros((Mendota_train.shape[0],2))\n",
    "X[:,0] = 1\n",
    "X[:,1] = Mendota_train.iloc[:,-1]\n",
    "y = Mendota_train.iloc[:,-2]"
   ]
  },
  {
   "cell_type": "code",
   "execution_count": 130,
   "metadata": {},
   "outputs": [
    {
     "data": {
      "text/plain": [
       "array([ 4.06111060e+02, -1.56298774e-01])"
      ]
     },
     "execution_count": 130,
     "metadata": {},
     "output_type": "execute_result"
    }
   ],
   "source": [
    "np.linalg.inv(X.T.dot(X)).dot(X.T.dot(y))"
   ]
  },
  {
   "cell_type": "code",
   "execution_count": 133,
   "metadata": {},
   "outputs": [],
   "source": [
    "X = np.zeros((Mendota_train.shape[0],3))\n",
    "X[:,0] = 1\n",
    "X[:,1] = Mendota_train.iloc[:,-1]\n",
    "X[:,2] = Monona_train.iloc[:,-2]\n",
    "y = Mendota_train.iloc[:,-2]"
   ]
  },
  {
   "cell_type": "code",
   "execution_count": 134,
   "metadata": {},
   "outputs": [
    {
     "data": {
      "text/plain": [
       "array([-6.23294723e+01,  4.04390872e-02,  8.49714502e-01])"
      ]
     },
     "execution_count": 134,
     "metadata": {},
     "output_type": "execute_result"
    }
   ],
   "source": [
    "n = Mendota_train.shape[0]\n",
    "lambd = 1\n",
    "A = np.array([[0,0,0],[0,1,0],[0,0,1]])\n",
    "(2/n)*np.linalg.inv((2/n)*X.T.dot(X) + 2*lambd*A).dot(X.T.dot(y))"
   ]
  },
  {
   "cell_type": "code",
   "execution_count": null,
   "metadata": {},
   "outputs": [],
   "source": []
  },
  {
   "cell_type": "code",
   "execution_count": null,
   "metadata": {},
   "outputs": [],
   "source": []
  }
 ],
 "metadata": {
  "kernelspec": {
   "display_name": "Python 3",
   "language": "python",
   "name": "python3"
  },
  "language_info": {
   "codemirror_mode": {
    "name": "ipython",
    "version": 3
   },
   "file_extension": ".py",
   "mimetype": "text/x-python",
   "name": "python",
   "nbconvert_exporter": "python",
   "pygments_lexer": "ipython3",
   "version": "3.6.9"
  },
  "varInspector": {
   "cols": {
    "lenName": 16,
    "lenType": 16,
    "lenVar": 40
   },
   "kernels_config": {
    "python": {
     "delete_cmd_postfix": "",
     "delete_cmd_prefix": "del ",
     "library": "var_list.py",
     "varRefreshCmd": "print(var_dic_list())"
    },
    "r": {
     "delete_cmd_postfix": ") ",
     "delete_cmd_prefix": "rm(",
     "library": "var_list.r",
     "varRefreshCmd": "cat(var_dic_list()) "
    }
   },
   "types_to_exclude": [
    "module",
    "function",
    "builtin_function_or_method",
    "instance",
    "_Feature"
   ],
   "window_display": false
  }
 },
 "nbformat": 4,
 "nbformat_minor": 4
}
