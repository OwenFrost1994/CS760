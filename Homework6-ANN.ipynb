{
 "cells": [
  {
   "cell_type": "code",
   "execution_count": 60,
   "metadata": {},
   "outputs": [],
   "source": [
    "import numpy as np\n",
    "import torch.nn\n",
    "import matplotlib.pyplot as plt"
   ]
  },
  {
   "cell_type": "code",
   "execution_count": 46,
   "metadata": {},
   "outputs": [],
   "source": [
    "def  sigmoid(x):\n",
    "    return 1.0 / (1.0 + np.exp(-x))"
   ]
  },
  {
   "cell_type": "code",
   "execution_count": 213,
   "metadata": {},
   "outputs": [],
   "source": [
    "def ReLU(x):\n",
    "    return max(0,x)"
   ]
  },
  {
   "cell_type": "code",
   "execution_count": 70,
   "metadata": {},
   "outputs": [],
   "source": [
    "wh = np.ones((20,2))*0.5\n",
    "bh = np.ones((20,1))*0.5\n",
    "wo = np.ones((1,20))\n",
    "bo = np.ones(1)"
   ]
  },
  {
   "cell_type": "code",
   "execution_count": 41,
   "metadata": {},
   "outputs": [],
   "source": [
    "x1 = np.array([1,1])\n",
    "x2 = np.array([1,-1])\n",
    "x3 = np.array([-1,-1])"
   ]
  },
  {
   "cell_type": "code",
   "execution_count": 42,
   "metadata": {},
   "outputs": [],
   "source": [
    "ho = np.zeros(wh.shape[0])\n",
    "for i in range(wh.shape[0]):\n",
    "    ho[i] = max(wh[i,:].dot(x1)+bh[i],0)"
   ]
  },
  {
   "cell_type": "code",
   "execution_count": 43,
   "metadata": {},
   "outputs": [
    {
     "data": {
      "text/plain": [
       "array([1.5, 1.5, 1.5, 1.5, 1.5, 1.5, 1.5, 1.5, 1.5, 1.5, 1.5, 1.5, 1.5,\n",
       "       1.5, 1.5, 1.5, 1.5, 1.5, 1.5, 1.5])"
      ]
     },
     "execution_count": 43,
     "metadata": {},
     "output_type": "execute_result"
    }
   ],
   "source": [
    "ho"
   ]
  },
  {
   "cell_type": "code",
   "execution_count": 47,
   "metadata": {},
   "outputs": [
    {
     "data": {
      "text/plain": [
       "array([1.])"
      ]
     },
     "execution_count": 47,
     "metadata": {},
     "output_type": "execute_result"
    }
   ],
   "source": [
    "oo = np.zeros(wo.shape[0])\n",
    "oo = sigmoid(wo.dot(ho)+bo)\n",
    "oo"
   ]
  },
  {
   "cell_type": "code",
   "execution_count": 50,
   "metadata": {},
   "outputs": [],
   "source": [
    "ho = np.zeros(wh.shape[0])\n",
    "for i in range(wh.shape[0]):\n",
    "    ho[i] = max(wh[i,:].dot(x2)+bh[i],0)"
   ]
  },
  {
   "cell_type": "code",
   "execution_count": 51,
   "metadata": {},
   "outputs": [
    {
     "data": {
      "text/plain": [
       "array([0.5, 0.5, 0.5, 0.5, 0.5, 0.5, 0.5, 0.5, 0.5, 0.5, 0.5, 0.5, 0.5,\n",
       "       0.5, 0.5, 0.5, 0.5, 0.5, 0.5, 0.5])"
      ]
     },
     "execution_count": 51,
     "metadata": {},
     "output_type": "execute_result"
    }
   ],
   "source": [
    "ho"
   ]
  },
  {
   "cell_type": "code",
   "execution_count": 52,
   "metadata": {},
   "outputs": [
    {
     "data": {
      "text/plain": [
       "array([0.9999833])"
      ]
     },
     "execution_count": 52,
     "metadata": {},
     "output_type": "execute_result"
    }
   ],
   "source": [
    "oo = np.zeros(wo.shape[0])\n",
    "oo = sigmoid(wo.dot(ho)+bo)\n",
    "oo"
   ]
  },
  {
   "cell_type": "code",
   "execution_count": 53,
   "metadata": {},
   "outputs": [],
   "source": [
    "ho = np.zeros(wh.shape[0])\n",
    "for i in range(wh.shape[0]):\n",
    "    ho[i] = max(wh[i,:].dot(x3)+bh[i],0)"
   ]
  },
  {
   "cell_type": "code",
   "execution_count": 54,
   "metadata": {},
   "outputs": [
    {
     "data": {
      "text/plain": [
       "array([0., 0., 0., 0., 0., 0., 0., 0., 0., 0., 0., 0., 0., 0., 0., 0., 0.,\n",
       "       0., 0., 0.])"
      ]
     },
     "execution_count": 54,
     "metadata": {},
     "output_type": "execute_result"
    }
   ],
   "source": [
    "ho"
   ]
  },
  {
   "cell_type": "code",
   "execution_count": 55,
   "metadata": {},
   "outputs": [
    {
     "data": {
      "text/plain": [
       "array([0.73105858])"
      ]
     },
     "execution_count": 55,
     "metadata": {},
     "output_type": "execute_result"
    }
   ],
   "source": [
    "oo = np.zeros(wo.shape[0])\n",
    "oo = sigmoid(wo.dot(ho)+bo)\n",
    "oo"
   ]
  },
  {
   "cell_type": "code",
   "execution_count": 155,
   "metadata": {},
   "outputs": [],
   "source": [
    "wh = np.random.normal(loc=0.0, scale=1, size=(20,2))\n",
    "bh = np.random.normal(loc=0.0, scale=1, size=20)\n",
    "wo = np.random.normal(loc=0.0, scale=1, size=20)\n",
    "bo = np.random.normal(loc=0.0, scale=1, size=1)"
   ]
  },
  {
   "cell_type": "code",
   "execution_count": 156,
   "metadata": {},
   "outputs": [],
   "source": [
    "xx = np.arange(-5, 5, 0.1)\n",
    "yy = np.arange(-5, 5, 0.1)\n",
    "X, Y = np.meshgrid(xx, yy)"
   ]
  },
  {
   "cell_type": "code",
   "execution_count": 157,
   "metadata": {},
   "outputs": [],
   "source": [
    "O = np.zeros((X.shape[0],X.shape[1]))\n",
    "for i in range(X.shape[0]):\n",
    "    for j in range(X.shape[1]):\n",
    "        ho = np.zeros(wh.shape[0])\n",
    "        ho = np.maximum(wh.dot(np.array([X[i,j],Y[i,j]]))+bh,0)\n",
    "        O[i,j] = sigmoid(wo.dot(ho)+bo)"
   ]
  },
  {
   "cell_type": "code",
   "execution_count": 158,
   "metadata": {},
   "outputs": [
    {
     "data": {
      "text/plain": [
       "(0.0, 1.0)"
      ]
     },
     "execution_count": 158,
     "metadata": {},
     "output_type": "execute_result"
    },
    {
     "data": {
      "image/png": "[encoded data removed]",
      "text/plain": [
       "<Figure size 432x288 with 1 Axes>"
      ]
     },
     "metadata": {
      "needs_background": "light"
     },
     "output_type": "display_data"
    }
   ],
   "source": [
    "fig = plt.figure()\n",
    "ax3 = plt.axes(projection='3d')\n",
    "ax3.plot_surface(X, Y, O,cmap='rainbow')\n",
    "ax3.set_xlabel('$x_1$', fontsize=20)\n",
    "ax3.set_ylabel('$x_2$', fontsize=20)\n",
    "ax3.set_zlabel('$z$', fontsize=20)\n",
    "ax3.set_xlim([-5,5])\n",
    "ax3.set_ylim([-5,5])\n",
    "ax3.set_zlim([0,1])"
   ]
  },
  {
   "cell_type": "code",
   "execution_count": 173,
   "metadata": {},
   "outputs": [],
   "source": [
    "wh1 = np.ones((4,2))*0.5\n",
    "bh1 = np.ones((4))*0.5\n",
    "wh2 = np.ones((4,4))*0.5\n",
    "bh2 = np.ones((4))*0.5\n",
    "wh3 = np.ones((4,4))*0.5\n",
    "bh3 = np.ones((4))*0.5\n",
    "wh4 = np.ones((4,4))*0.5\n",
    "bh4 = np.ones((4))*0.5\n",
    "wh5 = np.ones((4,4))*0.5\n",
    "bh5 = np.ones((4))*0.5\n",
    "wo = np.ones((4))\n",
    "bo = np.ones(1)"
   ]
  },
  {
   "cell_type": "code",
   "execution_count": 174,
   "metadata": {},
   "outputs": [
    {
     "data": {
      "text/plain": [
       "(array([1.5, 1.5, 1.5, 1.5]),\n",
       " array([3.5, 3.5, 3.5, 3.5]),\n",
       " array([7.5, 7.5, 7.5, 7.5]),\n",
       " array([15.5, 15.5, 15.5, 15.5]),\n",
       " array([31.5, 31.5, 31.5, 31.5]))"
      ]
     },
     "execution_count": 174,
     "metadata": {},
     "output_type": "execute_result"
    }
   ],
   "source": [
    "ho1 = np.maximum(wh1.dot(x1)+bh1,0)\n",
    "ho2 = np.maximum(wh2.dot(ho1)+bh2,0)\n",
    "ho3 = np.maximum(wh3.dot(ho2)+bh3,0)\n",
    "ho4 = np.maximum(wh4.dot(ho3)+bh4,0)\n",
    "ho5 = np.maximum(wh5.dot(ho4)+bh5,0)\n",
    "ho1,ho2,ho3,ho4,ho5"
   ]
  },
  {
   "cell_type": "code",
   "execution_count": 175,
   "metadata": {},
   "outputs": [
    {
     "data": {
      "text/plain": [
       "array([1.])"
      ]
     },
     "execution_count": 175,
     "metadata": {},
     "output_type": "execute_result"
    }
   ],
   "source": [
    "sigmoid(wo.dot(ho5)+bo)"
   ]
  },
  {
   "cell_type": "code",
   "execution_count": 176,
   "metadata": {},
   "outputs": [
    {
     "data": {
      "text/plain": [
       "(array([0.5, 0.5, 0.5, 0.5]),\n",
       " array([1.5, 1.5, 1.5, 1.5]),\n",
       " array([3.5, 3.5, 3.5, 3.5]),\n",
       " array([7.5, 7.5, 7.5, 7.5]),\n",
       " array([15.5, 15.5, 15.5, 15.5]))"
      ]
     },
     "execution_count": 176,
     "metadata": {},
     "output_type": "execute_result"
    }
   ],
   "source": [
    "ho1 = np.maximum(wh1.dot(x2)+bh1,0)\n",
    "ho2 = np.maximum(wh2.dot(ho1)+bh2,0)\n",
    "ho3 = np.maximum(wh3.dot(ho2)+bh3,0)\n",
    "ho4 = np.maximum(wh4.dot(ho3)+bh4,0)\n",
    "ho5 = np.maximum(wh5.dot(ho4)+bh5,0)\n",
    "ho1,ho2,ho3,ho4,ho5"
   ]
  },
  {
   "cell_type": "code",
   "execution_count": 177,
   "metadata": {},
   "outputs": [
    {
     "data": {
      "text/plain": [
       "array([1.])"
      ]
     },
     "execution_count": 177,
     "metadata": {},
     "output_type": "execute_result"
    }
   ],
   "source": [
    "sigmoid(wo.dot(ho5)+bo)"
   ]
  },
  {
   "cell_type": "code",
   "execution_count": 178,
   "metadata": {},
   "outputs": [
    {
     "data": {
      "text/plain": [
       "(array([0., 0., 0., 0.]),\n",
       " array([0.5, 0.5, 0.5, 0.5]),\n",
       " array([1.5, 1.5, 1.5, 1.5]),\n",
       " array([3.5, 3.5, 3.5, 3.5]),\n",
       " array([7.5, 7.5, 7.5, 7.5]))"
      ]
     },
     "execution_count": 178,
     "metadata": {},
     "output_type": "execute_result"
    }
   ],
   "source": [
    "ho1 = np.maximum(wh1.dot(x3)+bh1,0)\n",
    "ho2 = np.maximum(wh2.dot(ho1)+bh2,0)\n",
    "ho3 = np.maximum(wh3.dot(ho2)+bh3,0)\n",
    "ho4 = np.maximum(wh4.dot(ho3)+bh4,0)\n",
    "ho5 = np.maximum(wh5.dot(ho4)+bh5,0)\n",
    "ho1,ho2,ho3,ho4,ho5"
   ]
  },
  {
   "cell_type": "code",
   "execution_count": 179,
   "metadata": {},
   "outputs": [
    {
     "data": {
      "text/plain": [
       "array([1.])"
      ]
     },
     "execution_count": 179,
     "metadata": {},
     "output_type": "execute_result"
    }
   ],
   "source": [
    "sigmoid(wo.dot(ho5)+bo)"
   ]
  },
  {
   "cell_type": "code",
   "execution_count": 210,
   "metadata": {},
   "outputs": [],
   "source": [
    "wh1 = np.random.normal(loc=0.0, scale=1, size=(4,2))\n",
    "bh1 = np.random.normal(loc=0.0, scale=1, size=(4))\n",
    "wh2 = np.random.normal(loc=0.0, scale=1, size=(4,4))\n",
    "bh2 = np.random.normal(loc=0.0, scale=1, size=(4))\n",
    "wh3 = np.random.normal(loc=0.0, scale=1, size=(4,4))\n",
    "bh3 = np.random.normal(loc=0.0, scale=1, size=(4))\n",
    "wh4 = np.random.normal(loc=0.0, scale=1, size=(4,4))\n",
    "bh4 = np.random.normal(loc=0.0, scale=1, size=(4))\n",
    "wh5 = np.random.normal(loc=0.0, scale=1, size=(4,4))\n",
    "bh5 = np.random.normal(loc=0.0, scale=1, size=(4))\n",
    "wo = np.random.normal(loc=0.0, scale=1, size=(4))\n",
    "bo = np.random.normal(loc=0.0, scale=1, size=(1))"
   ]
  },
  {
   "cell_type": "code",
   "execution_count": 211,
   "metadata": {},
   "outputs": [],
   "source": [
    "O = np.zeros((X.shape[0],X.shape[1]))\n",
    "for i in range(X.shape[0]):\n",
    "    for j in range(X.shape[1]):\n",
    "        ho1 = np.maximum(wh1.dot(np.array([X[i,j],Y[i,j]]))+bh1,0)\n",
    "        ho2 = np.maximum(wh2.dot(ho1)+bh2,0)\n",
    "        ho3 = np.maximum(wh3.dot(ho2)+bh3,0)\n",
    "        ho4 = np.maximum(wh4.dot(ho3)+bh4,0)\n",
    "        ho5 = np.maximum(wh5.dot(ho4)+bh5,0)\n",
    "        O[i,j] = sigmoid(wo.dot(ho5)+bo)"
   ]
  },
  {
   "cell_type": "code",
   "execution_count": 212,
   "metadata": {},
   "outputs": [
    {
     "data": {
      "text/plain": [
       "(0.0, 1.0)"
      ]
     },
     "execution_count": 212,
     "metadata": {},
     "output_type": "execute_result"
    },
    {
     "data": {
      "image/png": "[encoded data removed]",
      "text/plain": [
       "<Figure size 432x288 with 1 Axes>"
      ]
     },
     "metadata": {
      "needs_background": "light"
     },
     "output_type": "display_data"
    }
   ],
   "source": [
    "fig = plt.figure()\n",
    "ax3 = plt.axes(projection='3d')\n",
    "ax3.plot_surface(X, Y, O,cmap='rainbow')\n",
    "ax3.set_xlabel('$x_1$', fontsize=20)\n",
    "ax3.set_ylabel('$x_2$', fontsize=20)\n",
    "ax3.set_zlabel('$z$', fontsize=20)\n",
    "ax3.set_xlim([-5,5])\n",
    "ax3.set_ylim([-5,5])\n",
    "ax3.set_zlim([0,1])"
   ]
  },
  {
   "cell_type": "code",
   "execution_count": 228,
   "metadata": {},
   "outputs": [],
   "source": [
    "def net(w,x):\n",
    "    uA = w[0] + w[1]*x[0] + w[2]*x[1]\n",
    "    vA = ReLU(uA)\n",
    "    uB = w[3] + w[4]*x[0] + w[5]*x[1]\n",
    "    vB = ReLU(uB)\n",
    "    uC = w[6] + w[7]*vA + w[8]*vB\n",
    "    vC = sigmoid(uC)\n",
    "    return uA, vA, uB, vB, uC, vC"
   ]
  },
  {
   "cell_type": "code",
   "execution_count": 229,
   "metadata": {},
   "outputs": [],
   "source": [
    "w = np.array([0.1,0.2,0.3,0.4,0.5,0.6,0.7,0.8,0.9])\n",
    "x = np.array([1, -1])"
   ]
  },
  {
   "cell_type": "code",
   "execution_count": 230,
   "metadata": {},
   "outputs": [
    {
     "data": {
      "text/plain": [
       "(5.551115123125783e-17,\n",
       " 5.551115123125783e-17,\n",
       " 0.30000000000000004,\n",
       " 0.30000000000000004,\n",
       " 0.97,\n",
       " 0.7251194977898231)"
      ]
     },
     "execution_count": 230,
     "metadata": {},
     "output_type": "execute_result"
    }
   ],
   "source": [
    "net(w,x)"
   ]
  },
  {
   "cell_type": "code",
   "execution_count": 231,
   "metadata": {},
   "outputs": [],
   "source": [
    "w = np.array([1,0.9,0.8,0.7,0.6,0.5,0.4,0.3,0.2])\n",
    "x = np.array([-0.2, 1.7])"
   ]
  },
  {
   "cell_type": "code",
   "execution_count": 232,
   "metadata": {},
   "outputs": [
    {
     "data": {
      "text/plain": [
       "(2.18, 2.18, 1.43, 1.43, 1.34, 0.7924899414403644)"
      ]
     },
     "execution_count": 232,
     "metadata": {},
     "output_type": "execute_result"
    }
   ],
   "source": [
    "net(w,x)"
   ]
  },
  {
   "cell_type": "code",
   "execution_count": 235,
   "metadata": {},
   "outputs": [],
   "source": [
    "w = np.array([4,3,2,1,0,-1,-2,-3,-4])\n",
    "x = np.array([-4, 1])"
   ]
  },
  {
   "cell_type": "code",
   "execution_count": 236,
   "metadata": {},
   "outputs": [
    {
     "data": {
      "text/plain": [
       "(-6, 0, 0, 0, -2, 0.11920292202211755)"
      ]
     },
     "execution_count": 236,
     "metadata": {},
     "output_type": "execute_result"
    }
   ],
   "source": [
    "net(w,x)"
   ]
  },
  {
   "cell_type": "code",
   "execution_count": 237,
   "metadata": {},
   "outputs": [],
   "source": [
    "w = np.array([0.1,-0.2,0.3,-0.4,0.5,-0.6,0.7,-0.8,0.9])\n",
    "x = np.array([1, -1])"
   ]
  },
  {
   "cell_type": "code",
   "execution_count": 238,
   "metadata": {},
   "outputs": [
    {
     "data": {
      "text/plain": [
       "(-0.4, 0, 0.7, 0.7, 1.33, 0.7908406347869368)"
      ]
     },
     "execution_count": 238,
     "metadata": {},
     "output_type": "execute_result"
    }
   ],
   "source": [
    "net(w,x)"
   ]
  },
  {
   "cell_type": "code",
   "execution_count": 239,
   "metadata": {},
   "outputs": [],
   "source": [
    "def netC(w,x,y):\n",
    "    uA, vA, uB, vB, uC, vC = net(w,x)\n",
    "    E = 0.5*(vC - y)**2\n",
    "    EpvC = vC - y\n",
    "    EpuC = EpvC*vC*(1-vC)\n",
    "    return E, EpvC, EpuC"
   ]
  },
  {
   "cell_type": "code",
   "execution_count": 302,
   "metadata": {},
   "outputs": [
    {
     "data": {
      "text/plain": [
       "(0.03777964524765953, -0.2748805022101769, -0.05478951477732112)"
      ]
     },
     "execution_count": 302,
     "metadata": {},
     "output_type": "execute_result"
    }
   ],
   "source": [
    "wt = np.array([0.1,0.2,0.3,0.4,0.5,0.6,0.7,0.8,0.9])\n",
    "xt = np.array([1, -1])\n",
    "yt = 1\n",
    "netC(wt,xt,yt)"
   ]
  },
  {
   "cell_type": "code",
   "execution_count": 303,
   "metadata": {},
   "outputs": [
    {
     "data": {
      "text/plain": [
       "(0.31402015364207614, 0.7924899414403644, 0.13032468094234595)"
      ]
     },
     "execution_count": 303,
     "metadata": {},
     "output_type": "execute_result"
    }
   ],
   "source": [
    "wt = np.array([1,0.9,0.8,0.7,0.6,0.5,0.4,0.3,0.2])\n",
    "xt = np.array([-0.2, 1.7])\n",
    "yt = 0\n",
    "netC(wt,xt,yt)"
   ]
  },
  {
   "cell_type": "code",
   "execution_count": 304,
   "metadata": {},
   "outputs": [
    {
     "data": {
      "text/plain": [
       "(0.0071046683093055184, 0.11920292202211755, 0.012515542173676725)"
      ]
     },
     "execution_count": 304,
     "metadata": {},
     "output_type": "execute_result"
    }
   ],
   "source": [
    "wt = np.array([4,3,2,1,0,-1,-2,-3,-4])\n",
    "xt = np.array([-4, 1])\n",
    "yt = 0\n",
    "netC(wt,xt,yt)"
   ]
  },
  {
   "cell_type": "code",
   "execution_count": 252,
   "metadata": {},
   "outputs": [],
   "source": [
    "w = np.array([0.1,-0.2,0.3,-0.4,0.5,-0.6,0.7,-0.8,0.9])\n",
    "x = np.array([1, -1])\n",
    "y = 1"
   ]
  },
  {
   "cell_type": "code",
   "execution_count": 253,
   "metadata": {},
   "outputs": [
    {
     "data": {
      "text/plain": [
       "(0.02187382002816578, -0.20915936521306322, -0.034597411432579675)"
      ]
     },
     "execution_count": 253,
     "metadata": {},
     "output_type": "execute_result"
    }
   ],
   "source": [
    "netC(w,x,y)"
   ]
  },
  {
   "cell_type": "code",
   "execution_count": 242,
   "metadata": {},
   "outputs": [],
   "source": [
    "def netAB(w,x,y):\n",
    "    uA, vA, uB, vB, uC, vC = net(w,x)\n",
    "    E, EpvC, EpuC = netC(w,x,y)\n",
    "    EpvA = w[7] * EpuC\n",
    "    if uA >=0:\n",
    "        EpuA = EpvA * 1\n",
    "    else:\n",
    "        EpuA = EpvA * 0\n",
    "    EpvB = w[8] * EpuC\n",
    "    if uB >=0:\n",
    "        EpuB = EpvB * 1\n",
    "    else:\n",
    "        EpuB = EpvB * 0\n",
    "    return EpvA, EpuA, EpvB, EpuB"
   ]
  },
  {
   "cell_type": "code",
   "execution_count": 244,
   "metadata": {},
   "outputs": [],
   "source": [
    "wt = np.array([0.1,0.2,0.3,0.4,0.5,0.6,0.7,0.8,0.9])\n",
    "xt = np.array([1, -1])\n",
    "yt = 1"
   ]
  },
  {
   "cell_type": "code",
   "execution_count": 245,
   "metadata": {},
   "outputs": [
    {
     "data": {
      "text/plain": [
       "(-0.0438316118218569,\n",
       " -0.0438316118218569,\n",
       " -0.04931056329958901,\n",
       " -0.04931056329958901)"
      ]
     },
     "execution_count": 245,
     "metadata": {},
     "output_type": "execute_result"
    }
   ],
   "source": [
    "netAB(wt,xt,yt)"
   ]
  },
  {
   "cell_type": "code",
   "execution_count": 246,
   "metadata": {},
   "outputs": [],
   "source": [
    "wt = np.array([1,0.9,0.8,0.7,0.6,0.5,0.4,0.3,0.2])\n",
    "xt = np.array([-0.2, 1.7])\n",
    "yt = 0"
   ]
  },
  {
   "cell_type": "code",
   "execution_count": 247,
   "metadata": {},
   "outputs": [
    {
     "data": {
      "text/plain": [
       "(0.039097404282703786,\n",
       " 0.039097404282703786,\n",
       " 0.026064936188469192,\n",
       " 0.026064936188469192)"
      ]
     },
     "execution_count": 247,
     "metadata": {},
     "output_type": "execute_result"
    }
   ],
   "source": [
    "netAB(wt,xt,yt)"
   ]
  },
  {
   "cell_type": "code",
   "execution_count": 250,
   "metadata": {},
   "outputs": [],
   "source": [
    "wt = np.array([4,3,2,1,0,-1,-2,-3,-4])\n",
    "xt = np.array([-4, 1])\n",
    "yt = 0"
   ]
  },
  {
   "cell_type": "code",
   "execution_count": 251,
   "metadata": {},
   "outputs": [
    {
     "data": {
      "text/plain": [
       "(-0.03754662652103018, -0.0, -0.0500621686947069, -0.0500621686947069)"
      ]
     },
     "execution_count": 251,
     "metadata": {},
     "output_type": "execute_result"
    }
   ],
   "source": [
    "netAB(wt,xt,yt)"
   ]
  },
  {
   "cell_type": "code",
   "execution_count": 254,
   "metadata": {},
   "outputs": [
    {
     "data": {
      "text/plain": [
       "(0.02767792914606374, 0.0, -0.031137670289321708, -0.031137670289321708)"
      ]
     },
     "execution_count": 254,
     "metadata": {},
     "output_type": "execute_result"
    }
   ],
   "source": [
    "netAB(w,x,y)"
   ]
  },
  {
   "cell_type": "code",
   "execution_count": 261,
   "metadata": {},
   "outputs": [],
   "source": [
    "def netw(w,x,y):\n",
    "    uA, vA, uB, vB, uC, vC = net(w,x)\n",
    "    E, EpvC, EpuC = netC(w,x,y)\n",
    "    EpvA, EpuA, EpvB, EpuB = netAB(w,x,y)\n",
    "    \n",
    "    Epw1 = 1 * EpuA\n",
    "    Epw2 = x[0] * EpuA\n",
    "    Epw3 = x[1] * EpuA\n",
    "    \n",
    "    Epw4 = 1 * EpuB\n",
    "    Epw5 = x[0] * EpuB\n",
    "    Epw6 = x[1] * EpuB\n",
    "    \n",
    "    Epw7 = 1 * EpuC\n",
    "    Epw8 = vA * EpuC\n",
    "    Epw9 = vB * EpuC\n",
    "    return Epw1, Epw2, Epw3, Epw4, Epw5, Epw6, Epw7, Epw8, Epw9"
   ]
  },
  {
   "cell_type": "code",
   "execution_count": 262,
   "metadata": {},
   "outputs": [
    {
     "data": {
      "text/plain": [
       "(-0.0438316118218569,\n",
       " -0.0438316118218569,\n",
       " 0.0438316118218569,\n",
       " -0.04931056329958901,\n",
       " -0.04931056329958901,\n",
       " 0.04931056329958901,\n",
       " -0.05478951477732112,\n",
       " -3.0414290406911083e-18,\n",
       " -0.01643685443319634)"
      ]
     },
     "execution_count": 262,
     "metadata": {},
     "output_type": "execute_result"
    }
   ],
   "source": [
    "wt = np.array([0.1,0.2,0.3,0.4,0.5,0.6,0.7,0.8,0.9])\n",
    "xt = np.array([1, -1])\n",
    "yt = 1\n",
    "netw(wt,xt,yt)"
   ]
  },
  {
   "cell_type": "code",
   "execution_count": 263,
   "metadata": {},
   "outputs": [
    {
     "data": {
      "text/plain": [
       "(0.039097404282703786,\n",
       " -0.007819480856540757,\n",
       " 0.06646558728059644,\n",
       " 0.026064936188469192,\n",
       " -0.005212987237693839,\n",
       " 0.044310391520397625,\n",
       " 0.13032468094234595,\n",
       " 0.2841078044543142,\n",
       " 0.1863642937475547)"
      ]
     },
     "execution_count": 263,
     "metadata": {},
     "output_type": "execute_result"
    }
   ],
   "source": [
    "wt = np.array([1,0.9,0.8,0.7,0.6,0.5,0.4,0.3,0.2])\n",
    "xt = np.array([-0.2, 1.7])\n",
    "yt = 0\n",
    "netw(wt,xt,yt)"
   ]
  },
  {
   "cell_type": "code",
   "execution_count": 264,
   "metadata": {},
   "outputs": [
    {
     "data": {
      "text/plain": [
       "(-0.0,\n",
       " 0.0,\n",
       " -0.0,\n",
       " -0.0500621686947069,\n",
       " 0.2002486747788276,\n",
       " -0.0500621686947069,\n",
       " 0.012515542173676725,\n",
       " 0.0,\n",
       " 0.0)"
      ]
     },
     "execution_count": 264,
     "metadata": {},
     "output_type": "execute_result"
    }
   ],
   "source": [
    "wt = np.array([4,3,2,1,0,-1,-2,-3,-4])\n",
    "xt = np.array([-4, 1])\n",
    "yt = 0\n",
    "netw(wt,xt,yt)"
   ]
  },
  {
   "cell_type": "code",
   "execution_count": 269,
   "metadata": {},
   "outputs": [
    {
     "data": {
      "text/plain": [
       "(0.0,\n",
       " 0.0,\n",
       " -0.0,\n",
       " -0.031137670289321708,\n",
       " -0.031137670289321708,\n",
       " 0.031137670289321708,\n",
       " -0.034597411432579675,\n",
       " -0.0,\n",
       " -0.02421818800280577)"
      ]
     },
     "execution_count": 269,
     "metadata": {},
     "output_type": "execute_result"
    }
   ],
   "source": [
    "netw(w,x,y)"
   ]
  },
  {
   "cell_type": "code",
   "execution_count": 296,
   "metadata": {},
   "outputs": [],
   "source": [
    "def netwup(w,x,y,eta):\n",
    "    #E, EpvC, EpuC = netC(w,x,y)\n",
    "    Epw = netw(w,x,y)\n",
    "    wn = w - eta*np.array(Epw)\n",
    "    En,_,_ = netC(wn,x,y)\n",
    "    return wn, En"
   ]
  },
  {
   "cell_type": "code",
   "execution_count": 297,
   "metadata": {},
   "outputs": [],
   "source": [
    "def SGDone(w,x,y,eta):\n",
    "    print(w)\n",
    "    E,_,_ = netC(w,x,y)\n",
    "    print(E)\n",
    "    wn, En = netwup(w,x,y,eta)\n",
    "    print(wn)\n",
    "    print(En)"
   ]
  },
  {
   "cell_type": "code",
   "execution_count": 298,
   "metadata": {},
   "outputs": [
    {
     "name": "stdout",
     "output_type": "stream",
     "text": [
      "[0.1 0.2 0.3 0.4 0.5 0.6 0.7 0.8 0.9]\n",
      "0.03777964524765953\n",
      "[0.10438316 0.20438316 0.29561684 0.40493106 0.50493106 0.59506894\n",
      " 0.70547895 0.8        0.90164369]\n",
      "0.03617374405874362\n"
     ]
    }
   ],
   "source": [
    "wt = np.array([0.1,0.2,0.3,0.4,0.5,0.6,0.7,0.8,0.9])\n",
    "xt = np.array([1, -1])\n",
    "yt = 1\n",
    "etat = 0.1\n",
    "SGDone(wt,xt,yt,etat)"
   ]
  },
  {
   "cell_type": "code",
   "execution_count": 300,
   "metadata": {},
   "outputs": [
    {
     "name": "stdout",
     "output_type": "stream",
     "text": [
      "[1.  0.9 0.8 0.7 0.6 0.5 0.4 0.3 0.2]\n",
      "0.31402015364207614\n",
      "[0.99609026 0.90078195 0.79335344 0.69739351 0.6005213  0.49556896\n",
      " 0.38696753 0.27158922 0.18136357]\n",
      "0.29971589564595374\n"
     ]
    }
   ],
   "source": [
    "wt = np.array([1,0.9,0.8,0.7,0.6,0.5,0.4,0.3,0.2])\n",
    "xt = np.array([-0.2, 1.7])\n",
    "yt = 0\n",
    "etat = 0.1\n",
    "SGDone(wt,xt,yt,etat)"
   ]
  },
  {
   "cell_type": "code",
   "execution_count": 301,
   "metadata": {},
   "outputs": [
    {
     "name": "stdout",
     "output_type": "stream",
     "text": [
      "[ 4  3  2  1  0 -1 -2 -3 -4]\n",
      "0.0071046683093055184\n",
      "[ 4.          3.          2.          1.00500622 -0.02002487 -0.99499378\n",
      " -2.00125155 -3.         -4.        ]\n",
      "0.0037100792185769567\n"
     ]
    }
   ],
   "source": [
    "wt = np.array([4,3,2,1,0,-1,-2,-3,-4])\n",
    "xt = np.array([-4, 1])\n",
    "yt = 0\n",
    "etat = 0.1\n",
    "SGDone(wt,xt,yt,etat)"
   ]
  },
  {
   "cell_type": "code",
   "execution_count": 313,
   "metadata": {},
   "outputs": [
    {
     "name": "stdout",
     "output_type": "stream",
     "text": [
      "[ 0.1 -0.2  0.3 -0.4  0.5 -0.6  0.7 -0.8  0.9]\n",
      "0.02187382002816578\n",
      "[ 0.1        -0.2         0.3        -0.39688623  0.50311377 -0.60311377\n",
      "  0.70345974 -0.8         0.90242182]\n",
      "0.0214081824552301\n"
     ]
    }
   ],
   "source": [
    "w = np.array([0.1,-0.2,0.3,-0.4,0.5,-0.6,0.7,-0.8,0.9])\n",
    "x = np.array([1, -1])\n",
    "y = 1\n",
    "eta = 0.1\n",
    "SGDone(w,x,y,eta)"
   ]
  },
  {
   "cell_type": "code",
   "execution_count": 305,
   "metadata": {},
   "outputs": [
    {
     "data": {
      "text/plain": [
       "array([[0.637257, 0.558213, 1.      ],\n",
       "       [0.029207, 0.485894, 0.      ],\n",
       "       [0.23225 , 0.36303 , 0.      ],\n",
       "       ...,\n",
       "       [0.960783, 0.053292, 1.      ],\n",
       "       [0.706236, 0.896229, 1.      ],\n",
       "       [0.484345, 0.037497, 0.      ]])"
      ]
     },
     "execution_count": 305,
     "metadata": {},
     "output_type": "execute_result"
    }
   ],
   "source": [
    "tmp = []\n",
    "with open('HW6/data.txt', 'r') as file:\n",
    "    for row in file:\n",
    "        row = row.replace('\\n', '')\n",
    "        tmp.append(row.split(' '))\n",
    "Data = np.array(tmp).astype('float')\n",
    "Data"
   ]
  },
  {
   "cell_type": "code",
   "execution_count": 306,
   "metadata": {},
   "outputs": [
    {
     "data": {
      "text/plain": [
       "(760, 3)"
      ]
     },
     "execution_count": 306,
     "metadata": {},
     "output_type": "execute_result"
    }
   ],
   "source": [
    "Data.shape"
   ]
  },
  {
   "cell_type": "code",
   "execution_count": 310,
   "metadata": {},
   "outputs": [
    {
     "data": {
      "text/plain": [
       "array([[0.099204, 0.837743, 0.      ],\n",
       "       [0.147915, 0.783115, 0.      ],\n",
       "       [0.420044, 0.450535, 0.      ],\n",
       "       ...,\n",
       "       [0.03745 , 0.061105, 0.      ],\n",
       "       [0.168873, 0.090107, 0.      ],\n",
       "       [0.977728, 0.167699, 1.      ]])"
      ]
     },
     "execution_count": 310,
     "metadata": {},
     "output_type": "execute_result"
    }
   ],
   "source": [
    "np.random.shuffle(Data)\n",
    "Data"
   ]
  },
  {
   "cell_type": "code",
   "execution_count": 317,
   "metadata": {},
   "outputs": [
    {
     "data": {
      "text/plain": [
       "0.0"
      ]
     },
     "execution_count": 317,
     "metadata": {},
     "output_type": "execute_result"
    }
   ],
   "source": [
    "Data[0,0:2]"
   ]
  },
  {
   "cell_type": "code",
   "execution_count": 337,
   "metadata": {},
   "outputs": [],
   "source": [
    "w = np.array([0.1,-0.2,0.3,-0.4,0.5,-0.6,0.7,-0.8,0.9])\n",
    "eta = 0.1\n",
    "Esuml = []\n",
    "Esumn = []\n",
    "Esum = 0\n",
    "for i in range(1,10001):\n",
    "    np.random.shuffle(Data)\n",
    "    x = Data[0,0:2]\n",
    "    y = Data[0,2]\n",
    "    if i % 100 == 0:\n",
    "        Esuml.append(Esum)\n",
    "        Esumn.append(i)\n",
    "        Esum = 0\n",
    "    # error\n",
    "    E,_,_ = netC(w,x,y)\n",
    "    wn, En = netwup(w,x,y,eta)\n",
    "    Esum += E\n",
    "    w = wn"
   ]
  },
  {
   "cell_type": "code",
   "execution_count": 338,
   "metadata": {},
   "outputs": [
    {
     "data": {
      "text/plain": [
       "<matplotlib.legend.Legend at 0x7f67b94f2a20>"
      ]
     },
     "execution_count": 338,
     "metadata": {},
     "output_type": "execute_result"
    },
    {
     "data": {
      "image/png": "[encoded data removed]",
      "text/plain": [
       "<Figure size 576x576 with 1 Axes>"
      ]
     },
     "metadata": {
      "needs_background": "light"
     },
     "output_type": "display_data"
    }
   ],
   "source": [
    "fig,ax = plt.subplots(1,1,figsize=(8,8))\n",
    "ax.plot(Esumn, Esuml, c = 'b')\n",
    "ax.set_xlabel('$i$', fontsize=20)\n",
    "ax.set_ylabel('$E$', fontsize=20)\n",
    "ax.legend(['Error'], fontsize=20)"
   ]
  },
  {
   "cell_type": "code",
   "execution_count": 339,
   "metadata": {},
   "outputs": [
    {
     "data": {
      "text/plain": [
       "100"
      ]
     },
     "execution_count": 339,
     "metadata": {},
     "output_type": "execute_result"
    }
   ],
   "source": [
    "len(Esuml)"
   ]
  },
  {
   "cell_type": "code",
   "execution_count": null,
   "metadata": {},
   "outputs": [],
   "source": []
  }
 ],
 "metadata": {
  "kernelspec": {
   "display_name": "Python 3",
   "language": "python",
   "name": "python3"
  },
  "language_info": {
   "codemirror_mode": {
    "name": "ipython",
    "version": 3
   },
   "file_extension": ".py",
   "mimetype": "text/x-python",
   "name": "python",
   "nbconvert_exporter": "python",
   "pygments_lexer": "ipython3",
   "version": "3.6.9"
  },
  "varInspector": {
   "cols": {
    "lenName": 16,
    "lenType": 16,
    "lenVar": 40
   },
   "kernels_config": {
    "python": {
     "delete_cmd_postfix": "",
     "delete_cmd_prefix": "del ",
     "library": "var_list.py",
     "varRefreshCmd": "print(var_dic_list())"
    },
    "r": {
     "delete_cmd_postfix": ") ",
     "delete_cmd_prefix": "rm(",
     "library": "var_list.r",
     "varRefreshCmd": "cat(var_dic_list()) "
    }
   },
   "types_to_exclude": [
    "module",
    "function",
    "builtin_function_or_method",
    "instance",
    "_Feature"
   ],
   "window_display": false
  }
 },
 "nbformat": 4,
 "nbformat_minor": 4
}
